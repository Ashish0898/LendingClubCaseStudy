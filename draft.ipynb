{
 "cells": [
  {
   "cell_type": "markdown",
   "id": "a6f06fe0",
   "metadata": {
    "papermill": {
     "duration": 0.014795,
     "end_time": "2022-08-03T08:03:30.790376",
     "exception": false,
     "start_time": "2022-08-03T08:03:30.775581",
     "status": "completed"
    },
    "tags": []
   },
   "source": [
    "## Import libraries"
   ]
  },
  {
   "cell_type": "code",
   "execution_count": 1,
   "id": "6774bfe0",
   "metadata": {
    "execution": {
     "iopub.execute_input": "2022-08-03T08:03:30.819618Z",
     "iopub.status.busy": "2022-08-03T08:03:30.818512Z",
     "iopub.status.idle": "2022-08-03T08:03:31.858611Z",
     "shell.execute_reply": "2022-08-03T08:03:31.857762Z"
    },
    "papermill": {
     "duration": 1.057317,
     "end_time": "2022-08-03T08:03:31.861330",
     "exception": false,
     "start_time": "2022-08-03T08:03:30.804013",
     "status": "completed"
    },
    "tags": []
   },
   "outputs": [],
   "source": [
    "import pandas as pd\n",
    "import numpy as np\n",
    "import matplotlib.pyplot as plt\n",
    "import seaborn as sns\n",
    "import datetime as dt"
   ]
  },
  {
   "cell_type": "code",
   "execution_count": 2,
   "id": "3860dd69",
   "metadata": {
    "execution": {
     "iopub.execute_input": "2022-08-03T08:03:31.893047Z",
     "iopub.status.busy": "2022-08-03T08:03:31.892644Z",
     "iopub.status.idle": "2022-08-03T08:03:32.978334Z",
     "shell.execute_reply": "2022-08-03T08:03:32.976966Z"
    },
    "papermill": {
     "duration": 1.105564,
     "end_time": "2022-08-03T08:03:32.983097",
     "exception": false,
     "start_time": "2022-08-03T08:03:31.877533",
     "status": "completed"
    },
    "tags": []
   },
   "outputs": [
    {
     "name": "stderr",
     "output_type": "stream",
     "text": [
      "/opt/conda/lib/python3.7/site-packages/IPython/core/interactiveshell.py:3552: DtypeWarning: Columns (47) have mixed types.Specify dtype option on import or set low_memory=False.\n",
      "  exec(code_obj, self.user_global_ns, self.user_ns)\n"
     ]
    }
   ],
   "source": [
    "df = pd.read_csv('../input/projectdata/loan.csv')"
   ]
  },
  {
   "cell_type": "code",
   "execution_count": 3,
   "id": "9bc7579e",
   "metadata": {
    "execution": {
     "iopub.execute_input": "2022-08-03T08:03:33.014439Z",
     "iopub.status.busy": "2022-08-03T08:03:33.014008Z",
     "iopub.status.idle": "2022-08-03T08:03:33.049034Z",
     "shell.execute_reply": "2022-08-03T08:03:33.047879Z"
    },
    "papermill": {
     "duration": 0.053803,
     "end_time": "2022-08-03T08:03:33.051778",
     "exception": false,
     "start_time": "2022-08-03T08:03:32.997975",
     "status": "completed"
    },
    "tags": []
   },
   "outputs": [
    {
     "data": {
      "text/html": [
       "<div>\n",
       "<style scoped>\n",
       "    .dataframe tbody tr th:only-of-type {\n",
       "        vertical-align: middle;\n",
       "    }\n",
       "\n",
       "    .dataframe tbody tr th {\n",
       "        vertical-align: top;\n",
       "    }\n",
       "\n",
       "    .dataframe thead th {\n",
       "        text-align: right;\n",
       "    }\n",
       "</style>\n",
       "<table border=\"1\" class=\"dataframe\">\n",
       "  <thead>\n",
       "    <tr style=\"text-align: right;\">\n",
       "      <th></th>\n",
       "      <th>id</th>\n",
       "      <th>member_id</th>\n",
       "      <th>loan_amnt</th>\n",
       "      <th>funded_amnt</th>\n",
       "      <th>funded_amnt_inv</th>\n",
       "      <th>term</th>\n",
       "      <th>int_rate</th>\n",
       "      <th>installment</th>\n",
       "      <th>grade</th>\n",
       "      <th>sub_grade</th>\n",
       "      <th>...</th>\n",
       "      <th>num_tl_90g_dpd_24m</th>\n",
       "      <th>num_tl_op_past_12m</th>\n",
       "      <th>pct_tl_nvr_dlq</th>\n",
       "      <th>percent_bc_gt_75</th>\n",
       "      <th>pub_rec_bankruptcies</th>\n",
       "      <th>tax_liens</th>\n",
       "      <th>tot_hi_cred_lim</th>\n",
       "      <th>total_bal_ex_mort</th>\n",
       "      <th>total_bc_limit</th>\n",
       "      <th>total_il_high_credit_limit</th>\n",
       "    </tr>\n",
       "  </thead>\n",
       "  <tbody>\n",
       "    <tr>\n",
       "      <th>0</th>\n",
       "      <td>1077501</td>\n",
       "      <td>1296599</td>\n",
       "      <td>5000</td>\n",
       "      <td>5000</td>\n",
       "      <td>4975.0</td>\n",
       "      <td>36 months</td>\n",
       "      <td>10.65%</td>\n",
       "      <td>162.87</td>\n",
       "      <td>B</td>\n",
       "      <td>B2</td>\n",
       "      <td>...</td>\n",
       "      <td>NaN</td>\n",
       "      <td>NaN</td>\n",
       "      <td>NaN</td>\n",
       "      <td>NaN</td>\n",
       "      <td>0.0</td>\n",
       "      <td>0.0</td>\n",
       "      <td>NaN</td>\n",
       "      <td>NaN</td>\n",
       "      <td>NaN</td>\n",
       "      <td>NaN</td>\n",
       "    </tr>\n",
       "    <tr>\n",
       "      <th>1</th>\n",
       "      <td>1077430</td>\n",
       "      <td>1314167</td>\n",
       "      <td>2500</td>\n",
       "      <td>2500</td>\n",
       "      <td>2500.0</td>\n",
       "      <td>60 months</td>\n",
       "      <td>15.27%</td>\n",
       "      <td>59.83</td>\n",
       "      <td>C</td>\n",
       "      <td>C4</td>\n",
       "      <td>...</td>\n",
       "      <td>NaN</td>\n",
       "      <td>NaN</td>\n",
       "      <td>NaN</td>\n",
       "      <td>NaN</td>\n",
       "      <td>0.0</td>\n",
       "      <td>0.0</td>\n",
       "      <td>NaN</td>\n",
       "      <td>NaN</td>\n",
       "      <td>NaN</td>\n",
       "      <td>NaN</td>\n",
       "    </tr>\n",
       "    <tr>\n",
       "      <th>2</th>\n",
       "      <td>1077175</td>\n",
       "      <td>1313524</td>\n",
       "      <td>2400</td>\n",
       "      <td>2400</td>\n",
       "      <td>2400.0</td>\n",
       "      <td>36 months</td>\n",
       "      <td>15.96%</td>\n",
       "      <td>84.33</td>\n",
       "      <td>C</td>\n",
       "      <td>C5</td>\n",
       "      <td>...</td>\n",
       "      <td>NaN</td>\n",
       "      <td>NaN</td>\n",
       "      <td>NaN</td>\n",
       "      <td>NaN</td>\n",
       "      <td>0.0</td>\n",
       "      <td>0.0</td>\n",
       "      <td>NaN</td>\n",
       "      <td>NaN</td>\n",
       "      <td>NaN</td>\n",
       "      <td>NaN</td>\n",
       "    </tr>\n",
       "    <tr>\n",
       "      <th>3</th>\n",
       "      <td>1076863</td>\n",
       "      <td>1277178</td>\n",
       "      <td>10000</td>\n",
       "      <td>10000</td>\n",
       "      <td>10000.0</td>\n",
       "      <td>36 months</td>\n",
       "      <td>13.49%</td>\n",
       "      <td>339.31</td>\n",
       "      <td>C</td>\n",
       "      <td>C1</td>\n",
       "      <td>...</td>\n",
       "      <td>NaN</td>\n",
       "      <td>NaN</td>\n",
       "      <td>NaN</td>\n",
       "      <td>NaN</td>\n",
       "      <td>0.0</td>\n",
       "      <td>0.0</td>\n",
       "      <td>NaN</td>\n",
       "      <td>NaN</td>\n",
       "      <td>NaN</td>\n",
       "      <td>NaN</td>\n",
       "    </tr>\n",
       "    <tr>\n",
       "      <th>4</th>\n",
       "      <td>1075358</td>\n",
       "      <td>1311748</td>\n",
       "      <td>3000</td>\n",
       "      <td>3000</td>\n",
       "      <td>3000.0</td>\n",
       "      <td>60 months</td>\n",
       "      <td>12.69%</td>\n",
       "      <td>67.79</td>\n",
       "      <td>B</td>\n",
       "      <td>B5</td>\n",
       "      <td>...</td>\n",
       "      <td>NaN</td>\n",
       "      <td>NaN</td>\n",
       "      <td>NaN</td>\n",
       "      <td>NaN</td>\n",
       "      <td>0.0</td>\n",
       "      <td>0.0</td>\n",
       "      <td>NaN</td>\n",
       "      <td>NaN</td>\n",
       "      <td>NaN</td>\n",
       "      <td>NaN</td>\n",
       "    </tr>\n",
       "  </tbody>\n",
       "</table>\n",
       "<p>5 rows × 111 columns</p>\n",
       "</div>"
      ],
      "text/plain": [
       "        id  member_id  loan_amnt  funded_amnt  funded_amnt_inv        term  \\\n",
       "0  1077501    1296599       5000         5000           4975.0   36 months   \n",
       "1  1077430    1314167       2500         2500           2500.0   60 months   \n",
       "2  1077175    1313524       2400         2400           2400.0   36 months   \n",
       "3  1076863    1277178      10000        10000          10000.0   36 months   \n",
       "4  1075358    1311748       3000         3000           3000.0   60 months   \n",
       "\n",
       "  int_rate  installment grade sub_grade  ... num_tl_90g_dpd_24m  \\\n",
       "0   10.65%       162.87     B        B2  ...                NaN   \n",
       "1   15.27%        59.83     C        C4  ...                NaN   \n",
       "2   15.96%        84.33     C        C5  ...                NaN   \n",
       "3   13.49%       339.31     C        C1  ...                NaN   \n",
       "4   12.69%        67.79     B        B5  ...                NaN   \n",
       "\n",
       "  num_tl_op_past_12m pct_tl_nvr_dlq  percent_bc_gt_75 pub_rec_bankruptcies  \\\n",
       "0                NaN            NaN               NaN                  0.0   \n",
       "1                NaN            NaN               NaN                  0.0   \n",
       "2                NaN            NaN               NaN                  0.0   \n",
       "3                NaN            NaN               NaN                  0.0   \n",
       "4                NaN            NaN               NaN                  0.0   \n",
       "\n",
       "  tax_liens tot_hi_cred_lim total_bal_ex_mort total_bc_limit  \\\n",
       "0       0.0             NaN               NaN            NaN   \n",
       "1       0.0             NaN               NaN            NaN   \n",
       "2       0.0             NaN               NaN            NaN   \n",
       "3       0.0             NaN               NaN            NaN   \n",
       "4       0.0             NaN               NaN            NaN   \n",
       "\n",
       "  total_il_high_credit_limit  \n",
       "0                        NaN  \n",
       "1                        NaN  \n",
       "2                        NaN  \n",
       "3                        NaN  \n",
       "4                        NaN  \n",
       "\n",
       "[5 rows x 111 columns]"
      ]
     },
     "execution_count": 3,
     "metadata": {},
     "output_type": "execute_result"
    }
   ],
   "source": [
    "df.head()"
   ]
  },
  {
   "cell_type": "code",
   "execution_count": 4,
   "id": "648fd8db",
   "metadata": {
    "execution": {
     "iopub.execute_input": "2022-08-03T08:03:33.083514Z",
     "iopub.status.busy": "2022-08-03T08:03:33.081725Z",
     "iopub.status.idle": "2022-08-03T08:03:33.162916Z",
     "shell.execute_reply": "2022-08-03T08:03:33.161870Z"
    },
    "papermill": {
     "duration": 0.100615,
     "end_time": "2022-08-03T08:03:33.166850",
     "exception": false,
     "start_time": "2022-08-03T08:03:33.066235",
     "status": "completed"
    },
    "scrolled": true,
    "tags": []
   },
   "outputs": [
    {
     "name": "stderr",
     "output_type": "stream",
     "text": [
      "/opt/conda/lib/python3.7/site-packages/ipykernel_launcher.py:1: FutureWarning: null_counts is deprecated. Use show_counts instead\n",
      "  \"\"\"Entry point for launching an IPython kernel.\n"
     ]
    },
    {
     "name": "stdout",
     "output_type": "stream",
     "text": [
      "<class 'pandas.core.frame.DataFrame'>\n",
      "RangeIndex: 39717 entries, 0 to 39716\n",
      "Data columns (total 111 columns):\n",
      " #    Column                          Non-Null Count  Dtype  \n",
      "---   ------                          --------------  -----  \n",
      " 0    id                              39717 non-null  int64  \n",
      " 1    member_id                       39717 non-null  int64  \n",
      " 2    loan_amnt                       39717 non-null  int64  \n",
      " 3    funded_amnt                     39717 non-null  int64  \n",
      " 4    funded_amnt_inv                 39717 non-null  float64\n",
      " 5    term                            39717 non-null  object \n",
      " 6    int_rate                        39717 non-null  object \n",
      " 7    installment                     39717 non-null  float64\n",
      " 8    grade                           39717 non-null  object \n",
      " 9    sub_grade                       39717 non-null  object \n",
      " 10   emp_title                       37258 non-null  object \n",
      " 11   emp_length                      38642 non-null  object \n",
      " 12   home_ownership                  39717 non-null  object \n",
      " 13   annual_inc                      39717 non-null  float64\n",
      " 14   verification_status             39717 non-null  object \n",
      " 15   issue_d                         39717 non-null  object \n",
      " 16   loan_status                     39717 non-null  object \n",
      " 17   pymnt_plan                      39717 non-null  object \n",
      " 18   url                             39717 non-null  object \n",
      " 19   desc                            26777 non-null  object \n",
      " 20   purpose                         39717 non-null  object \n",
      " 21   title                           39706 non-null  object \n",
      " 22   zip_code                        39717 non-null  object \n",
      " 23   addr_state                      39717 non-null  object \n",
      " 24   dti                             39717 non-null  float64\n",
      " 25   delinq_2yrs                     39717 non-null  int64  \n",
      " 26   earliest_cr_line                39717 non-null  object \n",
      " 27   inq_last_6mths                  39717 non-null  int64  \n",
      " 28   mths_since_last_delinq          14035 non-null  float64\n",
      " 29   mths_since_last_record          2786 non-null   float64\n",
      " 30   open_acc                        39717 non-null  int64  \n",
      " 31   pub_rec                         39717 non-null  int64  \n",
      " 32   revol_bal                       39717 non-null  int64  \n",
      " 33   revol_util                      39667 non-null  object \n",
      " 34   total_acc                       39717 non-null  int64  \n",
      " 35   initial_list_status             39717 non-null  object \n",
      " 36   out_prncp                       39717 non-null  float64\n",
      " 37   out_prncp_inv                   39717 non-null  float64\n",
      " 38   total_pymnt                     39717 non-null  float64\n",
      " 39   total_pymnt_inv                 39717 non-null  float64\n",
      " 40   total_rec_prncp                 39717 non-null  float64\n",
      " 41   total_rec_int                   39717 non-null  float64\n",
      " 42   total_rec_late_fee              39717 non-null  float64\n",
      " 43   recoveries                      39717 non-null  float64\n",
      " 44   collection_recovery_fee         39717 non-null  float64\n",
      " 45   last_pymnt_d                    39646 non-null  object \n",
      " 46   last_pymnt_amnt                 39717 non-null  float64\n",
      " 47   next_pymnt_d                    1140 non-null   object \n",
      " 48   last_credit_pull_d              39715 non-null  object \n",
      " 49   collections_12_mths_ex_med      39661 non-null  float64\n",
      " 50   mths_since_last_major_derog     0 non-null      float64\n",
      " 51   policy_code                     39717 non-null  int64  \n",
      " 52   application_type                39717 non-null  object \n",
      " 53   annual_inc_joint                0 non-null      float64\n",
      " 54   dti_joint                       0 non-null      float64\n",
      " 55   verification_status_joint       0 non-null      float64\n",
      " 56   acc_now_delinq                  39717 non-null  int64  \n",
      " 57   tot_coll_amt                    0 non-null      float64\n",
      " 58   tot_cur_bal                     0 non-null      float64\n",
      " 59   open_acc_6m                     0 non-null      float64\n",
      " 60   open_il_6m                      0 non-null      float64\n",
      " 61   open_il_12m                     0 non-null      float64\n",
      " 62   open_il_24m                     0 non-null      float64\n",
      " 63   mths_since_rcnt_il              0 non-null      float64\n",
      " 64   total_bal_il                    0 non-null      float64\n",
      " 65   il_util                         0 non-null      float64\n",
      " 66   open_rv_12m                     0 non-null      float64\n",
      " 67   open_rv_24m                     0 non-null      float64\n",
      " 68   max_bal_bc                      0 non-null      float64\n",
      " 69   all_util                        0 non-null      float64\n",
      " 70   total_rev_hi_lim                0 non-null      float64\n",
      " 71   inq_fi                          0 non-null      float64\n",
      " 72   total_cu_tl                     0 non-null      float64\n",
      " 73   inq_last_12m                    0 non-null      float64\n",
      " 74   acc_open_past_24mths            0 non-null      float64\n",
      " 75   avg_cur_bal                     0 non-null      float64\n",
      " 76   bc_open_to_buy                  0 non-null      float64\n",
      " 77   bc_util                         0 non-null      float64\n",
      " 78   chargeoff_within_12_mths        39661 non-null  float64\n",
      " 79   delinq_amnt                     39717 non-null  int64  \n",
      " 80   mo_sin_old_il_acct              0 non-null      float64\n",
      " 81   mo_sin_old_rev_tl_op            0 non-null      float64\n",
      " 82   mo_sin_rcnt_rev_tl_op           0 non-null      float64\n",
      " 83   mo_sin_rcnt_tl                  0 non-null      float64\n",
      " 84   mort_acc                        0 non-null      float64\n",
      " 85   mths_since_recent_bc            0 non-null      float64\n",
      " 86   mths_since_recent_bc_dlq        0 non-null      float64\n",
      " 87   mths_since_recent_inq           0 non-null      float64\n",
      " 88   mths_since_recent_revol_delinq  0 non-null      float64\n",
      " 89   num_accts_ever_120_pd           0 non-null      float64\n",
      " 90   num_actv_bc_tl                  0 non-null      float64\n",
      " 91   num_actv_rev_tl                 0 non-null      float64\n",
      " 92   num_bc_sats                     0 non-null      float64\n",
      " 93   num_bc_tl                       0 non-null      float64\n",
      " 94   num_il_tl                       0 non-null      float64\n",
      " 95   num_op_rev_tl                   0 non-null      float64\n",
      " 96   num_rev_accts                   0 non-null      float64\n",
      " 97   num_rev_tl_bal_gt_0             0 non-null      float64\n",
      " 98   num_sats                        0 non-null      float64\n",
      " 99   num_tl_120dpd_2m                0 non-null      float64\n",
      " 100  num_tl_30dpd                    0 non-null      float64\n",
      " 101  num_tl_90g_dpd_24m              0 non-null      float64\n",
      " 102  num_tl_op_past_12m              0 non-null      float64\n",
      " 103  pct_tl_nvr_dlq                  0 non-null      float64\n",
      " 104  percent_bc_gt_75                0 non-null      float64\n",
      " 105  pub_rec_bankruptcies            39020 non-null  float64\n",
      " 106  tax_liens                       39678 non-null  float64\n",
      " 107  tot_hi_cred_lim                 0 non-null      float64\n",
      " 108  total_bal_ex_mort               0 non-null      float64\n",
      " 109  total_bc_limit                  0 non-null      float64\n",
      " 110  total_il_high_credit_limit      0 non-null      float64\n",
      "dtypes: float64(74), int64(13), object(24)\n",
      "memory usage: 33.6+ MB\n"
     ]
    }
   ],
   "source": [
    "df.info(verbose=True, null_counts=True)"
   ]
  },
  {
   "cell_type": "markdown",
   "id": "a75af4d0",
   "metadata": {
    "papermill": {
     "duration": 0.013332,
     "end_time": "2022-08-03T08:03:33.195255",
     "exception": false,
     "start_time": "2022-08-03T08:03:33.181923",
     "status": "completed"
    },
    "tags": []
   },
   "source": [
    "## Drop all null columns"
   ]
  },
  {
   "cell_type": "code",
   "execution_count": 5,
   "id": "16bd94f6",
   "metadata": {
    "execution": {
     "iopub.execute_input": "2022-08-03T08:03:33.226755Z",
     "iopub.status.busy": "2022-08-03T08:03:33.225673Z",
     "iopub.status.idle": "2022-08-03T08:03:33.293477Z",
     "shell.execute_reply": "2022-08-03T08:03:33.292438Z"
    },
    "papermill": {
     "duration": 0.086807,
     "end_time": "2022-08-03T08:03:33.296067",
     "exception": false,
     "start_time": "2022-08-03T08:03:33.209260",
     "status": "completed"
    },
    "tags": []
   },
   "outputs": [],
   "source": [
    "df.dropna(axis=1, how='all', inplace=True)"
   ]
  },
  {
   "cell_type": "markdown",
   "id": "b218227a",
   "metadata": {
    "papermill": {
     "duration": 0.013969,
     "end_time": "2022-08-03T08:03:33.324724",
     "exception": false,
     "start_time": "2022-08-03T08:03:33.310755",
     "status": "completed"
    },
    "tags": []
   },
   "source": [
    "## Below listed are columns which are already clean"
   ]
  },
  {
   "cell_type": "code",
   "execution_count": 6,
   "id": "ba143eb9",
   "metadata": {
    "execution": {
     "iopub.execute_input": "2022-08-03T08:03:33.354751Z",
     "iopub.status.busy": "2022-08-03T08:03:33.354367Z",
     "iopub.status.idle": "2022-08-03T08:03:33.371788Z",
     "shell.execute_reply": "2022-08-03T08:03:33.370759Z"
    },
    "papermill": {
     "duration": 0.035527,
     "end_time": "2022-08-03T08:03:33.374391",
     "exception": false,
     "start_time": "2022-08-03T08:03:33.338864",
     "status": "completed"
    },
    "tags": []
   },
   "outputs": [
    {
     "data": {
      "text/plain": [
       "0.00       74\n",
       "276.06     21\n",
       "200.00     17\n",
       "50.00      16\n",
       "100.00     15\n",
       "           ..\n",
       "1763.87     1\n",
       "172.27      1\n",
       "889.67      1\n",
       "150.73      1\n",
       "256.59      1\n",
       "Name: last_pymnt_amnt, Length: 34930, dtype: int64"
      ]
     },
     "execution_count": 6,
     "metadata": {},
     "output_type": "execute_result"
    }
   ],
   "source": [
    "df['last_pymnt_amnt'].value_counts()"
   ]
  },
  {
   "cell_type": "code",
   "execution_count": 7,
   "id": "7d44ac7e",
   "metadata": {
    "execution": {
     "iopub.execute_input": "2022-08-03T08:03:33.406086Z",
     "iopub.status.busy": "2022-08-03T08:03:33.405395Z",
     "iopub.status.idle": "2022-08-03T08:03:33.420548Z",
     "shell.execute_reply": "2022-08-03T08:03:33.419446Z"
    },
    "papermill": {
     "duration": 0.033376,
     "end_time": "2022-08-03T08:03:33.422769",
     "exception": false,
     "start_time": "2022-08-03T08:03:33.389393",
     "status": "completed"
    },
    "tags": []
   },
   "outputs": [
    {
     "data": {
      "text/plain": [
       "0.00        165\n",
       "6514.52      16\n",
       "5478.39      14\n",
       "13148.14     14\n",
       "11196.57     12\n",
       "           ... \n",
       "17702.50      1\n",
       "19026.06      1\n",
       "7355.24       1\n",
       "387.55        1\n",
       "980.83        1\n",
       "Name: total_pymnt_inv, Length: 37518, dtype: int64"
      ]
     },
     "execution_count": 7,
     "metadata": {},
     "output_type": "execute_result"
    }
   ],
   "source": [
    "df['total_pymnt_inv'].value_counts()"
   ]
  },
  {
   "cell_type": "code",
   "execution_count": 8,
   "id": "6015c692",
   "metadata": {
    "execution": {
     "iopub.execute_input": "2022-08-03T08:03:33.454384Z",
     "iopub.status.busy": "2022-08-03T08:03:33.453944Z",
     "iopub.status.idle": "2022-08-03T08:03:33.465242Z",
     "shell.execute_reply": "2022-08-03T08:03:33.464239Z"
    },
    "papermill": {
     "duration": 0.029869,
     "end_time": "2022-08-03T08:03:33.467522",
     "exception": false,
     "start_time": "2022-08-03T08:03:33.437653",
     "status": "completed"
    },
    "tags": []
   },
   "outputs": [
    {
     "data": {
      "text/plain": [
       "10000.00    2293\n",
       "12000.00    1805\n",
       "5000.00     1702\n",
       "6000.00     1637\n",
       "15000.00    1400\n",
       "            ... \n",
       "1097.81        1\n",
       "1410.30        1\n",
       "6968.65        1\n",
       "3477.49        1\n",
       "16077.42       1\n",
       "Name: total_rec_prncp, Length: 7976, dtype: int64"
      ]
     },
     "execution_count": 8,
     "metadata": {},
     "output_type": "execute_result"
    }
   ],
   "source": [
    "df['total_rec_prncp'].value_counts()"
   ]
  },
  {
   "cell_type": "code",
   "execution_count": 9,
   "id": "0f6b674b",
   "metadata": {
    "execution": {
     "iopub.execute_input": "2022-08-03T08:03:33.499473Z",
     "iopub.status.busy": "2022-08-03T08:03:33.499061Z",
     "iopub.status.idle": "2022-08-03T08:03:33.513450Z",
     "shell.execute_reply": "2022-08-03T08:03:33.512370Z"
    },
    "papermill": {
     "duration": 0.033497,
     "end_time": "2022-08-03T08:03:33.515894",
     "exception": false,
     "start_time": "2022-08-03T08:03:33.482397",
     "status": "completed"
    },
    "tags": []
   },
   "outputs": [
    {
     "data": {
      "text/plain": [
       "0.00       71\n",
       "1196.57    26\n",
       "514.52     19\n",
       "956.78     17\n",
       "1784.23    17\n",
       "           ..\n",
       "494.53      1\n",
       "1119.88     1\n",
       "62.31       1\n",
       "2656.10     1\n",
       "1695.26     1\n",
       "Name: total_rec_int, Length: 35148, dtype: int64"
      ]
     },
     "execution_count": 9,
     "metadata": {},
     "output_type": "execute_result"
    }
   ],
   "source": [
    "df['total_rec_int'].value_counts()"
   ]
  },
  {
   "cell_type": "code",
   "execution_count": 10,
   "id": "b1a2b629",
   "metadata": {
    "execution": {
     "iopub.execute_input": "2022-08-03T08:03:33.548299Z",
     "iopub.status.busy": "2022-08-03T08:03:33.547208Z",
     "iopub.status.idle": "2022-08-03T08:03:33.556488Z",
     "shell.execute_reply": "2022-08-03T08:03:33.555735Z"
    },
    "papermill": {
     "duration": 0.02752,
     "end_time": "2022-08-03T08:03:33.558491",
     "exception": false,
     "start_time": "2022-08-03T08:03:33.530971",
     "status": "completed"
    },
    "tags": []
   },
   "outputs": [
    {
     "data": {
      "text/plain": [
       "0.000000     37671\n",
       "15.000000      255\n",
       "15.000000       58\n",
       "30.000000       55\n",
       "15.000000       47\n",
       "             ...  \n",
       "35.286832        1\n",
       "15.000000        1\n",
       "14.777500        1\n",
       "14.967774        1\n",
       "19.890000        1\n",
       "Name: total_rec_late_fee, Length: 1356, dtype: int64"
      ]
     },
     "execution_count": 10,
     "metadata": {},
     "output_type": "execute_result"
    }
   ],
   "source": [
    "df['total_rec_late_fee'].value_counts()"
   ]
  },
  {
   "cell_type": "code",
   "execution_count": 11,
   "id": "60de45bc",
   "metadata": {
    "execution": {
     "iopub.execute_input": "2022-08-03T08:03:33.591669Z",
     "iopub.status.busy": "2022-08-03T08:03:33.591085Z",
     "iopub.status.idle": "2022-08-03T08:03:33.601211Z",
     "shell.execute_reply": "2022-08-03T08:03:33.600359Z"
    },
    "papermill": {
     "duration": 0.02888,
     "end_time": "2022-08-03T08:03:33.603054",
     "exception": false,
     "start_time": "2022-08-03T08:03:33.574174",
     "status": "completed"
    },
    "tags": []
   },
   "outputs": [
    {
     "data": {
      "text/plain": [
       "0.00       35499\n",
       "11.29          4\n",
       "10.40          4\n",
       "10.66          3\n",
       "44.92          3\n",
       "           ...  \n",
       "764.69         1\n",
       "653.08         1\n",
       "1080.96        1\n",
       "878.19         1\n",
       "21.29          1\n",
       "Name: recoveries, Length: 4040, dtype: int64"
      ]
     },
     "execution_count": 11,
     "metadata": {},
     "output_type": "execute_result"
    }
   ],
   "source": [
    "df['recoveries'].value_counts()"
   ]
  },
  {
   "cell_type": "code",
   "execution_count": 12,
   "id": "9f7be541",
   "metadata": {
    "execution": {
     "iopub.execute_input": "2022-08-03T08:03:33.634793Z",
     "iopub.status.busy": "2022-08-03T08:03:33.634437Z",
     "iopub.status.idle": "2022-08-03T08:03:33.643736Z",
     "shell.execute_reply": "2022-08-03T08:03:33.642687Z"
    },
    "papermill": {
     "duration": 0.027719,
     "end_time": "2022-08-03T08:03:33.645779",
     "exception": false,
     "start_time": "2022-08-03T08:03:33.618060",
     "status": "completed"
    },
    "tags": []
   },
   "outputs": [
    {
     "data": {
      "text/plain": [
       "0.0000      35935\n",
       "2.0000         12\n",
       "1.2000         10\n",
       "3.7100          9\n",
       "1.8800          8\n",
       "            ...  \n",
       "3.7900          1\n",
       "773.4900        1\n",
       "272.8250        1\n",
       "1.7697          1\n",
       "0.2300          1\n",
       "Name: collection_recovery_fee, Length: 2616, dtype: int64"
      ]
     },
     "execution_count": 12,
     "metadata": {},
     "output_type": "execute_result"
    }
   ],
   "source": [
    "df['collection_recovery_fee'].value_counts()"
   ]
  },
  {
   "cell_type": "code",
   "execution_count": 13,
   "id": "9cd6d877",
   "metadata": {
    "execution": {
     "iopub.execute_input": "2022-08-03T08:03:33.678533Z",
     "iopub.status.busy": "2022-08-03T08:03:33.677798Z",
     "iopub.status.idle": "2022-08-03T08:03:33.688804Z",
     "shell.execute_reply": "2022-08-03T08:03:33.687795Z"
    },
    "papermill": {
     "duration": 0.029769,
     "end_time": "2022-08-03T08:03:33.690822",
     "exception": false,
     "start_time": "2022-08-03T08:03:33.661053",
     "status": "completed"
    },
    "tags": []
   },
   "outputs": [
    {
     "data": {
      "text/plain": [
       "debt_consolidation    18641\n",
       "credit_card            5130\n",
       "other                  3993\n",
       "home_improvement       2976\n",
       "major_purchase         2187\n",
       "small_business         1828\n",
       "car                    1549\n",
       "wedding                 947\n",
       "medical                 693\n",
       "moving                  583\n",
       "vacation                381\n",
       "house                   381\n",
       "educational             325\n",
       "renewable_energy        103\n",
       "Name: purpose, dtype: int64"
      ]
     },
     "execution_count": 13,
     "metadata": {},
     "output_type": "execute_result"
    }
   ],
   "source": [
    "df['purpose'].value_counts()"
   ]
  },
  {
   "cell_type": "code",
   "execution_count": 14,
   "id": "6bf7cfd0",
   "metadata": {
    "execution": {
     "iopub.execute_input": "2022-08-03T08:03:33.723122Z",
     "iopub.status.busy": "2022-08-03T08:03:33.722442Z",
     "iopub.status.idle": "2022-08-03T08:03:33.732823Z",
     "shell.execute_reply": "2022-08-03T08:03:33.732157Z"
    },
    "papermill": {
     "duration": 0.028853,
     "end_time": "2022-08-03T08:03:33.734774",
     "exception": false,
     "start_time": "2022-08-03T08:03:33.705921",
     "status": "completed"
    },
    "tags": []
   },
   "outputs": [
    {
     "data": {
      "text/plain": [
       "100xx    597\n",
       "945xx    545\n",
       "112xx    516\n",
       "606xx    503\n",
       "070xx    473\n",
       "        ... \n",
       "381xx      1\n",
       "378xx      1\n",
       "739xx      1\n",
       "396xx      1\n",
       "469xx      1\n",
       "Name: zip_code, Length: 823, dtype: int64"
      ]
     },
     "execution_count": 14,
     "metadata": {},
     "output_type": "execute_result"
    }
   ],
   "source": [
    "df['zip_code'].value_counts()"
   ]
  },
  {
   "cell_type": "code",
   "execution_count": 15,
   "id": "5f2fe3bf",
   "metadata": {
    "execution": {
     "iopub.execute_input": "2022-08-03T08:03:33.768442Z",
     "iopub.status.busy": "2022-08-03T08:03:33.767730Z",
     "iopub.status.idle": "2022-08-03T08:03:33.778265Z",
     "shell.execute_reply": "2022-08-03T08:03:33.777293Z"
    },
    "papermill": {
     "duration": 0.029997,
     "end_time": "2022-08-03T08:03:33.780365",
     "exception": false,
     "start_time": "2022-08-03T08:03:33.750368",
     "status": "completed"
    },
    "tags": []
   },
   "outputs": [
    {
     "data": {
      "text/plain": [
       "CA    7099\n",
       "NY    3812\n",
       "FL    2866\n",
       "TX    2727\n",
       "NJ    1850\n",
       "IL    1525\n",
       "PA    1517\n",
       "VA    1407\n",
       "GA    1398\n",
       "MA    1340\n",
       "OH    1223\n",
       "MD    1049\n",
       "AZ     879\n",
       "WA     840\n",
       "CO     792\n",
       "NC     788\n",
       "CT     751\n",
       "MI     720\n",
       "MO     686\n",
       "MN     615\n",
       "NV     497\n",
       "SC     472\n",
       "WI     460\n",
       "AL     452\n",
       "OR     451\n",
       "LA     436\n",
       "KY     325\n",
       "OK     299\n",
       "KS     271\n",
       "UT     258\n",
       "AR     245\n",
       "DC     214\n",
       "RI     198\n",
       "NM     189\n",
       "WV     177\n",
       "HI     174\n",
       "NH     171\n",
       "DE     114\n",
       "MT      85\n",
       "WY      83\n",
       "AK      80\n",
       "SD      64\n",
       "VT      54\n",
       "MS      19\n",
       "TN      17\n",
       "IN       9\n",
       "ID       6\n",
       "IA       5\n",
       "NE       5\n",
       "ME       3\n",
       "Name: addr_state, dtype: int64"
      ]
     },
     "execution_count": 15,
     "metadata": {},
     "output_type": "execute_result"
    }
   ],
   "source": [
    "df['addr_state'].value_counts()"
   ]
  },
  {
   "cell_type": "code",
   "execution_count": 16,
   "id": "1eb49140",
   "metadata": {
    "execution": {
     "iopub.execute_input": "2022-08-03T08:03:33.813294Z",
     "iopub.status.busy": "2022-08-03T08:03:33.812756Z",
     "iopub.status.idle": "2022-08-03T08:03:33.823318Z",
     "shell.execute_reply": "2022-08-03T08:03:33.822152Z"
    },
    "papermill": {
     "duration": 0.029923,
     "end_time": "2022-08-03T08:03:33.825707",
     "exception": false,
     "start_time": "2022-08-03T08:03:33.795784",
     "status": "completed"
    },
    "tags": []
   },
   "outputs": [
    {
     "data": {
      "text/plain": [
       "0.00     183\n",
       "12.00     51\n",
       "18.00     45\n",
       "19.20     40\n",
       "13.20     39\n",
       "        ... \n",
       "29.13      1\n",
       "25.31      1\n",
       "29.76      1\n",
       "28.42      1\n",
       "25.43      1\n",
       "Name: dti, Length: 2868, dtype: int64"
      ]
     },
     "execution_count": 16,
     "metadata": {},
     "output_type": "execute_result"
    }
   ],
   "source": [
    "df['dti'].value_counts()"
   ]
  },
  {
   "cell_type": "code",
   "execution_count": 17,
   "id": "1a4af6ba",
   "metadata": {
    "execution": {
     "iopub.execute_input": "2022-08-03T08:03:33.858735Z",
     "iopub.status.busy": "2022-08-03T08:03:33.858335Z",
     "iopub.status.idle": "2022-08-03T08:03:33.865941Z",
     "shell.execute_reply": "2022-08-03T08:03:33.865263Z"
    },
    "papermill": {
     "duration": 0.026313,
     "end_time": "2022-08-03T08:03:33.867994",
     "exception": false,
     "start_time": "2022-08-03T08:03:33.841681",
     "status": "completed"
    },
    "tags": []
   },
   "outputs": [
    {
     "data": {
      "text/plain": [
       "0     35405\n",
       "1      3303\n",
       "2       687\n",
       "3       220\n",
       "4        62\n",
       "5        22\n",
       "6        10\n",
       "7         4\n",
       "8         2\n",
       "9         1\n",
       "11        1\n",
       "Name: delinq_2yrs, dtype: int64"
      ]
     },
     "execution_count": 17,
     "metadata": {},
     "output_type": "execute_result"
    }
   ],
   "source": [
    "df['delinq_2yrs'].value_counts()"
   ]
  },
  {
   "cell_type": "code",
   "execution_count": 18,
   "id": "d845c76f",
   "metadata": {
    "execution": {
     "iopub.execute_input": "2022-08-03T08:03:33.903276Z",
     "iopub.status.busy": "2022-08-03T08:03:33.902694Z",
     "iopub.status.idle": "2022-08-03T08:03:33.911784Z",
     "shell.execute_reply": "2022-08-03T08:03:33.910775Z"
    },
    "papermill": {
     "duration": 0.029578,
     "end_time": "2022-08-03T08:03:33.913903",
     "exception": false,
     "start_time": "2022-08-03T08:03:33.884325",
     "status": "completed"
    },
    "tags": []
   },
   "outputs": [
    {
     "data": {
      "text/plain": [
       "0    19300\n",
       "1    10971\n",
       "2     5812\n",
       "3     3048\n",
       "4      326\n",
       "5      146\n",
       "6       64\n",
       "7       35\n",
       "8       15\n",
       "Name: inq_last_6mths, dtype: int64"
      ]
     },
     "execution_count": 18,
     "metadata": {},
     "output_type": "execute_result"
    }
   ],
   "source": [
    "df['inq_last_6mths'].value_counts()"
   ]
  },
  {
   "cell_type": "code",
   "execution_count": 19,
   "id": "73f1276c",
   "metadata": {
    "execution": {
     "iopub.execute_input": "2022-08-03T08:03:33.949505Z",
     "iopub.status.busy": "2022-08-03T08:03:33.948528Z",
     "iopub.status.idle": "2022-08-03T08:03:33.957631Z",
     "shell.execute_reply": "2022-08-03T08:03:33.956663Z"
    },
    "papermill": {
     "duration": 0.029317,
     "end_time": "2022-08-03T08:03:33.959789",
     "exception": false,
     "start_time": "2022-08-03T08:03:33.930472",
     "status": "completed"
    },
    "tags": []
   },
   "outputs": [
    {
     "data": {
      "text/plain": [
       "7     4018\n",
       "6     3946\n",
       "8     3936\n",
       "9     3718\n",
       "10    3223\n",
       "5     3183\n",
       "11    2746\n",
       "4     2343\n",
       "12    2273\n",
       "13    1911\n",
       "3     1493\n",
       "14    1487\n",
       "15    1177\n",
       "16     940\n",
       "17     741\n",
       "2      605\n",
       "18     533\n",
       "19     396\n",
       "20     289\n",
       "21     244\n",
       "22     143\n",
       "23      97\n",
       "24      81\n",
       "25      55\n",
       "26      34\n",
       "28      25\n",
       "27      22\n",
       "30      15\n",
       "29      13\n",
       "31       7\n",
       "34       5\n",
       "32       4\n",
       "35       4\n",
       "33       3\n",
       "36       2\n",
       "39       1\n",
       "38       1\n",
       "44       1\n",
       "41       1\n",
       "42       1\n",
       "Name: open_acc, dtype: int64"
      ]
     },
     "execution_count": 19,
     "metadata": {},
     "output_type": "execute_result"
    }
   ],
   "source": [
    "df['open_acc'].value_counts()"
   ]
  },
  {
   "cell_type": "code",
   "execution_count": 20,
   "id": "b2efa933",
   "metadata": {
    "execution": {
     "iopub.execute_input": "2022-08-03T08:03:33.993623Z",
     "iopub.status.busy": "2022-08-03T08:03:33.993211Z",
     "iopub.status.idle": "2022-08-03T08:03:34.001815Z",
     "shell.execute_reply": "2022-08-03T08:03:34.000730Z"
    },
    "papermill": {
     "duration": 0.028109,
     "end_time": "2022-08-03T08:03:34.003918",
     "exception": false,
     "start_time": "2022-08-03T08:03:33.975809",
     "status": "completed"
    },
    "tags": []
   },
   "outputs": [
    {
     "data": {
      "text/plain": [
       "0    37601\n",
       "1     2056\n",
       "2       51\n",
       "3        7\n",
       "4        2\n",
       "Name: pub_rec, dtype: int64"
      ]
     },
     "execution_count": 20,
     "metadata": {},
     "output_type": "execute_result"
    }
   ],
   "source": [
    "df['pub_rec'].value_counts()"
   ]
  },
  {
   "cell_type": "code",
   "execution_count": 21,
   "id": "c2a1283d",
   "metadata": {
    "execution": {
     "iopub.execute_input": "2022-08-03T08:03:34.037734Z",
     "iopub.status.busy": "2022-08-03T08:03:34.037343Z",
     "iopub.status.idle": "2022-08-03T08:03:34.048731Z",
     "shell.execute_reply": "2022-08-03T08:03:34.047711Z"
    },
    "papermill": {
     "duration": 0.030415,
     "end_time": "2022-08-03T08:03:34.050908",
     "exception": false,
     "start_time": "2022-08-03T08:03:34.020493",
     "status": "completed"
    },
    "tags": []
   },
   "outputs": [
    {
     "data": {
      "text/plain": [
       "0        994\n",
       "298       14\n",
       "255       14\n",
       "1         12\n",
       "682       11\n",
       "        ... \n",
       "21424      1\n",
       "30747      1\n",
       "23862      1\n",
       "20197      1\n",
       "85607      1\n",
       "Name: revol_bal, Length: 21711, dtype: int64"
      ]
     },
     "execution_count": 21,
     "metadata": {},
     "output_type": "execute_result"
    }
   ],
   "source": [
    "df['revol_bal'].value_counts()"
   ]
  },
  {
   "cell_type": "code",
   "execution_count": 22,
   "id": "c0676857",
   "metadata": {
    "execution": {
     "iopub.execute_input": "2022-08-03T08:03:34.085139Z",
     "iopub.status.busy": "2022-08-03T08:03:34.084713Z",
     "iopub.status.idle": "2022-08-03T08:03:34.094049Z",
     "shell.execute_reply": "2022-08-03T08:03:34.093060Z"
    },
    "papermill": {
     "duration": 0.029715,
     "end_time": "2022-08-03T08:03:34.096247",
     "exception": false,
     "start_time": "2022-08-03T08:03:34.066532",
     "status": "completed"
    },
    "tags": []
   },
   "outputs": [
    {
     "data": {
      "text/plain": [
       "16    1471\n",
       "15    1462\n",
       "17    1457\n",
       "14    1445\n",
       "20    1428\n",
       "      ... \n",
       "74       1\n",
       "77       1\n",
       "78       1\n",
       "87       1\n",
       "90       1\n",
       "Name: total_acc, Length: 82, dtype: int64"
      ]
     },
     "execution_count": 22,
     "metadata": {},
     "output_type": "execute_result"
    }
   ],
   "source": [
    "df['total_acc'].value_counts()"
   ]
  },
  {
   "cell_type": "code",
   "execution_count": 23,
   "id": "88265f16",
   "metadata": {
    "execution": {
     "iopub.execute_input": "2022-08-03T08:03:34.130344Z",
     "iopub.status.busy": "2022-08-03T08:03:34.129937Z",
     "iopub.status.idle": "2022-08-03T08:03:34.139344Z",
     "shell.execute_reply": "2022-08-03T08:03:34.138282Z"
    },
    "papermill": {
     "duration": 0.029319,
     "end_time": "2022-08-03T08:03:34.141643",
     "exception": false,
     "start_time": "2022-08-03T08:03:34.112324",
     "status": "completed"
    },
    "tags": []
   },
   "outputs": [
    {
     "data": {
      "text/plain": [
       "0.00       38577\n",
       "1972.60        2\n",
       "827.13         2\n",
       "2277.11        2\n",
       "2963.24        2\n",
       "           ...  \n",
       "782.23         1\n",
       "2296.41        1\n",
       "1928.85        1\n",
       "1061.32        1\n",
       "79.24          1\n",
       "Name: out_prncp, Length: 1137, dtype: int64"
      ]
     },
     "execution_count": 23,
     "metadata": {},
     "output_type": "execute_result"
    }
   ],
   "source": [
    "df['out_prncp'].value_counts()"
   ]
  },
  {
   "cell_type": "code",
   "execution_count": 24,
   "id": "7e9a0c57",
   "metadata": {
    "execution": {
     "iopub.execute_input": "2022-08-03T08:03:34.175539Z",
     "iopub.status.busy": "2022-08-03T08:03:34.175144Z",
     "iopub.status.idle": "2022-08-03T08:03:34.185451Z",
     "shell.execute_reply": "2022-08-03T08:03:34.184269Z"
    },
    "papermill": {
     "duration": 0.030217,
     "end_time": "2022-08-03T08:03:34.187850",
     "exception": false,
     "start_time": "2022-08-03T08:03:34.157633",
     "status": "completed"
    },
    "tags": []
   },
   "outputs": [
    {
     "data": {
      "text/plain": [
       "0.00       38577\n",
       "1972.60        2\n",
       "1664.64        2\n",
       "827.13         2\n",
       "1863.21        1\n",
       "           ...  \n",
       "782.23         1\n",
       "2289.14        1\n",
       "1928.85        1\n",
       "1061.32        1\n",
       "79.24          1\n",
       "Name: out_prncp_inv, Length: 1138, dtype: int64"
      ]
     },
     "execution_count": 24,
     "metadata": {},
     "output_type": "execute_result"
    }
   ],
   "source": [
    "df['out_prncp_inv'].value_counts()"
   ]
  },
  {
   "cell_type": "code",
   "execution_count": 25,
   "id": "1d4189cb",
   "metadata": {
    "execution": {
     "iopub.execute_input": "2022-08-03T08:03:34.223639Z",
     "iopub.status.busy": "2022-08-03T08:03:34.223228Z",
     "iopub.status.idle": "2022-08-03T08:03:34.234991Z",
     "shell.execute_reply": "2022-08-03T08:03:34.234157Z"
    },
    "papermill": {
     "duration": 0.032168,
     "end_time": "2022-08-03T08:03:34.236985",
     "exception": false,
     "start_time": "2022-08-03T08:03:34.204817",
     "status": "completed"
    },
    "tags": []
   },
   "outputs": [
    {
     "data": {
      "text/plain": [
       "311.11     68\n",
       "180.96     59\n",
       "311.02     54\n",
       "150.80     48\n",
       "368.45     46\n",
       "           ..\n",
       "1224.46     1\n",
       "63.44       1\n",
       "157.67      1\n",
       "492.34      1\n",
       "255.43      1\n",
       "Name: installment, Length: 15383, dtype: int64"
      ]
     },
     "execution_count": 25,
     "metadata": {},
     "output_type": "execute_result"
    }
   ],
   "source": [
    "df['installment'].value_counts()"
   ]
  },
  {
   "cell_type": "code",
   "execution_count": 26,
   "id": "c9a043d8",
   "metadata": {
    "execution": {
     "iopub.execute_input": "2022-08-03T08:03:34.273138Z",
     "iopub.status.busy": "2022-08-03T08:03:34.272707Z",
     "iopub.status.idle": "2022-08-03T08:03:34.284050Z",
     "shell.execute_reply": "2022-08-03T08:03:34.283041Z"
    },
    "papermill": {
     "duration": 0.032147,
     "end_time": "2022-08-03T08:03:34.286198",
     "exception": false,
     "start_time": "2022-08-03T08:03:34.254051",
     "status": "completed"
    },
    "tags": []
   },
   "outputs": [
    {
     "data": {
      "text/plain": [
       "Not Verified       16921\n",
       "Verified           12809\n",
       "Source Verified     9987\n",
       "Name: verification_status, dtype: int64"
      ]
     },
     "execution_count": 26,
     "metadata": {},
     "output_type": "execute_result"
    }
   ],
   "source": [
    "df['verification_status'].value_counts()"
   ]
  },
  {
   "cell_type": "code",
   "execution_count": 27,
   "id": "6ef0f16d",
   "metadata": {
    "execution": {
     "iopub.execute_input": "2022-08-03T08:03:34.321006Z",
     "iopub.status.busy": "2022-08-03T08:03:34.320605Z",
     "iopub.status.idle": "2022-08-03T08:03:34.331566Z",
     "shell.execute_reply": "2022-08-03T08:03:34.330593Z"
    },
    "papermill": {
     "duration": 0.030742,
     "end_time": "2022-08-03T08:03:34.333744",
     "exception": false,
     "start_time": "2022-08-03T08:03:34.303002",
     "status": "completed"
    },
    "tags": []
   },
   "outputs": [
    {
     "data": {
      "text/plain": [
       "Fully Paid     32950\n",
       "Charged Off     5627\n",
       "Current         1140\n",
       "Name: loan_status, dtype: int64"
      ]
     },
     "execution_count": 27,
     "metadata": {},
     "output_type": "execute_result"
    }
   ],
   "source": [
    "df['loan_status'].value_counts()"
   ]
  },
  {
   "cell_type": "markdown",
   "id": "88e4b7b9",
   "metadata": {
    "papermill": {
     "duration": 0.016058,
     "end_time": "2022-08-03T08:03:34.366857",
     "exception": false,
     "start_time": "2022-08-03T08:03:34.350799",
     "status": "completed"
    },
    "tags": []
   },
   "source": [
    "## These columns are redundant and are dropped"
   ]
  },
  {
   "cell_type": "code",
   "execution_count": 28,
   "id": "c3656990",
   "metadata": {
    "execution": {
     "iopub.execute_input": "2022-08-03T08:03:34.401500Z",
     "iopub.status.busy": "2022-08-03T08:03:34.401072Z",
     "iopub.status.idle": "2022-08-03T08:03:34.409924Z",
     "shell.execute_reply": "2022-08-03T08:03:34.408918Z"
    },
    "papermill": {
     "duration": 0.028359,
     "end_time": "2022-08-03T08:03:34.411938",
     "exception": false,
     "start_time": "2022-08-03T08:03:34.383579",
     "status": "completed"
    },
    "tags": []
   },
   "outputs": [
    {
     "data": {
      "text/plain": [
       "1    39717\n",
       "Name: policy_code, dtype: int64"
      ]
     },
     "execution_count": 28,
     "metadata": {},
     "output_type": "execute_result"
    }
   ],
   "source": [
    "df['policy_code'].value_counts()"
   ]
  },
  {
   "cell_type": "code",
   "execution_count": 29,
   "id": "d1515c1b",
   "metadata": {
    "execution": {
     "iopub.execute_input": "2022-08-03T08:03:34.447999Z",
     "iopub.status.busy": "2022-08-03T08:03:34.446914Z",
     "iopub.status.idle": "2022-08-03T08:03:34.458786Z",
     "shell.execute_reply": "2022-08-03T08:03:34.457699Z"
    },
    "papermill": {
     "duration": 0.032288,
     "end_time": "2022-08-03T08:03:34.461189",
     "exception": false,
     "start_time": "2022-08-03T08:03:34.428901",
     "status": "completed"
    },
    "tags": []
   },
   "outputs": [
    {
     "data": {
      "text/plain": [
       "INDIVIDUAL    39717\n",
       "Name: application_type, dtype: int64"
      ]
     },
     "execution_count": 29,
     "metadata": {},
     "output_type": "execute_result"
    }
   ],
   "source": [
    "df['application_type'].value_counts()"
   ]
  },
  {
   "cell_type": "code",
   "execution_count": 30,
   "id": "160069a2",
   "metadata": {
    "execution": {
     "iopub.execute_input": "2022-08-03T08:03:34.497356Z",
     "iopub.status.busy": "2022-08-03T08:03:34.496975Z",
     "iopub.status.idle": "2022-08-03T08:03:34.505026Z",
     "shell.execute_reply": "2022-08-03T08:03:34.504324Z"
    },
    "papermill": {
     "duration": 0.028398,
     "end_time": "2022-08-03T08:03:34.506921",
     "exception": false,
     "start_time": "2022-08-03T08:03:34.478523",
     "status": "completed"
    },
    "tags": []
   },
   "outputs": [
    {
     "data": {
      "text/plain": [
       "0    39717\n",
       "Name: acc_now_delinq, dtype: int64"
      ]
     },
     "execution_count": 30,
     "metadata": {},
     "output_type": "execute_result"
    }
   ],
   "source": [
    "df['acc_now_delinq'].value_counts()"
   ]
  },
  {
   "cell_type": "code",
   "execution_count": 31,
   "id": "5e313422",
   "metadata": {
    "execution": {
     "iopub.execute_input": "2022-08-03T08:03:34.542874Z",
     "iopub.status.busy": "2022-08-03T08:03:34.542509Z",
     "iopub.status.idle": "2022-08-03T08:03:34.550258Z",
     "shell.execute_reply": "2022-08-03T08:03:34.549504Z"
    },
    "papermill": {
     "duration": 0.028221,
     "end_time": "2022-08-03T08:03:34.552139",
     "exception": false,
     "start_time": "2022-08-03T08:03:34.523918",
     "status": "completed"
    },
    "tags": []
   },
   "outputs": [
    {
     "data": {
      "text/plain": [
       "0    39717\n",
       "Name: delinq_amnt, dtype: int64"
      ]
     },
     "execution_count": 31,
     "metadata": {},
     "output_type": "execute_result"
    }
   ],
   "source": [
    "df['delinq_amnt'].value_counts()"
   ]
  },
  {
   "cell_type": "code",
   "execution_count": 32,
   "id": "deea4e38",
   "metadata": {
    "execution": {
     "iopub.execute_input": "2022-08-03T08:03:34.587572Z",
     "iopub.status.busy": "2022-08-03T08:03:34.587178Z",
     "iopub.status.idle": "2022-08-03T08:03:34.595964Z",
     "shell.execute_reply": "2022-08-03T08:03:34.595321Z"
    },
    "papermill": {
     "duration": 0.028683,
     "end_time": "2022-08-03T08:03:34.597821",
     "exception": false,
     "start_time": "2022-08-03T08:03:34.569138",
     "status": "completed"
    },
    "tags": []
   },
   "outputs": [
    {
     "data": {
      "text/plain": [
       "f    39717\n",
       "Name: initial_list_status, dtype: int64"
      ]
     },
     "execution_count": 32,
     "metadata": {},
     "output_type": "execute_result"
    }
   ],
   "source": [
    "df['initial_list_status'].value_counts()"
   ]
  },
  {
   "cell_type": "code",
   "execution_count": 33,
   "id": "39eb61c8",
   "metadata": {
    "execution": {
     "iopub.execute_input": "2022-08-03T08:03:34.633730Z",
     "iopub.status.busy": "2022-08-03T08:03:34.633319Z",
     "iopub.status.idle": "2022-08-03T08:03:34.642738Z",
     "shell.execute_reply": "2022-08-03T08:03:34.642045Z"
    },
    "papermill": {
     "duration": 0.02922,
     "end_time": "2022-08-03T08:03:34.644516",
     "exception": false,
     "start_time": "2022-08-03T08:03:34.615296",
     "status": "completed"
    },
    "tags": []
   },
   "outputs": [
    {
     "data": {
      "text/plain": [
       "n    39717\n",
       "Name: pymnt_plan, dtype: int64"
      ]
     },
     "execution_count": 33,
     "metadata": {},
     "output_type": "execute_result"
    }
   ],
   "source": [
    "df['pymnt_plan'].value_counts()"
   ]
  },
  {
   "cell_type": "code",
   "execution_count": 34,
   "id": "2c307112",
   "metadata": {
    "execution": {
     "iopub.execute_input": "2022-08-03T08:03:34.680644Z",
     "iopub.status.busy": "2022-08-03T08:03:34.679508Z",
     "iopub.status.idle": "2022-08-03T08:03:34.687775Z",
     "shell.execute_reply": "2022-08-03T08:03:34.687050Z"
    },
    "papermill": {
     "duration": 0.028476,
     "end_time": "2022-08-03T08:03:34.689680",
     "exception": false,
     "start_time": "2022-08-03T08:03:34.661204",
     "status": "completed"
    },
    "tags": []
   },
   "outputs": [
    {
     "data": {
      "text/plain": [
       "0.0    39661\n",
       "NaN       56\n",
       "Name: collections_12_mths_ex_med, dtype: int64"
      ]
     },
     "execution_count": 34,
     "metadata": {},
     "output_type": "execute_result"
    }
   ],
   "source": [
    "df['collections_12_mths_ex_med'].value_counts(dropna=False)"
   ]
  },
  {
   "cell_type": "code",
   "execution_count": 35,
   "id": "5a3b58f0",
   "metadata": {
    "execution": {
     "iopub.execute_input": "2022-08-03T08:03:34.726342Z",
     "iopub.status.busy": "2022-08-03T08:03:34.725253Z",
     "iopub.status.idle": "2022-08-03T08:03:34.733576Z",
     "shell.execute_reply": "2022-08-03T08:03:34.732885Z"
    },
    "papermill": {
     "duration": 0.02879,
     "end_time": "2022-08-03T08:03:34.735430",
     "exception": false,
     "start_time": "2022-08-03T08:03:34.706640",
     "status": "completed"
    },
    "tags": []
   },
   "outputs": [
    {
     "data": {
      "text/plain": [
       "0.0    39661\n",
       "NaN       56\n",
       "Name: chargeoff_within_12_mths, dtype: int64"
      ]
     },
     "execution_count": 35,
     "metadata": {},
     "output_type": "execute_result"
    }
   ],
   "source": [
    "df['chargeoff_within_12_mths'].value_counts(dropna=False)"
   ]
  },
  {
   "cell_type": "code",
   "execution_count": 36,
   "id": "8db14c07",
   "metadata": {
    "execution": {
     "iopub.execute_input": "2022-08-03T08:03:34.772774Z",
     "iopub.status.busy": "2022-08-03T08:03:34.771791Z",
     "iopub.status.idle": "2022-08-03T08:03:34.780133Z",
     "shell.execute_reply": "2022-08-03T08:03:34.779147Z"
    },
    "papermill": {
     "duration": 0.029225,
     "end_time": "2022-08-03T08:03:34.782350",
     "exception": false,
     "start_time": "2022-08-03T08:03:34.753125",
     "status": "completed"
    },
    "tags": []
   },
   "outputs": [
    {
     "data": {
      "text/plain": [
       "0.0    39678\n",
       "NaN       39\n",
       "Name: tax_liens, dtype: int64"
      ]
     },
     "execution_count": 36,
     "metadata": {},
     "output_type": "execute_result"
    }
   ],
   "source": [
    "df['tax_liens'].value_counts(dropna=False)"
   ]
  },
  {
   "cell_type": "code",
   "execution_count": 37,
   "id": "f4f5c362",
   "metadata": {
    "execution": {
     "iopub.execute_input": "2022-08-03T08:03:34.818523Z",
     "iopub.status.busy": "2022-08-03T08:03:34.818093Z",
     "iopub.status.idle": "2022-08-03T08:03:34.828089Z",
     "shell.execute_reply": "2022-08-03T08:03:34.827069Z"
    },
    "papermill": {
     "duration": 0.030337,
     "end_time": "2022-08-03T08:03:34.830133",
     "exception": false,
     "start_time": "2022-08-03T08:03:34.799796",
     "status": "completed"
    },
    "tags": []
   },
   "outputs": [
    {
     "data": {
      "text/plain": [
       "NaN       38577\n",
       "Jun-16     1125\n",
       "Jul-16       15\n",
       "Name: next_pymnt_d, dtype: int64"
      ]
     },
     "execution_count": 37,
     "metadata": {},
     "output_type": "execute_result"
    }
   ],
   "source": [
    "df['next_pymnt_d'].value_counts(dropna=False)"
   ]
  },
  {
   "cell_type": "code",
   "execution_count": 38,
   "id": "aa4a2556",
   "metadata": {
    "execution": {
     "iopub.execute_input": "2022-08-03T08:03:34.866695Z",
     "iopub.status.busy": "2022-08-03T08:03:34.866290Z",
     "iopub.status.idle": "2022-08-03T08:03:34.970031Z",
     "shell.execute_reply": "2022-08-03T08:03:34.968895Z"
    },
    "papermill": {
     "duration": 0.125328,
     "end_time": "2022-08-03T08:03:34.972647",
     "exception": false,
     "start_time": "2022-08-03T08:03:34.847319",
     "status": "completed"
    },
    "tags": []
   },
   "outputs": [],
   "source": [
    "df.drop(['collections_12_mths_ex_med','chargeoff_within_12_mths','tax_liens','id','member_id','next_pymnt_d'], axis=1, inplace=True)\n",
    "df.drop('pymnt_plan', axis=1, inplace=True)\n",
    "df.drop('initial_list_status', axis=1, inplace=True)\n",
    "df.drop('policy_code', axis=1, inplace=True)\n",
    "df.drop('application_type', axis=1, inplace=True)\n",
    "df.drop('acc_now_delinq', axis=1, inplace=True)\n",
    "df.drop('delinq_amnt', axis=1, inplace=True)"
   ]
  },
  {
   "cell_type": "markdown",
   "id": "89d6f5f2",
   "metadata": {
    "papermill": {
     "duration": 0.017902,
     "end_time": "2022-08-03T08:03:35.008867",
     "exception": false,
     "start_time": "2022-08-03T08:03:34.990965",
     "status": "completed"
    },
    "tags": []
   },
   "source": [
    "## Cleaning percentages"
   ]
  },
  {
   "cell_type": "code",
   "execution_count": 39,
   "id": "6507517e",
   "metadata": {
    "execution": {
     "iopub.execute_input": "2022-08-03T08:03:35.046065Z",
     "iopub.status.busy": "2022-08-03T08:03:35.045670Z",
     "iopub.status.idle": "2022-08-03T08:03:35.054220Z",
     "shell.execute_reply": "2022-08-03T08:03:35.053277Z"
    },
    "papermill": {
     "duration": 0.029905,
     "end_time": "2022-08-03T08:03:35.056576",
     "exception": false,
     "start_time": "2022-08-03T08:03:35.026671",
     "status": "completed"
    },
    "tags": []
   },
   "outputs": [
    {
     "data": {
      "text/plain": [
       "0        10.65%\n",
       "1        15.27%\n",
       "2        15.96%\n",
       "3        13.49%\n",
       "4        12.69%\n",
       "          ...  \n",
       "39712     8.07%\n",
       "39713    10.28%\n",
       "39714     8.07%\n",
       "39715     7.43%\n",
       "39716    13.75%\n",
       "Name: int_rate, Length: 39717, dtype: object"
      ]
     },
     "execution_count": 39,
     "metadata": {},
     "output_type": "execute_result"
    }
   ],
   "source": [
    "df['int_rate']"
   ]
  },
  {
   "cell_type": "code",
   "execution_count": 40,
   "id": "ab7c2977",
   "metadata": {
    "execution": {
     "iopub.execute_input": "2022-08-03T08:03:35.093926Z",
     "iopub.status.busy": "2022-08-03T08:03:35.093552Z",
     "iopub.status.idle": "2022-08-03T08:03:35.098842Z",
     "shell.execute_reply": "2022-08-03T08:03:35.097734Z"
    },
    "papermill": {
     "duration": 0.027129,
     "end_time": "2022-08-03T08:03:35.101206",
     "exception": false,
     "start_time": "2022-08-03T08:03:35.074077",
     "status": "completed"
    },
    "tags": []
   },
   "outputs": [],
   "source": [
    "def clean_percentages(i):\n",
    "    i = i.str.replace('%', '')\n",
    "    i = i.astype('float64')\n",
    "    i = i/100\n",
    "    return i"
   ]
  },
  {
   "cell_type": "code",
   "execution_count": 41,
   "id": "4a11b80d",
   "metadata": {
    "execution": {
     "iopub.execute_input": "2022-08-03T08:03:35.139091Z",
     "iopub.status.busy": "2022-08-03T08:03:35.138679Z",
     "iopub.status.idle": "2022-08-03T08:03:35.174519Z",
     "shell.execute_reply": "2022-08-03T08:03:35.173395Z"
    },
    "papermill": {
     "duration": 0.058008,
     "end_time": "2022-08-03T08:03:35.177286",
     "exception": false,
     "start_time": "2022-08-03T08:03:35.119278",
     "status": "completed"
    },
    "tags": []
   },
   "outputs": [],
   "source": [
    "df['int_rate'] = clean_percentages(df['int_rate'])"
   ]
  },
  {
   "cell_type": "markdown",
   "id": "42999eeb",
   "metadata": {
    "papermill": {
     "duration": 0.01733,
     "end_time": "2022-08-03T08:03:35.212784",
     "exception": false,
     "start_time": "2022-08-03T08:03:35.195454",
     "status": "completed"
    },
    "tags": []
   },
   "source": [
    "## Figure out what to do with the below columns"
   ]
  },
  {
   "cell_type": "code",
   "execution_count": 42,
   "id": "969f28c8",
   "metadata": {
    "execution": {
     "iopub.execute_input": "2022-08-03T08:03:35.250214Z",
     "iopub.status.busy": "2022-08-03T08:03:35.249783Z",
     "iopub.status.idle": "2022-08-03T08:03:35.258618Z",
     "shell.execute_reply": "2022-08-03T08:03:35.257563Z"
    },
    "papermill": {
     "duration": 0.030032,
     "end_time": "2022-08-03T08:03:35.260768",
     "exception": false,
     "start_time": "2022-08-03T08:03:35.230736",
     "status": "completed"
    },
    "tags": []
   },
   "outputs": [
    {
     "data": {
      "text/plain": [
       "0.0    37339\n",
       "1.0     1674\n",
       "NaN      697\n",
       "2.0        7\n",
       "Name: pub_rec_bankruptcies, dtype: int64"
      ]
     },
     "execution_count": 42,
     "metadata": {},
     "output_type": "execute_result"
    }
   ],
   "source": [
    "df['pub_rec_bankruptcies'].value_counts(dropna=False)\n",
    "#figure out what to do with the null values"
   ]
  },
  {
   "cell_type": "code",
   "execution_count": 43,
   "id": "68ed7fde",
   "metadata": {
    "execution": {
     "iopub.execute_input": "2022-08-03T08:03:35.300294Z",
     "iopub.status.busy": "2022-08-03T08:03:35.299270Z",
     "iopub.status.idle": "2022-08-03T08:03:35.311235Z",
     "shell.execute_reply": "2022-08-03T08:03:35.310170Z"
    },
    "papermill": {
     "duration": 0.033875,
     "end_time": "2022-08-03T08:03:35.313436",
     "exception": false,
     "start_time": "2022-08-03T08:03:35.279561",
     "status": "completed"
    },
    "tags": []
   },
   "outputs": [
    {
     "data": {
      "text/plain": [
       "10+ years    8879\n",
       "< 1 year     4583\n",
       "2 years      4388\n",
       "3 years      4095\n",
       "4 years      3436\n",
       "5 years      3282\n",
       "1 year       3240\n",
       "6 years      2229\n",
       "7 years      1773\n",
       "8 years      1479\n",
       "9 years      1258\n",
       "NaN          1075\n",
       "Name: emp_length, dtype: int64"
      ]
     },
     "execution_count": 43,
     "metadata": {},
     "output_type": "execute_result"
    }
   ],
   "source": [
    "df['emp_length'].value_counts(dropna=False)\n",
    "# Figure out what to do with the null values, maybe nan values refers to 0 years of work experience?"
   ]
  },
  {
   "cell_type": "code",
   "execution_count": 44,
   "id": "fbcb3504",
   "metadata": {
    "execution": {
     "iopub.execute_input": "2022-08-03T08:03:35.351888Z",
     "iopub.status.busy": "2022-08-03T08:03:35.351514Z",
     "iopub.status.idle": "2022-08-03T08:03:35.361510Z",
     "shell.execute_reply": "2022-08-03T08:03:35.360350Z"
    },
    "papermill": {
     "duration": 0.032034,
     "end_time": "2022-08-03T08:03:35.363764",
     "exception": false,
     "start_time": "2022-08-03T08:03:35.331730",
     "status": "completed"
    },
    "tags": []
   },
   "outputs": [
    {
     "data": {
      "text/plain": [
       "NaN      25682\n",
       "0.0        443\n",
       "15.0       252\n",
       "30.0       247\n",
       "23.0       247\n",
       "         ...  \n",
       "89.0         1\n",
       "107.0        1\n",
       "85.0         1\n",
       "97.0         1\n",
       "95.0         1\n",
       "Name: mths_since_last_delinq, Length: 96, dtype: int64"
      ]
     },
     "execution_count": 44,
     "metadata": {},
     "output_type": "execute_result"
    }
   ],
   "source": [
    "df['mths_since_last_delinq'].value_counts(dropna=False)\n",
    "#Can drop this since most are missing values? Investigate further"
   ]
  },
  {
   "cell_type": "code",
   "execution_count": 45,
   "id": "567d638f",
   "metadata": {
    "execution": {
     "iopub.execute_input": "2022-08-03T08:03:35.402473Z",
     "iopub.status.busy": "2022-08-03T08:03:35.402025Z",
     "iopub.status.idle": "2022-08-03T08:03:35.410905Z",
     "shell.execute_reply": "2022-08-03T08:03:35.410095Z"
    },
    "papermill": {
     "duration": 0.030772,
     "end_time": "2022-08-03T08:03:35.412979",
     "exception": false,
     "start_time": "2022-08-03T08:03:35.382207",
     "status": "completed"
    },
    "tags": []
   },
   "outputs": [
    {
     "data": {
      "text/plain": [
       "NaN      36931\n",
       "0.0        670\n",
       "104.0       61\n",
       "89.0        60\n",
       "113.0       59\n",
       "         ...  \n",
       "19.0         1\n",
       "20.0         1\n",
       "120.0        1\n",
       "129.0        1\n",
       "5.0          1\n",
       "Name: mths_since_last_record, Length: 112, dtype: int64"
      ]
     },
     "execution_count": 45,
     "metadata": {},
     "output_type": "execute_result"
    }
   ],
   "source": [
    "df['mths_since_last_record'].value_counts(dropna=False)\n",
    "# can drop this column since most of the values are missing? Investigate further"
   ]
  },
  {
   "cell_type": "code",
   "execution_count": 46,
   "id": "7ea7d55e",
   "metadata": {
    "execution": {
     "iopub.execute_input": "2022-08-03T08:03:35.451505Z",
     "iopub.status.busy": "2022-08-03T08:03:35.450791Z",
     "iopub.status.idle": "2022-08-03T08:03:35.461903Z",
     "shell.execute_reply": "2022-08-03T08:03:35.461009Z"
    },
    "papermill": {
     "duration": 0.03277,
     "end_time": "2022-08-03T08:03:35.464001",
     "exception": false,
     "start_time": "2022-08-03T08:03:35.431231",
     "status": "completed"
    },
    "tags": []
   },
   "outputs": [
    {
     "data": {
      "text/plain": [
       "0%        977\n",
       "0.20%      63\n",
       "63%        62\n",
       "0.10%      58\n",
       "66.70%     58\n",
       "         ... \n",
       "77.63%      1\n",
       "25.74%      1\n",
       "62.31%      1\n",
       "0.83%       1\n",
       "7.28%       1\n",
       "Name: revol_util, Length: 1090, dtype: int64"
      ]
     },
     "execution_count": 46,
     "metadata": {},
     "output_type": "execute_result"
    }
   ],
   "source": [
    "df['revol_util'].value_counts(dropna=False)\n",
    "\n",
    "# figure out what to do with the missing values.\n",
    "# How is this dtype int64 even though percentage symbol is present in this column. Clean the percentage symbol"
   ]
  },
  {
   "cell_type": "code",
   "execution_count": 47,
   "id": "78603b7c",
   "metadata": {
    "execution": {
     "iopub.execute_input": "2022-08-03T08:03:35.503134Z",
     "iopub.status.busy": "2022-08-03T08:03:35.502401Z",
     "iopub.status.idle": "2022-08-03T08:03:35.526358Z",
     "shell.execute_reply": "2022-08-03T08:03:35.525542Z"
    },
    "papermill": {
     "duration": 0.045795,
     "end_time": "2022-08-03T08:03:35.528422",
     "exception": false,
     "start_time": "2022-08-03T08:03:35.482627",
     "status": "completed"
    },
    "tags": []
   },
   "outputs": [
    {
     "data": {
      "text/plain": [
       "NaN                                2459\n",
       "US Army                             134\n",
       "Bank of America                     109\n",
       "IBM                                  66\n",
       "AT&T                                 59\n",
       "                                   ... \n",
       "AMEC                                  1\n",
       "lee county sheriff                    1\n",
       "Bacon County Board of Education       1\n",
       "Hotpads                               1\n",
       "Evergreen Center                      1\n",
       "Name: emp_title, Length: 28821, dtype: int64"
      ]
     },
     "execution_count": 47,
     "metadata": {},
     "output_type": "execute_result"
    }
   ],
   "source": [
    "df['emp_title'].value_counts(dropna=False)\n",
    "# can we replace nan values with 'NA'?"
   ]
  },
  {
   "cell_type": "code",
   "execution_count": 48,
   "id": "acba8346",
   "metadata": {
    "execution": {
     "iopub.execute_input": "2022-08-03T08:03:35.568176Z",
     "iopub.status.busy": "2022-08-03T08:03:35.567249Z",
     "iopub.status.idle": "2022-08-03T08:03:35.588267Z",
     "shell.execute_reply": "2022-08-03T08:03:35.587060Z"
    },
    "papermill": {
     "duration": 0.043332,
     "end_time": "2022-08-03T08:03:35.590682",
     "exception": false,
     "start_time": "2022-08-03T08:03:35.547350",
     "status": "completed"
    },
    "tags": []
   },
   "outputs": [
    {
     "data": {
      "text/plain": [
       "Debt Consolidation                  2184\n",
       "Debt Consolidation Loan             1729\n",
       "Personal Loan                        659\n",
       "Consolidation                        517\n",
       "debt consolidation                   505\n",
       "                                    ... \n",
       "your rate is better than my rate       1\n",
       "Concession Trailer                     1\n",
       "gregs                                  1\n",
       "EZover                                 1\n",
       "JAL Loan                               1\n",
       "Name: title, Length: 19616, dtype: int64"
      ]
     },
     "execution_count": 48,
     "metadata": {},
     "output_type": "execute_result"
    }
   ],
   "source": [
    "df['title'].value_counts(dropna=False)\n",
    "# can we replace nan values with 'NA'?"
   ]
  },
  {
   "cell_type": "code",
   "execution_count": 49,
   "id": "3db195f7",
   "metadata": {
    "execution": {
     "iopub.execute_input": "2022-08-03T08:03:35.630309Z",
     "iopub.status.busy": "2022-08-03T08:03:35.629895Z",
     "iopub.status.idle": "2022-08-03T08:03:35.640253Z",
     "shell.execute_reply": "2022-08-03T08:03:35.639353Z"
    },
    "papermill": {
     "duration": 0.032614,
     "end_time": "2022-08-03T08:03:35.642346",
     "exception": false,
     "start_time": "2022-08-03T08:03:35.609732",
     "status": "completed"
    },
    "tags": []
   },
   "outputs": [
    {
     "data": {
      "text/plain": [
       "array([' 36 months', ' 60 months'], dtype=object)"
      ]
     },
     "execution_count": 49,
     "metadata": {},
     "output_type": "execute_result"
    }
   ],
   "source": [
    "df['term'].unique()\n",
    "# Is it necessary to convert this categorical column into numeric format for analysis?"
   ]
  },
  {
   "cell_type": "code",
   "execution_count": 50,
   "id": "ec989d8d",
   "metadata": {
    "execution": {
     "iopub.execute_input": "2022-08-03T08:03:35.682029Z",
     "iopub.status.busy": "2022-08-03T08:03:35.681389Z",
     "iopub.status.idle": "2022-08-03T08:03:35.689669Z",
     "shell.execute_reply": "2022-08-03T08:03:35.688760Z"
    },
    "papermill": {
     "duration": 0.030567,
     "end_time": "2022-08-03T08:03:35.691666",
     "exception": false,
     "start_time": "2022-08-03T08:03:35.661099",
     "status": "completed"
    },
    "tags": []
   },
   "outputs": [
    {
     "data": {
      "text/plain": [
       "0        https://lendingclub.com/browse/loanDetail.acti...\n",
       "1        https://lendingclub.com/browse/loanDetail.acti...\n",
       "2        https://lendingclub.com/browse/loanDetail.acti...\n",
       "3        https://lendingclub.com/browse/loanDetail.acti...\n",
       "4        https://lendingclub.com/browse/loanDetail.acti...\n",
       "                               ...                        \n",
       "39712    https://lendingclub.com/browse/loanDetail.acti...\n",
       "39713    https://lendingclub.com/browse/loanDetail.acti...\n",
       "39714    https://lendingclub.com/browse/loanDetail.acti...\n",
       "39715    https://lendingclub.com/browse/loanDetail.acti...\n",
       "39716    https://lendingclub.com/browse/loanDetail.acti...\n",
       "Name: url, Length: 39717, dtype: object"
      ]
     },
     "execution_count": 50,
     "metadata": {},
     "output_type": "execute_result"
    }
   ],
   "source": [
    "df.url\n",
    "# we can drop this column? Are there any insights that can be derived from this column?\n",
    "# df.drop('url', axis=1, inplace=True)"
   ]
  },
  {
   "cell_type": "code",
   "execution_count": 51,
   "id": "d4f41cf8",
   "metadata": {
    "execution": {
     "iopub.execute_input": "2022-08-03T08:03:35.731353Z",
     "iopub.status.busy": "2022-08-03T08:03:35.730956Z",
     "iopub.status.idle": "2022-08-03T08:03:35.764801Z",
     "shell.execute_reply": "2022-08-03T08:03:35.763691Z"
    },
    "papermill": {
     "duration": 0.056543,
     "end_time": "2022-08-03T08:03:35.767119",
     "exception": false,
     "start_time": "2022-08-03T08:03:35.710576",
     "status": "completed"
    },
    "tags": []
   },
   "outputs": [
    {
     "data": {
      "text/plain": [
       "NaN                                                                                                                                                                                                                                                                                                                                                                                                                                                                                                                                                                                                                                                                           12940\n",
       "                                                                                                                                                                                                                                                                                                                                                                                                                                                                                                                                                                                                                                                                                210\n",
       "Debt Consolidation                                                                                                                                                                                                                                                                                                                                                                                                                                                                                                                                                                                                                                                                8\n",
       "Camping Membership                                                                                                                                                                                                                                                                                                                                                                                                                                                                                                                                                                                                                                                                6\n",
       "Personal Loan                                                                                                                                                                                                                                                                                                                                                                                                                                                                                                                                                                                                                                                                     3\n",
       "                                                                                                                                                                                                                                                                                                                                                                                                                                                                                                                                                                                                                                                                              ...  \n",
       "  Borrower added on 05/13/11 > I have a very stable income and have &quot;NEVER&quot; been delinquent on any accounts. I am interested in consolidating my credit card accounts along with a personal loan for the benefit of paying one payment a month versus multiple. Thank you.<br/>                                                                                                                                                                                                                                                                                                                                                                                         1\n",
       "  Borrower added on 05/13/11 > This loan is to partially finance a car. The payments will be very manageable for me.<br/>                                                                                                                                                                                                                                                                                                                                                                                                                                                                                                                                                         1\n",
       "  Borrower added on 05/13/11 > I am consolidating my bills to make it cheaper on bills. I am up for a promotion at my job and have been here three years already. I also have a fiance that has a very reliable job who also helps with finances. My requirement is that all bills are paid on time if not early. This is to keep good standings with all businesses and keep a awesome credit score.<br/> Borrower added on 05/16/11 > I am asking for this loan to pay off bills with higher interest rates and have a lower payment every month.<br/>                                                                                                                          1\n",
       "  Borrower added on 05/13/11 > Debt Consolidation<br/> Borrower added on 05/13/11 > I plan to use this money to consolidate bills with high monthly payments and improve cash flow.<br/> Borrower added on 05/13/11 > I have good credit and I have a very stable, solid and professional job that I have held for a long time - over 20 years.  I have a Bachelor's degree and I'm currently working on a masters.<br/> Borrower added on 05/13/11 > My mortgage and utilities run approx less than 2k per month including taxes.  I have sufficient income to pay off this loan. I simply want to take my open accounts and consolidate them into one easy payment.<br/>        1\n",
       "I plan to consolidate over $7,000 of debt: a combination of credit cards and student loans.                                                                                                                                                                                                                                                                                                                                                                                                                                                                                                                                                                                       1\n",
       "Name: desc, Length: 26528, dtype: int64"
      ]
     },
     "execution_count": 51,
     "metadata": {},
     "output_type": "execute_result"
    }
   ],
   "source": [
    "df.desc.value_counts(dropna=False)\n",
    "# Since we are not doing NLP, we can drop this column?\n",
    "# df.drop('desc', axis=1, inplace=True)"
   ]
  },
  {
   "cell_type": "code",
   "execution_count": 52,
   "id": "4b73522b",
   "metadata": {
    "execution": {
     "iopub.execute_input": "2022-08-03T08:03:35.808434Z",
     "iopub.status.busy": "2022-08-03T08:03:35.807639Z",
     "iopub.status.idle": "2022-08-03T08:03:35.822097Z",
     "shell.execute_reply": "2022-08-03T08:03:35.820887Z"
    },
    "papermill": {
     "duration": 0.038057,
     "end_time": "2022-08-03T08:03:35.824672",
     "exception": false,
     "start_time": "2022-08-03T08:03:35.786615",
     "status": "completed"
    },
    "tags": []
   },
   "outputs": [
    {
     "data": {
      "text/plain": [
       "11196.569430    26\n",
       "0.000000        16\n",
       "11784.232230    16\n",
       "10956.775960    16\n",
       "5478.387981     15\n",
       "                ..\n",
       "17768.430010     1\n",
       "12794.806580     1\n",
       "6193.803706      1\n",
       "34797.769170     1\n",
       "9195.263334      1\n",
       "Name: total_pymnt, Length: 37850, dtype: int64"
      ]
     },
     "execution_count": 52,
     "metadata": {},
     "output_type": "execute_result"
    }
   ],
   "source": [
    "df.total_pymnt.value_counts()\n",
    "#why are there 26 same occurences of total payment?"
   ]
  },
  {
   "cell_type": "markdown",
   "id": "2d32a0a8",
   "metadata": {
    "papermill": {
     "duration": 0.019018,
     "end_time": "2022-08-03T08:03:35.863745",
     "exception": false,
     "start_time": "2022-08-03T08:03:35.844727",
     "status": "completed"
    },
    "tags": []
   },
   "source": [
    "## Working with datetime values"
   ]
  },
  {
   "cell_type": "code",
   "execution_count": 53,
   "id": "9566f752",
   "metadata": {
    "execution": {
     "iopub.execute_input": "2022-08-03T08:03:35.905541Z",
     "iopub.status.busy": "2022-08-03T08:03:35.904274Z",
     "iopub.status.idle": "2022-08-03T08:03:35.910490Z",
     "shell.execute_reply": "2022-08-03T08:03:35.909751Z"
    },
    "papermill": {
     "duration": 0.029209,
     "end_time": "2022-08-03T08:03:35.912648",
     "exception": false,
     "start_time": "2022-08-03T08:03:35.883439",
     "status": "completed"
    },
    "tags": []
   },
   "outputs": [],
   "source": [
    "def clean_date(i):\n",
    "    i = i.str.replace('-', ' ')\n",
    "    i = i.str[:4]+'20'+i.str[4:]\n",
    "    i = pd.to_datetime(i)\n",
    "    return(i)"
   ]
  },
  {
   "cell_type": "code",
   "execution_count": 54,
   "id": "b9ad0a3f",
   "metadata": {
    "execution": {
     "iopub.execute_input": "2022-08-03T08:03:35.954778Z",
     "iopub.status.busy": "2022-08-03T08:03:35.953750Z",
     "iopub.status.idle": "2022-08-03T08:03:36.028799Z",
     "shell.execute_reply": "2022-08-03T08:03:36.027824Z"
    },
    "papermill": {
     "duration": 0.098804,
     "end_time": "2022-08-03T08:03:36.031473",
     "exception": false,
     "start_time": "2022-08-03T08:03:35.932669",
     "status": "completed"
    },
    "tags": []
   },
   "outputs": [],
   "source": [
    "df['issue_d'] = clean_date(df['issue_d'])"
   ]
  },
  {
   "cell_type": "code",
   "execution_count": 55,
   "id": "4e85f4cc",
   "metadata": {
    "execution": {
     "iopub.execute_input": "2022-08-03T08:03:36.072167Z",
     "iopub.status.busy": "2022-08-03T08:03:36.071770Z",
     "iopub.status.idle": "2022-08-03T08:03:36.150197Z",
     "shell.execute_reply": "2022-08-03T08:03:36.148898Z"
    },
    "papermill": {
     "duration": 0.101868,
     "end_time": "2022-08-03T08:03:36.152860",
     "exception": false,
     "start_time": "2022-08-03T08:03:36.050992",
     "status": "completed"
    },
    "tags": []
   },
   "outputs": [],
   "source": [
    "df['last_credit_pull_d'] = clean_date(df['last_credit_pull_d'])"
   ]
  },
  {
   "cell_type": "code",
   "execution_count": 56,
   "id": "3781fc87",
   "metadata": {
    "execution": {
     "iopub.execute_input": "2022-08-03T08:03:36.195114Z",
     "iopub.status.busy": "2022-08-03T08:03:36.193996Z",
     "iopub.status.idle": "2022-08-03T08:03:36.230692Z",
     "shell.execute_reply": "2022-08-03T08:03:36.229429Z"
    },
    "papermill": {
     "duration": 0.059923,
     "end_time": "2022-08-03T08:03:36.233257",
     "exception": false,
     "start_time": "2022-08-03T08:03:36.173334",
     "status": "completed"
    },
    "tags": []
   },
   "outputs": [
    {
     "data": {
      "text/html": [
       "<div>\n",
       "<style scoped>\n",
       "    .dataframe tbody tr th:only-of-type {\n",
       "        vertical-align: middle;\n",
       "    }\n",
       "\n",
       "    .dataframe tbody tr th {\n",
       "        vertical-align: top;\n",
       "    }\n",
       "\n",
       "    .dataframe thead th {\n",
       "        text-align: right;\n",
       "    }\n",
       "</style>\n",
       "<table border=\"1\" class=\"dataframe\">\n",
       "  <thead>\n",
       "    <tr style=\"text-align: right;\">\n",
       "      <th></th>\n",
       "      <th>loan_amnt</th>\n",
       "      <th>funded_amnt</th>\n",
       "      <th>funded_amnt_inv</th>\n",
       "      <th>term</th>\n",
       "      <th>int_rate</th>\n",
       "      <th>installment</th>\n",
       "      <th>grade</th>\n",
       "      <th>sub_grade</th>\n",
       "      <th>emp_title</th>\n",
       "      <th>emp_length</th>\n",
       "      <th>...</th>\n",
       "      <th>total_pymnt_inv</th>\n",
       "      <th>total_rec_prncp</th>\n",
       "      <th>total_rec_int</th>\n",
       "      <th>total_rec_late_fee</th>\n",
       "      <th>recoveries</th>\n",
       "      <th>collection_recovery_fee</th>\n",
       "      <th>last_pymnt_d</th>\n",
       "      <th>last_pymnt_amnt</th>\n",
       "      <th>last_credit_pull_d</th>\n",
       "      <th>pub_rec_bankruptcies</th>\n",
       "    </tr>\n",
       "  </thead>\n",
       "  <tbody>\n",
       "    <tr>\n",
       "      <th>26025</th>\n",
       "      <td>5000</td>\n",
       "      <td>5000</td>\n",
       "      <td>5000.0</td>\n",
       "      <td>36 months</td>\n",
       "      <td>0.1112</td>\n",
       "      <td>163.98</td>\n",
       "      <td>B</td>\n",
       "      <td>B3</td>\n",
       "      <td>NaN</td>\n",
       "      <td>5 years</td>\n",
       "      <td>...</td>\n",
       "      <td>3362.96</td>\n",
       "      <td>2553.55</td>\n",
       "      <td>702.45</td>\n",
       "      <td>0.0</td>\n",
       "      <td>106.96</td>\n",
       "      <td>1.34</td>\n",
       "      <td>Jun-12</td>\n",
       "      <td>163.98</td>\n",
       "      <td>NaT</td>\n",
       "      <td>0.0</td>\n",
       "    </tr>\n",
       "    <tr>\n",
       "      <th>39476</th>\n",
       "      <td>1000</td>\n",
       "      <td>1000</td>\n",
       "      <td>875.0</td>\n",
       "      <td>36 months</td>\n",
       "      <td>0.0712</td>\n",
       "      <td>30.94</td>\n",
       "      <td>A</td>\n",
       "      <td>A1</td>\n",
       "      <td>NaN</td>\n",
       "      <td>&lt; 1 year</td>\n",
       "      <td>...</td>\n",
       "      <td>971.96</td>\n",
       "      <td>1000.00</td>\n",
       "      <td>110.81</td>\n",
       "      <td>0.0</td>\n",
       "      <td>0.00</td>\n",
       "      <td>0.00</td>\n",
       "      <td>Aug-10</td>\n",
       "      <td>185.80</td>\n",
       "      <td>NaT</td>\n",
       "      <td>NaN</td>\n",
       "    </tr>\n",
       "  </tbody>\n",
       "</table>\n",
       "<p>2 rows × 45 columns</p>\n",
       "</div>"
      ],
      "text/plain": [
       "       loan_amnt  funded_amnt  funded_amnt_inv        term  int_rate  \\\n",
       "26025       5000         5000           5000.0   36 months    0.1112   \n",
       "39476       1000         1000            875.0   36 months    0.0712   \n",
       "\n",
       "       installment grade sub_grade emp_title emp_length  ... total_pymnt_inv  \\\n",
       "26025       163.98     B        B3       NaN    5 years  ...         3362.96   \n",
       "39476        30.94     A        A1       NaN   < 1 year  ...          971.96   \n",
       "\n",
       "       total_rec_prncp total_rec_int total_rec_late_fee recoveries  \\\n",
       "26025          2553.55        702.45                0.0     106.96   \n",
       "39476          1000.00        110.81                0.0       0.00   \n",
       "\n",
       "      collection_recovery_fee last_pymnt_d last_pymnt_amnt last_credit_pull_d  \\\n",
       "26025                    1.34       Jun-12          163.98                NaT   \n",
       "39476                    0.00       Aug-10          185.80                NaT   \n",
       "\n",
       "      pub_rec_bankruptcies  \n",
       "26025                  0.0  \n",
       "39476                  NaN  \n",
       "\n",
       "[2 rows x 45 columns]"
      ]
     },
     "execution_count": 56,
     "metadata": {},
     "output_type": "execute_result"
    }
   ],
   "source": [
    "df[df['last_credit_pull_d'].isna()]\n",
    "# Remove these two rows?"
   ]
  },
  {
   "cell_type": "code",
   "execution_count": 57,
   "id": "c767226c",
   "metadata": {
    "execution": {
     "iopub.execute_input": "2022-08-03T08:03:36.275020Z",
     "iopub.status.busy": "2022-08-03T08:03:36.274645Z",
     "iopub.status.idle": "2022-08-03T08:03:36.349116Z",
     "shell.execute_reply": "2022-08-03T08:03:36.348221Z"
    },
    "papermill": {
     "duration": 0.098268,
     "end_time": "2022-08-03T08:03:36.351834",
     "exception": false,
     "start_time": "2022-08-03T08:03:36.253566",
     "status": "completed"
    },
    "tags": []
   },
   "outputs": [],
   "source": [
    "df['last_pymnt_d'] = clean_date(df['last_pymnt_d'])"
   ]
  },
  {
   "cell_type": "code",
   "execution_count": 58,
   "id": "ab7fec60",
   "metadata": {
    "execution": {
     "iopub.execute_input": "2022-08-03T08:03:36.393689Z",
     "iopub.status.busy": "2022-08-03T08:03:36.393318Z",
     "iopub.status.idle": "2022-08-03T08:03:36.441958Z",
     "shell.execute_reply": "2022-08-03T08:03:36.440952Z"
    },
    "papermill": {
     "duration": 0.072019,
     "end_time": "2022-08-03T08:03:36.444319",
     "exception": false,
     "start_time": "2022-08-03T08:03:36.372300",
     "status": "completed"
    },
    "tags": []
   },
   "outputs": [
    {
     "data": {
      "text/html": [
       "<div>\n",
       "<style scoped>\n",
       "    .dataframe tbody tr th:only-of-type {\n",
       "        vertical-align: middle;\n",
       "    }\n",
       "\n",
       "    .dataframe tbody tr th {\n",
       "        vertical-align: top;\n",
       "    }\n",
       "\n",
       "    .dataframe thead th {\n",
       "        text-align: right;\n",
       "    }\n",
       "</style>\n",
       "<table border=\"1\" class=\"dataframe\">\n",
       "  <thead>\n",
       "    <tr style=\"text-align: right;\">\n",
       "      <th></th>\n",
       "      <th>loan_amnt</th>\n",
       "      <th>funded_amnt</th>\n",
       "      <th>funded_amnt_inv</th>\n",
       "      <th>term</th>\n",
       "      <th>int_rate</th>\n",
       "      <th>installment</th>\n",
       "      <th>grade</th>\n",
       "      <th>sub_grade</th>\n",
       "      <th>emp_title</th>\n",
       "      <th>emp_length</th>\n",
       "      <th>...</th>\n",
       "      <th>total_pymnt_inv</th>\n",
       "      <th>total_rec_prncp</th>\n",
       "      <th>total_rec_int</th>\n",
       "      <th>total_rec_late_fee</th>\n",
       "      <th>recoveries</th>\n",
       "      <th>collection_recovery_fee</th>\n",
       "      <th>last_pymnt_d</th>\n",
       "      <th>last_pymnt_amnt</th>\n",
       "      <th>last_credit_pull_d</th>\n",
       "      <th>pub_rec_bankruptcies</th>\n",
       "    </tr>\n",
       "  </thead>\n",
       "  <tbody>\n",
       "    <tr>\n",
       "      <th>26</th>\n",
       "      <td>15000</td>\n",
       "      <td>15000</td>\n",
       "      <td>8725.0</td>\n",
       "      <td>36 months</td>\n",
       "      <td>0.1427</td>\n",
       "      <td>514.64</td>\n",
       "      <td>C</td>\n",
       "      <td>C2</td>\n",
       "      <td>nyc transit</td>\n",
       "      <td>9 years</td>\n",
       "      <td>...</td>\n",
       "      <td>0.00</td>\n",
       "      <td>0.0</td>\n",
       "      <td>0.0</td>\n",
       "      <td>0.0</td>\n",
       "      <td>0.00</td>\n",
       "      <td>0.0000</td>\n",
       "      <td>NaT</td>\n",
       "      <td>0.0</td>\n",
       "      <td>2016-05-01</td>\n",
       "      <td>0.0</td>\n",
       "    </tr>\n",
       "    <tr>\n",
       "      <th>2724</th>\n",
       "      <td>8000</td>\n",
       "      <td>8000</td>\n",
       "      <td>3975.0</td>\n",
       "      <td>36 months</td>\n",
       "      <td>0.1465</td>\n",
       "      <td>275.96</td>\n",
       "      <td>C</td>\n",
       "      <td>C3</td>\n",
       "      <td>Southern Felt</td>\n",
       "      <td>10+ years</td>\n",
       "      <td>...</td>\n",
       "      <td>0.00</td>\n",
       "      <td>0.0</td>\n",
       "      <td>0.0</td>\n",
       "      <td>0.0</td>\n",
       "      <td>0.00</td>\n",
       "      <td>0.0000</td>\n",
       "      <td>NaT</td>\n",
       "      <td>0.0</td>\n",
       "      <td>2016-05-01</td>\n",
       "      <td>0.0</td>\n",
       "    </tr>\n",
       "    <tr>\n",
       "      <th>3613</th>\n",
       "      <td>6400</td>\n",
       "      <td>6400</td>\n",
       "      <td>6400.0</td>\n",
       "      <td>60 months</td>\n",
       "      <td>0.1825</td>\n",
       "      <td>163.39</td>\n",
       "      <td>D</td>\n",
       "      <td>D5</td>\n",
       "      <td>akrons children hospitial</td>\n",
       "      <td>5 years</td>\n",
       "      <td>...</td>\n",
       "      <td>366.75</td>\n",
       "      <td>0.0</td>\n",
       "      <td>0.0</td>\n",
       "      <td>0.0</td>\n",
       "      <td>366.75</td>\n",
       "      <td>66.0150</td>\n",
       "      <td>NaT</td>\n",
       "      <td>0.0</td>\n",
       "      <td>2012-04-01</td>\n",
       "      <td>0.0</td>\n",
       "    </tr>\n",
       "    <tr>\n",
       "      <th>3985</th>\n",
       "      <td>18000</td>\n",
       "      <td>18000</td>\n",
       "      <td>18000.0</td>\n",
       "      <td>60 months</td>\n",
       "      <td>0.1903</td>\n",
       "      <td>467.23</td>\n",
       "      <td>E</td>\n",
       "      <td>E2</td>\n",
       "      <td>ZIMFA INC</td>\n",
       "      <td>4 years</td>\n",
       "      <td>...</td>\n",
       "      <td>0.00</td>\n",
       "      <td>0.0</td>\n",
       "      <td>0.0</td>\n",
       "      <td>0.0</td>\n",
       "      <td>0.00</td>\n",
       "      <td>0.0000</td>\n",
       "      <td>NaT</td>\n",
       "      <td>0.0</td>\n",
       "      <td>2016-04-01</td>\n",
       "      <td>0.0</td>\n",
       "    </tr>\n",
       "    <tr>\n",
       "      <th>4206</th>\n",
       "      <td>1800</td>\n",
       "      <td>1800</td>\n",
       "      <td>1800.0</td>\n",
       "      <td>36 months</td>\n",
       "      <td>0.0890</td>\n",
       "      <td>57.16</td>\n",
       "      <td>A</td>\n",
       "      <td>A5</td>\n",
       "      <td>Hospira worldwide</td>\n",
       "      <td>9 years</td>\n",
       "      <td>...</td>\n",
       "      <td>1800.00</td>\n",
       "      <td>0.0</td>\n",
       "      <td>0.0</td>\n",
       "      <td>0.0</td>\n",
       "      <td>1800.00</td>\n",
       "      <td>0.0000</td>\n",
       "      <td>NaT</td>\n",
       "      <td>0.0</td>\n",
       "      <td>2016-05-01</td>\n",
       "      <td>0.0</td>\n",
       "    </tr>\n",
       "    <tr>\n",
       "      <th>...</th>\n",
       "      <td>...</td>\n",
       "      <td>...</td>\n",
       "      <td>...</td>\n",
       "      <td>...</td>\n",
       "      <td>...</td>\n",
       "      <td>...</td>\n",
       "      <td>...</td>\n",
       "      <td>...</td>\n",
       "      <td>...</td>\n",
       "      <td>...</td>\n",
       "      <td>...</td>\n",
       "      <td>...</td>\n",
       "      <td>...</td>\n",
       "      <td>...</td>\n",
       "      <td>...</td>\n",
       "      <td>...</td>\n",
       "      <td>...</td>\n",
       "      <td>...</td>\n",
       "      <td>...</td>\n",
       "      <td>...</td>\n",
       "      <td>...</td>\n",
       "    </tr>\n",
       "    <tr>\n",
       "      <th>36185</th>\n",
       "      <td>20000</td>\n",
       "      <td>20000</td>\n",
       "      <td>13975.0</td>\n",
       "      <td>36 months</td>\n",
       "      <td>0.1189</td>\n",
       "      <td>663.28</td>\n",
       "      <td>B</td>\n",
       "      <td>B4</td>\n",
       "      <td>US Army</td>\n",
       "      <td>10+ years</td>\n",
       "      <td>...</td>\n",
       "      <td>3139.36</td>\n",
       "      <td>0.0</td>\n",
       "      <td>0.0</td>\n",
       "      <td>0.0</td>\n",
       "      <td>4493.30</td>\n",
       "      <td>1381.4454</td>\n",
       "      <td>NaT</td>\n",
       "      <td>0.0</td>\n",
       "      <td>2009-12-01</td>\n",
       "      <td>0.0</td>\n",
       "    </tr>\n",
       "    <tr>\n",
       "      <th>36206</th>\n",
       "      <td>7800</td>\n",
       "      <td>7800</td>\n",
       "      <td>7725.0</td>\n",
       "      <td>36 months</td>\n",
       "      <td>0.1095</td>\n",
       "      <td>255.17</td>\n",
       "      <td>B</td>\n",
       "      <td>B1</td>\n",
       "      <td>FLACS</td>\n",
       "      <td>&lt; 1 year</td>\n",
       "      <td>...</td>\n",
       "      <td>0.00</td>\n",
       "      <td>0.0</td>\n",
       "      <td>0.0</td>\n",
       "      <td>0.0</td>\n",
       "      <td>0.00</td>\n",
       "      <td>0.0000</td>\n",
       "      <td>NaT</td>\n",
       "      <td>0.0</td>\n",
       "      <td>2016-05-01</td>\n",
       "      <td>0.0</td>\n",
       "    </tr>\n",
       "    <tr>\n",
       "      <th>36209</th>\n",
       "      <td>2000</td>\n",
       "      <td>2000</td>\n",
       "      <td>2000.0</td>\n",
       "      <td>36 months</td>\n",
       "      <td>0.1600</td>\n",
       "      <td>70.32</td>\n",
       "      <td>E</td>\n",
       "      <td>E2</td>\n",
       "      <td>Portland State Uniersity Distance Learning Center</td>\n",
       "      <td>&lt; 1 year</td>\n",
       "      <td>...</td>\n",
       "      <td>89.99</td>\n",
       "      <td>0.0</td>\n",
       "      <td>0.0</td>\n",
       "      <td>0.0</td>\n",
       "      <td>89.99</td>\n",
       "      <td>0.9000</td>\n",
       "      <td>NaT</td>\n",
       "      <td>0.0</td>\n",
       "      <td>2009-12-01</td>\n",
       "      <td>0.0</td>\n",
       "    </tr>\n",
       "    <tr>\n",
       "      <th>36937</th>\n",
       "      <td>25000</td>\n",
       "      <td>25000</td>\n",
       "      <td>11625.0</td>\n",
       "      <td>36 months</td>\n",
       "      <td>0.1379</td>\n",
       "      <td>851.89</td>\n",
       "      <td>C</td>\n",
       "      <td>C5</td>\n",
       "      <td>ARES Corporation</td>\n",
       "      <td>1 year</td>\n",
       "      <td>...</td>\n",
       "      <td>0.00</td>\n",
       "      <td>0.0</td>\n",
       "      <td>0.0</td>\n",
       "      <td>0.0</td>\n",
       "      <td>0.00</td>\n",
       "      <td>0.0000</td>\n",
       "      <td>NaT</td>\n",
       "      <td>0.0</td>\n",
       "      <td>2009-06-01</td>\n",
       "      <td>0.0</td>\n",
       "    </tr>\n",
       "    <tr>\n",
       "      <th>37911</th>\n",
       "      <td>5000</td>\n",
       "      <td>5000</td>\n",
       "      <td>4250.0</td>\n",
       "      <td>36 months</td>\n",
       "      <td>0.1821</td>\n",
       "      <td>181.30</td>\n",
       "      <td>F</td>\n",
       "      <td>F4</td>\n",
       "      <td>Godwin Landscape</td>\n",
       "      <td>1 year</td>\n",
       "      <td>...</td>\n",
       "      <td>191.03</td>\n",
       "      <td>0.0</td>\n",
       "      <td>0.0</td>\n",
       "      <td>0.0</td>\n",
       "      <td>224.77</td>\n",
       "      <td>2.2200</td>\n",
       "      <td>NaT</td>\n",
       "      <td>0.0</td>\n",
       "      <td>2009-09-01</td>\n",
       "      <td>0.0</td>\n",
       "    </tr>\n",
       "  </tbody>\n",
       "</table>\n",
       "<p>71 rows × 45 columns</p>\n",
       "</div>"
      ],
      "text/plain": [
       "       loan_amnt  funded_amnt  funded_amnt_inv        term  int_rate  \\\n",
       "26         15000        15000           8725.0   36 months    0.1427   \n",
       "2724        8000         8000           3975.0   36 months    0.1465   \n",
       "3613        6400         6400           6400.0   60 months    0.1825   \n",
       "3985       18000        18000          18000.0   60 months    0.1903   \n",
       "4206        1800         1800           1800.0   36 months    0.0890   \n",
       "...          ...          ...              ...         ...       ...   \n",
       "36185      20000        20000          13975.0   36 months    0.1189   \n",
       "36206       7800         7800           7725.0   36 months    0.1095   \n",
       "36209       2000         2000           2000.0   36 months    0.1600   \n",
       "36937      25000        25000          11625.0   36 months    0.1379   \n",
       "37911       5000         5000           4250.0   36 months    0.1821   \n",
       "\n",
       "       installment grade sub_grade  \\\n",
       "26          514.64     C        C2   \n",
       "2724        275.96     C        C3   \n",
       "3613        163.39     D        D5   \n",
       "3985        467.23     E        E2   \n",
       "4206         57.16     A        A5   \n",
       "...            ...   ...       ...   \n",
       "36185       663.28     B        B4   \n",
       "36206       255.17     B        B1   \n",
       "36209        70.32     E        E2   \n",
       "36937       851.89     C        C5   \n",
       "37911       181.30     F        F4   \n",
       "\n",
       "                                               emp_title emp_length  ...  \\\n",
       "26                                           nyc transit    9 years  ...   \n",
       "2724                                       Southern Felt  10+ years  ...   \n",
       "3613                           akrons children hospitial    5 years  ...   \n",
       "3985                                           ZIMFA INC    4 years  ...   \n",
       "4206                                   Hospira worldwide    9 years  ...   \n",
       "...                                                  ...        ...  ...   \n",
       "36185                                            US Army  10+ years  ...   \n",
       "36206                                              FLACS   < 1 year  ...   \n",
       "36209  Portland State Uniersity Distance Learning Center   < 1 year  ...   \n",
       "36937                                   ARES Corporation     1 year  ...   \n",
       "37911                                   Godwin Landscape     1 year  ...   \n",
       "\n",
       "      total_pymnt_inv  total_rec_prncp total_rec_int total_rec_late_fee  \\\n",
       "26               0.00              0.0           0.0                0.0   \n",
       "2724             0.00              0.0           0.0                0.0   \n",
       "3613           366.75              0.0           0.0                0.0   \n",
       "3985             0.00              0.0           0.0                0.0   \n",
       "4206          1800.00              0.0           0.0                0.0   \n",
       "...               ...              ...           ...                ...   \n",
       "36185         3139.36              0.0           0.0                0.0   \n",
       "36206            0.00              0.0           0.0                0.0   \n",
       "36209           89.99              0.0           0.0                0.0   \n",
       "36937            0.00              0.0           0.0                0.0   \n",
       "37911          191.03              0.0           0.0                0.0   \n",
       "\n",
       "      recoveries collection_recovery_fee last_pymnt_d last_pymnt_amnt  \\\n",
       "26          0.00                  0.0000          NaT             0.0   \n",
       "2724        0.00                  0.0000          NaT             0.0   \n",
       "3613      366.75                 66.0150          NaT             0.0   \n",
       "3985        0.00                  0.0000          NaT             0.0   \n",
       "4206     1800.00                  0.0000          NaT             0.0   \n",
       "...          ...                     ...          ...             ...   \n",
       "36185    4493.30               1381.4454          NaT             0.0   \n",
       "36206       0.00                  0.0000          NaT             0.0   \n",
       "36209      89.99                  0.9000          NaT             0.0   \n",
       "36937       0.00                  0.0000          NaT             0.0   \n",
       "37911     224.77                  2.2200          NaT             0.0   \n",
       "\n",
       "      last_credit_pull_d pub_rec_bankruptcies  \n",
       "26            2016-05-01                  0.0  \n",
       "2724          2016-05-01                  0.0  \n",
       "3613          2012-04-01                  0.0  \n",
       "3985          2016-04-01                  0.0  \n",
       "4206          2016-05-01                  0.0  \n",
       "...                  ...                  ...  \n",
       "36185         2009-12-01                  0.0  \n",
       "36206         2016-05-01                  0.0  \n",
       "36209         2009-12-01                  0.0  \n",
       "36937         2009-06-01                  0.0  \n",
       "37911         2009-09-01                  0.0  \n",
       "\n",
       "[71 rows x 45 columns]"
      ]
     },
     "execution_count": 58,
     "metadata": {},
     "output_type": "execute_result"
    }
   ],
   "source": [
    "df[df['last_pymnt_d'].isna()]\n",
    "# Remove these 71 rows?"
   ]
  },
  {
   "cell_type": "code",
   "execution_count": null,
   "id": "ff9946c2",
   "metadata": {
    "papermill": {
     "duration": 0.019924,
     "end_time": "2022-08-03T08:03:36.484088",
     "exception": false,
     "start_time": "2022-08-03T08:03:36.464164",
     "status": "completed"
    },
    "tags": []
   },
   "outputs": [],
   "source": []
  }
 ],
 "metadata": {
  "kernelspec": {
   "display_name": "Python 3",
   "language": "python",
   "name": "python3"
  },
  "language_info": {
   "codemirror_mode": {
    "name": "ipython",
    "version": 3
   },
   "file_extension": ".py",
   "mimetype": "text/x-python",
   "name": "python",
   "nbconvert_exporter": "python",
   "pygments_lexer": "ipython3",
   "version": "3.7.12"
  },
  "papermill": {
   "default_parameters": {},
   "duration": 15.399499,
   "end_time": "2022-08-03T08:03:37.226620",
   "environment_variables": {},
   "exception": null,
   "input_path": "__notebook__.ipynb",
   "output_path": "__notebook__.ipynb",
   "parameters": {},
   "start_time": "2022-08-03T08:03:21.827121",
   "version": "2.3.4"
  }
 },
 "nbformat": 4,
 "nbformat_minor": 5
}
