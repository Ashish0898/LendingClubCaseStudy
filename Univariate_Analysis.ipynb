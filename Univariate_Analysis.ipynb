{
 "cells": [
  {
   "cell_type": "markdown",
   "metadata": {},
   "source": [
    "# <center> Lending Club Case Study </center>"
   ]
  },
  {
   "cell_type": "code",
   "execution_count": 43,
   "metadata": {},
   "outputs": [],
   "source": [
    "# libraries to import for the project to work properly\n",
    "import pandas as pd                 # data analysis and manipulation library for Python\n",
    "import numpy as np                  # numerical python library for math functions and arrays \n",
    "import matplotlib.pyplot as plt     # plotting library for Python\n",
    "import seaborn as sns               # statistical data visualization library for Python\n",
    "import datetime                     # library for date and time functions\n",
    "import warnings                     # library for warning messages and exceptions\n",
    "warnings.filterwarnings('ignore')   # ignore warnings"
   ]
  },
  {
   "cell_type": "code",
   "execution_count": 44,
   "metadata": {},
   "outputs": [],
   "source": [
    "# import the data from the csv file\n",
    "\n",
    "df = pd.read_csv(\"Data\\loan.csv\")"
   ]
  },
  {
   "cell_type": "code",
   "execution_count": 45,
   "metadata": {},
   "outputs": [
    {
     "data": {
      "text/html": [
       "<div>\n",
       "<style scoped>\n",
       "    .dataframe tbody tr th:only-of-type {\n",
       "        vertical-align: middle;\n",
       "    }\n",
       "\n",
       "    .dataframe tbody tr th {\n",
       "        vertical-align: top;\n",
       "    }\n",
       "\n",
       "    .dataframe thead th {\n",
       "        text-align: right;\n",
       "    }\n",
       "</style>\n",
       "<table border=\"1\" class=\"dataframe\">\n",
       "  <thead>\n",
       "    <tr style=\"text-align: right;\">\n",
       "      <th></th>\n",
       "      <th>id</th>\n",
       "      <th>member_id</th>\n",
       "      <th>loan_amnt</th>\n",
       "      <th>funded_amnt</th>\n",
       "      <th>funded_amnt_inv</th>\n",
       "      <th>term</th>\n",
       "      <th>int_rate</th>\n",
       "      <th>installment</th>\n",
       "      <th>grade</th>\n",
       "      <th>sub_grade</th>\n",
       "      <th>...</th>\n",
       "      <th>num_tl_90g_dpd_24m</th>\n",
       "      <th>num_tl_op_past_12m</th>\n",
       "      <th>pct_tl_nvr_dlq</th>\n",
       "      <th>percent_bc_gt_75</th>\n",
       "      <th>pub_rec_bankruptcies</th>\n",
       "      <th>tax_liens</th>\n",
       "      <th>tot_hi_cred_lim</th>\n",
       "      <th>total_bal_ex_mort</th>\n",
       "      <th>total_bc_limit</th>\n",
       "      <th>total_il_high_credit_limit</th>\n",
       "    </tr>\n",
       "  </thead>\n",
       "  <tbody>\n",
       "    <tr>\n",
       "      <th>0</th>\n",
       "      <td>1077501</td>\n",
       "      <td>1296599</td>\n",
       "      <td>5000</td>\n",
       "      <td>5000</td>\n",
       "      <td>4975.0</td>\n",
       "      <td>36 months</td>\n",
       "      <td>10.65%</td>\n",
       "      <td>162.87</td>\n",
       "      <td>B</td>\n",
       "      <td>B2</td>\n",
       "      <td>...</td>\n",
       "      <td>NaN</td>\n",
       "      <td>NaN</td>\n",
       "      <td>NaN</td>\n",
       "      <td>NaN</td>\n",
       "      <td>0.0</td>\n",
       "      <td>0.0</td>\n",
       "      <td>NaN</td>\n",
       "      <td>NaN</td>\n",
       "      <td>NaN</td>\n",
       "      <td>NaN</td>\n",
       "    </tr>\n",
       "    <tr>\n",
       "      <th>1</th>\n",
       "      <td>1077430</td>\n",
       "      <td>1314167</td>\n",
       "      <td>2500</td>\n",
       "      <td>2500</td>\n",
       "      <td>2500.0</td>\n",
       "      <td>60 months</td>\n",
       "      <td>15.27%</td>\n",
       "      <td>59.83</td>\n",
       "      <td>C</td>\n",
       "      <td>C4</td>\n",
       "      <td>...</td>\n",
       "      <td>NaN</td>\n",
       "      <td>NaN</td>\n",
       "      <td>NaN</td>\n",
       "      <td>NaN</td>\n",
       "      <td>0.0</td>\n",
       "      <td>0.0</td>\n",
       "      <td>NaN</td>\n",
       "      <td>NaN</td>\n",
       "      <td>NaN</td>\n",
       "      <td>NaN</td>\n",
       "    </tr>\n",
       "    <tr>\n",
       "      <th>2</th>\n",
       "      <td>1077175</td>\n",
       "      <td>1313524</td>\n",
       "      <td>2400</td>\n",
       "      <td>2400</td>\n",
       "      <td>2400.0</td>\n",
       "      <td>36 months</td>\n",
       "      <td>15.96%</td>\n",
       "      <td>84.33</td>\n",
       "      <td>C</td>\n",
       "      <td>C5</td>\n",
       "      <td>...</td>\n",
       "      <td>NaN</td>\n",
       "      <td>NaN</td>\n",
       "      <td>NaN</td>\n",
       "      <td>NaN</td>\n",
       "      <td>0.0</td>\n",
       "      <td>0.0</td>\n",
       "      <td>NaN</td>\n",
       "      <td>NaN</td>\n",
       "      <td>NaN</td>\n",
       "      <td>NaN</td>\n",
       "    </tr>\n",
       "    <tr>\n",
       "      <th>3</th>\n",
       "      <td>1076863</td>\n",
       "      <td>1277178</td>\n",
       "      <td>10000</td>\n",
       "      <td>10000</td>\n",
       "      <td>10000.0</td>\n",
       "      <td>36 months</td>\n",
       "      <td>13.49%</td>\n",
       "      <td>339.31</td>\n",
       "      <td>C</td>\n",
       "      <td>C1</td>\n",
       "      <td>...</td>\n",
       "      <td>NaN</td>\n",
       "      <td>NaN</td>\n",
       "      <td>NaN</td>\n",
       "      <td>NaN</td>\n",
       "      <td>0.0</td>\n",
       "      <td>0.0</td>\n",
       "      <td>NaN</td>\n",
       "      <td>NaN</td>\n",
       "      <td>NaN</td>\n",
       "      <td>NaN</td>\n",
       "    </tr>\n",
       "    <tr>\n",
       "      <th>4</th>\n",
       "      <td>1075358</td>\n",
       "      <td>1311748</td>\n",
       "      <td>3000</td>\n",
       "      <td>3000</td>\n",
       "      <td>3000.0</td>\n",
       "      <td>60 months</td>\n",
       "      <td>12.69%</td>\n",
       "      <td>67.79</td>\n",
       "      <td>B</td>\n",
       "      <td>B5</td>\n",
       "      <td>...</td>\n",
       "      <td>NaN</td>\n",
       "      <td>NaN</td>\n",
       "      <td>NaN</td>\n",
       "      <td>NaN</td>\n",
       "      <td>0.0</td>\n",
       "      <td>0.0</td>\n",
       "      <td>NaN</td>\n",
       "      <td>NaN</td>\n",
       "      <td>NaN</td>\n",
       "      <td>NaN</td>\n",
       "    </tr>\n",
       "  </tbody>\n",
       "</table>\n",
       "<p>5 rows × 111 columns</p>\n",
       "</div>"
      ],
      "text/plain": [
       "        id  member_id  loan_amnt  funded_amnt  funded_amnt_inv        term  \\\n",
       "0  1077501    1296599       5000         5000           4975.0   36 months   \n",
       "1  1077430    1314167       2500         2500           2500.0   60 months   \n",
       "2  1077175    1313524       2400         2400           2400.0   36 months   \n",
       "3  1076863    1277178      10000        10000          10000.0   36 months   \n",
       "4  1075358    1311748       3000         3000           3000.0   60 months   \n",
       "\n",
       "  int_rate  installment grade sub_grade  ... num_tl_90g_dpd_24m  \\\n",
       "0   10.65%       162.87     B        B2  ...                NaN   \n",
       "1   15.27%        59.83     C        C4  ...                NaN   \n",
       "2   15.96%        84.33     C        C5  ...                NaN   \n",
       "3   13.49%       339.31     C        C1  ...                NaN   \n",
       "4   12.69%        67.79     B        B5  ...                NaN   \n",
       "\n",
       "  num_tl_op_past_12m pct_tl_nvr_dlq  percent_bc_gt_75 pub_rec_bankruptcies  \\\n",
       "0                NaN            NaN               NaN                  0.0   \n",
       "1                NaN            NaN               NaN                  0.0   \n",
       "2                NaN            NaN               NaN                  0.0   \n",
       "3                NaN            NaN               NaN                  0.0   \n",
       "4                NaN            NaN               NaN                  0.0   \n",
       "\n",
       "  tax_liens tot_hi_cred_lim total_bal_ex_mort total_bc_limit  \\\n",
       "0       0.0             NaN               NaN            NaN   \n",
       "1       0.0             NaN               NaN            NaN   \n",
       "2       0.0             NaN               NaN            NaN   \n",
       "3       0.0             NaN               NaN            NaN   \n",
       "4       0.0             NaN               NaN            NaN   \n",
       "\n",
       "  total_il_high_credit_limit  \n",
       "0                        NaN  \n",
       "1                        NaN  \n",
       "2                        NaN  \n",
       "3                        NaN  \n",
       "4                        NaN  \n",
       "\n",
       "[5 rows x 111 columns]"
      ]
     },
     "execution_count": 45,
     "metadata": {},
     "output_type": "execute_result"
    }
   ],
   "source": [
    "# show the first 5 rows of the dataframe df\n",
    "\n",
    "df.head() "
   ]
  },
  {
   "cell_type": "code",
   "execution_count": 46,
   "metadata": {},
   "outputs": [
    {
     "name": "stdout",
     "output_type": "stream",
     "text": [
      "<class 'pandas.core.frame.DataFrame'>\n",
      "RangeIndex: 39717 entries, 0 to 39716\n",
      "Data columns (total 111 columns):\n",
      " #    Column                          Non-Null Count  Dtype  \n",
      "---   ------                          --------------  -----  \n",
      " 0    id                              39717 non-null  int64  \n",
      " 1    member_id                       39717 non-null  int64  \n",
      " 2    loan_amnt                       39717 non-null  int64  \n",
      " 3    funded_amnt                     39717 non-null  int64  \n",
      " 4    funded_amnt_inv                 39717 non-null  float64\n",
      " 5    term                            39717 non-null  object \n",
      " 6    int_rate                        39717 non-null  object \n",
      " 7    installment                     39717 non-null  float64\n",
      " 8    grade                           39717 non-null  object \n",
      " 9    sub_grade                       39717 non-null  object \n",
      " 10   emp_title                       37258 non-null  object \n",
      " 11   emp_length                      38642 non-null  object \n",
      " 12   home_ownership                  39717 non-null  object \n",
      " 13   annual_inc                      39717 non-null  float64\n",
      " 14   verification_status             39717 non-null  object \n",
      " 15   issue_d                         39717 non-null  object \n",
      " 16   loan_status                     39717 non-null  object \n",
      " 17   pymnt_plan                      39717 non-null  object \n",
      " 18   url                             39717 non-null  object \n",
      " 19   desc                            26777 non-null  object \n",
      " 20   purpose                         39717 non-null  object \n",
      " 21   title                           39706 non-null  object \n",
      " 22   zip_code                        39717 non-null  object \n",
      " 23   addr_state                      39717 non-null  object \n",
      " 24   dti                             39717 non-null  float64\n",
      " 25   delinq_2yrs                     39717 non-null  int64  \n",
      " 26   earliest_cr_line                39717 non-null  object \n",
      " 27   inq_last_6mths                  39717 non-null  int64  \n",
      " 28   mths_since_last_delinq          14035 non-null  float64\n",
      " 29   mths_since_last_record          2786 non-null   float64\n",
      " 30   open_acc                        39717 non-null  int64  \n",
      " 31   pub_rec                         39717 non-null  int64  \n",
      " 32   revol_bal                       39717 non-null  int64  \n",
      " 33   revol_util                      39667 non-null  object \n",
      " 34   total_acc                       39717 non-null  int64  \n",
      " 35   initial_list_status             39717 non-null  object \n",
      " 36   out_prncp                       39717 non-null  float64\n",
      " 37   out_prncp_inv                   39717 non-null  float64\n",
      " 38   total_pymnt                     39717 non-null  float64\n",
      " 39   total_pymnt_inv                 39717 non-null  float64\n",
      " 40   total_rec_prncp                 39717 non-null  float64\n",
      " 41   total_rec_int                   39717 non-null  float64\n",
      " 42   total_rec_late_fee              39717 non-null  float64\n",
      " 43   recoveries                      39717 non-null  float64\n",
      " 44   collection_recovery_fee         39717 non-null  float64\n",
      " 45   last_pymnt_d                    39646 non-null  object \n",
      " 46   last_pymnt_amnt                 39717 non-null  float64\n",
      " 47   next_pymnt_d                    1140 non-null   object \n",
      " 48   last_credit_pull_d              39715 non-null  object \n",
      " 49   collections_12_mths_ex_med      39661 non-null  float64\n",
      " 50   mths_since_last_major_derog     0 non-null      float64\n",
      " 51   policy_code                     39717 non-null  int64  \n",
      " 52   application_type                39717 non-null  object \n",
      " 53   annual_inc_joint                0 non-null      float64\n",
      " 54   dti_joint                       0 non-null      float64\n",
      " 55   verification_status_joint       0 non-null      float64\n",
      " 56   acc_now_delinq                  39717 non-null  int64  \n",
      " 57   tot_coll_amt                    0 non-null      float64\n",
      " 58   tot_cur_bal                     0 non-null      float64\n",
      " 59   open_acc_6m                     0 non-null      float64\n",
      " 60   open_il_6m                      0 non-null      float64\n",
      " 61   open_il_12m                     0 non-null      float64\n",
      " 62   open_il_24m                     0 non-null      float64\n",
      " 63   mths_since_rcnt_il              0 non-null      float64\n",
      " 64   total_bal_il                    0 non-null      float64\n",
      " 65   il_util                         0 non-null      float64\n",
      " 66   open_rv_12m                     0 non-null      float64\n",
      " 67   open_rv_24m                     0 non-null      float64\n",
      " 68   max_bal_bc                      0 non-null      float64\n",
      " 69   all_util                        0 non-null      float64\n",
      " 70   total_rev_hi_lim                0 non-null      float64\n",
      " 71   inq_fi                          0 non-null      float64\n",
      " 72   total_cu_tl                     0 non-null      float64\n",
      " 73   inq_last_12m                    0 non-null      float64\n",
      " 74   acc_open_past_24mths            0 non-null      float64\n",
      " 75   avg_cur_bal                     0 non-null      float64\n",
      " 76   bc_open_to_buy                  0 non-null      float64\n",
      " 77   bc_util                         0 non-null      float64\n",
      " 78   chargeoff_within_12_mths        39661 non-null  float64\n",
      " 79   delinq_amnt                     39717 non-null  int64  \n",
      " 80   mo_sin_old_il_acct              0 non-null      float64\n",
      " 81   mo_sin_old_rev_tl_op            0 non-null      float64\n",
      " 82   mo_sin_rcnt_rev_tl_op           0 non-null      float64\n",
      " 83   mo_sin_rcnt_tl                  0 non-null      float64\n",
      " 84   mort_acc                        0 non-null      float64\n",
      " 85   mths_since_recent_bc            0 non-null      float64\n",
      " 86   mths_since_recent_bc_dlq        0 non-null      float64\n",
      " 87   mths_since_recent_inq           0 non-null      float64\n",
      " 88   mths_since_recent_revol_delinq  0 non-null      float64\n",
      " 89   num_accts_ever_120_pd           0 non-null      float64\n",
      " 90   num_actv_bc_tl                  0 non-null      float64\n",
      " 91   num_actv_rev_tl                 0 non-null      float64\n",
      " 92   num_bc_sats                     0 non-null      float64\n",
      " 93   num_bc_tl                       0 non-null      float64\n",
      " 94   num_il_tl                       0 non-null      float64\n",
      " 95   num_op_rev_tl                   0 non-null      float64\n",
      " 96   num_rev_accts                   0 non-null      float64\n",
      " 97   num_rev_tl_bal_gt_0             0 non-null      float64\n",
      " 98   num_sats                        0 non-null      float64\n",
      " 99   num_tl_120dpd_2m                0 non-null      float64\n",
      " 100  num_tl_30dpd                    0 non-null      float64\n",
      " 101  num_tl_90g_dpd_24m              0 non-null      float64\n",
      " 102  num_tl_op_past_12m              0 non-null      float64\n",
      " 103  pct_tl_nvr_dlq                  0 non-null      float64\n",
      " 104  percent_bc_gt_75                0 non-null      float64\n",
      " 105  pub_rec_bankruptcies            39020 non-null  float64\n",
      " 106  tax_liens                       39678 non-null  float64\n",
      " 107  tot_hi_cred_lim                 0 non-null      float64\n",
      " 108  total_bal_ex_mort               0 non-null      float64\n",
      " 109  total_bc_limit                  0 non-null      float64\n",
      " 110  total_il_high_credit_limit      0 non-null      float64\n",
      "dtypes: float64(74), int64(13), object(24)\n",
      "memory usage: 33.6+ MB\n"
     ]
    }
   ],
   "source": [
    "# show the information about the dataframe df\n",
    "\n",
    "df.info(verbose=True, null_counts=True)"
   ]
  },
  {
   "cell_type": "code",
   "execution_count": 47,
   "metadata": {},
   "outputs": [
    {
     "name": "stdout",
     "output_type": "stream",
     "text": [
      "The shape of the dataframe df is (39717, 111).\n",
      "The dataframe df has 39717 rows and 111 columns.\n"
     ]
    }
   ],
   "source": [
    "print('The shape of the dataframe df is {}.'.format(df.shape))                               # print the shape of the dataframe df\n",
    "print('The dataframe df has {} rows and {} columns.'.format(df.shape[0], df.shape[1]))       # print the number of rows and columns in the dataframe df"
   ]
  },
  {
   "cell_type": "markdown",
   "metadata": {},
   "source": [
    "## Customer Behavior Variables\n",
    "* delinq_2yrs\n",
    "* earliest_cr_line\n",
    "* inq_last_6mths\n",
    "* open_acc\n",
    "* pub_rec\n",
    "* revol_bal\n",
    "* revol_util\n",
    "* total_acc\n",
    "* out_prncp\n",
    "* out_prncp_inv\n",
    "* total_pymnt\n",
    "* total_pymnt_inv\n",
    "* total_rec_prncp\n",
    "* total_rec_int\n",
    "* total_rec_late_fee\n",
    "* recoveries\n",
    "* collection_recovery_fee\n",
    "* last_pymnt_d\n",
    "* last_pymnt_amnt\n",
    "* last_credit_pull_d\n",
    "* application_type\n",
    "\n",
    "The customer behavior variables are not available at the time of loan application and hence they cannot be used as predictors for credit approval.\n",
    "\n",
    "### Recommendations:\n",
    "    1. Drop these columns since they are not available at the time of loan application."
   ]
  },
  {
   "cell_type": "code",
   "execution_count": 48,
   "metadata": {},
   "outputs": [],
   "source": [
    "# drop the customer behavior variables\n",
    "\n",
    "cus_beh_var = ['delinq_2yrs','earliest_cr_line','inq_last_6mths','open_acc','pub_rec','revol_bal','revol_util','total_acc',             # columns to be dropped\n",
    "               'out_prncp','out_prncp_inv','total_pymnt','total_pymnt_inv','total_rec_prncp','total_rec_int','total_rec_late_fee',\n",
    "               'recoveries','collection_recovery_fee','last_pymnt_d','last_pymnt_amnt','last_credit_pull_d','application_type']\n",
    "\n",
    "df.drop(cus_beh_var, axis=1, inplace=True)               # drop the columns 'cus_beh_var' from the dataframe 'df'"
   ]
  },
  {
   "cell_type": "markdown",
   "metadata": {},
   "source": [
    "Customer behavior variables are dropped from the dataframe."
   ]
  },
  {
   "cell_type": "code",
   "execution_count": 49,
   "metadata": {},
   "outputs": [
    {
     "data": {
      "text/html": [
       "<div>\n",
       "<style scoped>\n",
       "    .dataframe tbody tr th:only-of-type {\n",
       "        vertical-align: middle;\n",
       "    }\n",
       "\n",
       "    .dataframe tbody tr th {\n",
       "        vertical-align: top;\n",
       "    }\n",
       "\n",
       "    .dataframe thead th {\n",
       "        text-align: right;\n",
       "    }\n",
       "</style>\n",
       "<table border=\"1\" class=\"dataframe\">\n",
       "  <thead>\n",
       "    <tr style=\"text-align: right;\">\n",
       "      <th></th>\n",
       "      <th>column_name</th>\n",
       "      <th>percent_missing</th>\n",
       "    </tr>\n",
       "  </thead>\n",
       "  <tbody>\n",
       "    <tr>\n",
       "      <th>open_rv_12m</th>\n",
       "      <td>open_rv_12m</td>\n",
       "      <td>100.0</td>\n",
       "    </tr>\n",
       "    <tr>\n",
       "      <th>bc_open_to_buy</th>\n",
       "      <td>bc_open_to_buy</td>\n",
       "      <td>100.0</td>\n",
       "    </tr>\n",
       "    <tr>\n",
       "      <th>mths_since_recent_bc_dlq</th>\n",
       "      <td>mths_since_recent_bc_dlq</td>\n",
       "      <td>100.0</td>\n",
       "    </tr>\n",
       "    <tr>\n",
       "      <th>mths_since_recent_bc</th>\n",
       "      <td>mths_since_recent_bc</td>\n",
       "      <td>100.0</td>\n",
       "    </tr>\n",
       "    <tr>\n",
       "      <th>mort_acc</th>\n",
       "      <td>mort_acc</td>\n",
       "      <td>100.0</td>\n",
       "    </tr>\n",
       "    <tr>\n",
       "      <th>...</th>\n",
       "      <td>...</td>\n",
       "      <td>...</td>\n",
       "    </tr>\n",
       "    <tr>\n",
       "      <th>delinq_amnt</th>\n",
       "      <td>delinq_amnt</td>\n",
       "      <td>0.0</td>\n",
       "    </tr>\n",
       "    <tr>\n",
       "      <th>policy_code</th>\n",
       "      <td>policy_code</td>\n",
       "      <td>0.0</td>\n",
       "    </tr>\n",
       "    <tr>\n",
       "      <th>acc_now_delinq</th>\n",
       "      <td>acc_now_delinq</td>\n",
       "      <td>0.0</td>\n",
       "    </tr>\n",
       "    <tr>\n",
       "      <th>member_id</th>\n",
       "      <td>member_id</td>\n",
       "      <td>0.0</td>\n",
       "    </tr>\n",
       "    <tr>\n",
       "      <th>id</th>\n",
       "      <td>id</td>\n",
       "      <td>0.0</td>\n",
       "    </tr>\n",
       "  </tbody>\n",
       "</table>\n",
       "<p>90 rows × 2 columns</p>\n",
       "</div>"
      ],
      "text/plain": [
       "                                       column_name  percent_missing\n",
       "open_rv_12m                            open_rv_12m            100.0\n",
       "bc_open_to_buy                      bc_open_to_buy            100.0\n",
       "mths_since_recent_bc_dlq  mths_since_recent_bc_dlq            100.0\n",
       "mths_since_recent_bc          mths_since_recent_bc            100.0\n",
       "mort_acc                                  mort_acc            100.0\n",
       "...                                            ...              ...\n",
       "delinq_amnt                            delinq_amnt              0.0\n",
       "policy_code                            policy_code              0.0\n",
       "acc_now_delinq                      acc_now_delinq              0.0\n",
       "member_id                                member_id              0.0\n",
       "id                                              id              0.0\n",
       "\n",
       "[90 rows x 2 columns]"
      ]
     },
     "execution_count": 49,
     "metadata": {},
     "output_type": "execute_result"
    }
   ],
   "source": [
    "# show the percentage of missing values in each column\n",
    "\n",
    "percent_missing = df.isnull().sum() * 100 / len(df)\n",
    "missing_value_df = pd.DataFrame({'column_name': df.columns,\n",
    "                                 'percent_missing': percent_missing})\n",
    "missing_value_df.sort_values(by='percent_missing', ascending=False)"
   ]
  },
  {
   "cell_type": "markdown",
   "metadata": {},
   "source": [
    "### Insights:\n",
    "    We can see that some of the columns have all values missing and some columns have no values missing."
   ]
  },
  {
   "cell_type": "code",
   "execution_count": 50,
   "metadata": {},
   "outputs": [
    {
     "data": {
      "image/png": "[encoded data removed]",
      "text/plain": [
       "<Figure size 864x432 with 1 Axes>"
      ]
     },
     "metadata": {
      "needs_background": "light"
     },
     "output_type": "display_data"
    }
   ],
   "source": [
    "# plot the number of columns with percentage of missing values\n",
    "\n",
    "plt.figure(figsize=(12,6))\n",
    "ax = sns.histplot(x='percent_missing', data=missing_value_df, bins=10)\n",
    "ax.set_xlabel('Percent Missing')\n",
    "ax.set_ylabel('Number of Columns')\n",
    "ax.set_title('Percent Missing by Number of Columns')\n",
    "plt.show()"
   ]
  },
  {
   "cell_type": "markdown",
   "metadata": {},
   "source": [
    "### Insights:\n",
    "    1. More than 50 columns have more than 90% of their values missing.\n",
    "    2. Atleast 1 column has 30-40 percentage of values missing.\n",
    "    3. Atleast 1 column has 60-70 percentage of values missing.\n",
    "    4. More than 30 columns have 0-10 percentage of values missing.\n",
    "\n",
    "### Recommendations:\n",
    "    1. Drop columns with more than 90% of values missing.\n",
    "    2. For columns with less than 90% percentage missing values, impute the missing values or else drop the columns if impute is not possible."
   ]
  },
  {
   "cell_type": "code",
   "execution_count": 51,
   "metadata": {},
   "outputs": [],
   "source": [
    "# delete columns containing either 90% or more than 90% NaN Values\n",
    "perc = 90.0\n",
    "min_count =  int(((100-perc)/100)*df.shape[0] + 1)\n",
    "df = df.dropna(axis=1, thresh=min_count)"
   ]
  },
  {
   "cell_type": "markdown",
   "metadata": {},
   "source": [
    "Columns containing more than 90% of values missing are dropped from the dataframe."
   ]
  },
  {
   "cell_type": "code",
   "execution_count": 52,
   "metadata": {},
   "outputs": [
    {
     "data": {
      "text/html": [
       "<div>\n",
       "<style scoped>\n",
       "    .dataframe tbody tr th:only-of-type {\n",
       "        vertical-align: middle;\n",
       "    }\n",
       "\n",
       "    .dataframe tbody tr th {\n",
       "        vertical-align: top;\n",
       "    }\n",
       "\n",
       "    .dataframe thead th {\n",
       "        text-align: right;\n",
       "    }\n",
       "</style>\n",
       "<table border=\"1\" class=\"dataframe\">\n",
       "  <thead>\n",
       "    <tr style=\"text-align: right;\">\n",
       "      <th></th>\n",
       "      <th>column_name</th>\n",
       "      <th>percent_missing</th>\n",
       "    </tr>\n",
       "  </thead>\n",
       "  <tbody>\n",
       "    <tr>\n",
       "      <th>mths_since_last_delinq</th>\n",
       "      <td>mths_since_last_delinq</td>\n",
       "      <td>64.662487</td>\n",
       "    </tr>\n",
       "    <tr>\n",
       "      <th>desc</th>\n",
       "      <td>desc</td>\n",
       "      <td>32.580507</td>\n",
       "    </tr>\n",
       "    <tr>\n",
       "      <th>emp_title</th>\n",
       "      <td>emp_title</td>\n",
       "      <td>6.191303</td>\n",
       "    </tr>\n",
       "    <tr>\n",
       "      <th>emp_length</th>\n",
       "      <td>emp_length</td>\n",
       "      <td>2.706650</td>\n",
       "    </tr>\n",
       "    <tr>\n",
       "      <th>pub_rec_bankruptcies</th>\n",
       "      <td>pub_rec_bankruptcies</td>\n",
       "      <td>1.754916</td>\n",
       "    </tr>\n",
       "    <tr>\n",
       "      <th>chargeoff_within_12_mths</th>\n",
       "      <td>chargeoff_within_12_mths</td>\n",
       "      <td>0.140998</td>\n",
       "    </tr>\n",
       "    <tr>\n",
       "      <th>collections_12_mths_ex_med</th>\n",
       "      <td>collections_12_mths_ex_med</td>\n",
       "      <td>0.140998</td>\n",
       "    </tr>\n",
       "    <tr>\n",
       "      <th>tax_liens</th>\n",
       "      <td>tax_liens</td>\n",
       "      <td>0.098195</td>\n",
       "    </tr>\n",
       "    <tr>\n",
       "      <th>title</th>\n",
       "      <td>title</td>\n",
       "      <td>0.027696</td>\n",
       "    </tr>\n",
       "    <tr>\n",
       "      <th>delinq_amnt</th>\n",
       "      <td>delinq_amnt</td>\n",
       "      <td>0.000000</td>\n",
       "    </tr>\n",
       "    <tr>\n",
       "      <th>acc_now_delinq</th>\n",
       "      <td>acc_now_delinq</td>\n",
       "      <td>0.000000</td>\n",
       "    </tr>\n",
       "    <tr>\n",
       "      <th>policy_code</th>\n",
       "      <td>policy_code</td>\n",
       "      <td>0.000000</td>\n",
       "    </tr>\n",
       "    <tr>\n",
       "      <th>initial_list_status</th>\n",
       "      <td>initial_list_status</td>\n",
       "      <td>0.000000</td>\n",
       "    </tr>\n",
       "    <tr>\n",
       "      <th>url</th>\n",
       "      <td>url</td>\n",
       "      <td>0.000000</td>\n",
       "    </tr>\n",
       "    <tr>\n",
       "      <th>dti</th>\n",
       "      <td>dti</td>\n",
       "      <td>0.000000</td>\n",
       "    </tr>\n",
       "    <tr>\n",
       "      <th>addr_state</th>\n",
       "      <td>addr_state</td>\n",
       "      <td>0.000000</td>\n",
       "    </tr>\n",
       "    <tr>\n",
       "      <th>zip_code</th>\n",
       "      <td>zip_code</td>\n",
       "      <td>0.000000</td>\n",
       "    </tr>\n",
       "    <tr>\n",
       "      <th>purpose</th>\n",
       "      <td>purpose</td>\n",
       "      <td>0.000000</td>\n",
       "    </tr>\n",
       "    <tr>\n",
       "      <th>id</th>\n",
       "      <td>id</td>\n",
       "      <td>0.000000</td>\n",
       "    </tr>\n",
       "    <tr>\n",
       "      <th>member_id</th>\n",
       "      <td>member_id</td>\n",
       "      <td>0.000000</td>\n",
       "    </tr>\n",
       "    <tr>\n",
       "      <th>loan_status</th>\n",
       "      <td>loan_status</td>\n",
       "      <td>0.000000</td>\n",
       "    </tr>\n",
       "    <tr>\n",
       "      <th>issue_d</th>\n",
       "      <td>issue_d</td>\n",
       "      <td>0.000000</td>\n",
       "    </tr>\n",
       "    <tr>\n",
       "      <th>verification_status</th>\n",
       "      <td>verification_status</td>\n",
       "      <td>0.000000</td>\n",
       "    </tr>\n",
       "    <tr>\n",
       "      <th>annual_inc</th>\n",
       "      <td>annual_inc</td>\n",
       "      <td>0.000000</td>\n",
       "    </tr>\n",
       "    <tr>\n",
       "      <th>home_ownership</th>\n",
       "      <td>home_ownership</td>\n",
       "      <td>0.000000</td>\n",
       "    </tr>\n",
       "    <tr>\n",
       "      <th>sub_grade</th>\n",
       "      <td>sub_grade</td>\n",
       "      <td>0.000000</td>\n",
       "    </tr>\n",
       "    <tr>\n",
       "      <th>grade</th>\n",
       "      <td>grade</td>\n",
       "      <td>0.000000</td>\n",
       "    </tr>\n",
       "    <tr>\n",
       "      <th>installment</th>\n",
       "      <td>installment</td>\n",
       "      <td>0.000000</td>\n",
       "    </tr>\n",
       "    <tr>\n",
       "      <th>int_rate</th>\n",
       "      <td>int_rate</td>\n",
       "      <td>0.000000</td>\n",
       "    </tr>\n",
       "    <tr>\n",
       "      <th>term</th>\n",
       "      <td>term</td>\n",
       "      <td>0.000000</td>\n",
       "    </tr>\n",
       "    <tr>\n",
       "      <th>funded_amnt_inv</th>\n",
       "      <td>funded_amnt_inv</td>\n",
       "      <td>0.000000</td>\n",
       "    </tr>\n",
       "    <tr>\n",
       "      <th>funded_amnt</th>\n",
       "      <td>funded_amnt</td>\n",
       "      <td>0.000000</td>\n",
       "    </tr>\n",
       "    <tr>\n",
       "      <th>loan_amnt</th>\n",
       "      <td>loan_amnt</td>\n",
       "      <td>0.000000</td>\n",
       "    </tr>\n",
       "    <tr>\n",
       "      <th>pymnt_plan</th>\n",
       "      <td>pymnt_plan</td>\n",
       "      <td>0.000000</td>\n",
       "    </tr>\n",
       "  </tbody>\n",
       "</table>\n",
       "</div>"
      ],
      "text/plain": [
       "                                           column_name  percent_missing\n",
       "mths_since_last_delinq          mths_since_last_delinq        64.662487\n",
       "desc                                              desc        32.580507\n",
       "emp_title                                    emp_title         6.191303\n",
       "emp_length                                  emp_length         2.706650\n",
       "pub_rec_bankruptcies              pub_rec_bankruptcies         1.754916\n",
       "chargeoff_within_12_mths      chargeoff_within_12_mths         0.140998\n",
       "collections_12_mths_ex_med  collections_12_mths_ex_med         0.140998\n",
       "tax_liens                                    tax_liens         0.098195\n",
       "title                                            title         0.027696\n",
       "delinq_amnt                                delinq_amnt         0.000000\n",
       "acc_now_delinq                          acc_now_delinq         0.000000\n",
       "policy_code                                policy_code         0.000000\n",
       "initial_list_status                initial_list_status         0.000000\n",
       "url                                                url         0.000000\n",
       "dti                                                dti         0.000000\n",
       "addr_state                                  addr_state         0.000000\n",
       "zip_code                                      zip_code         0.000000\n",
       "purpose                                        purpose         0.000000\n",
       "id                                                  id         0.000000\n",
       "member_id                                    member_id         0.000000\n",
       "loan_status                                loan_status         0.000000\n",
       "issue_d                                        issue_d         0.000000\n",
       "verification_status                verification_status         0.000000\n",
       "annual_inc                                  annual_inc         0.000000\n",
       "home_ownership                          home_ownership         0.000000\n",
       "sub_grade                                    sub_grade         0.000000\n",
       "grade                                            grade         0.000000\n",
       "installment                                installment         0.000000\n",
       "int_rate                                      int_rate         0.000000\n",
       "term                                              term         0.000000\n",
       "funded_amnt_inv                        funded_amnt_inv         0.000000\n",
       "funded_amnt                                funded_amnt         0.000000\n",
       "loan_amnt                                    loan_amnt         0.000000\n",
       "pymnt_plan                                  pymnt_plan         0.000000"
      ]
     },
     "execution_count": 52,
     "metadata": {},
     "output_type": "execute_result"
    }
   ],
   "source": [
    "# show the percentage of missing values in the remaining columns\n",
    "\n",
    "percent_missing = df.isnull().sum() * 100 / len(df)\n",
    "missing_value_df = pd.DataFrame({'column_name': df.columns,\n",
    "                                 'percent_missing': percent_missing})\n",
    "missing_value_df.sort_values(by='percent_missing', ascending=False)"
   ]
  },
  {
   "cell_type": "code",
   "execution_count": 53,
   "metadata": {},
   "outputs": [
    {
     "data": {
      "text/plain": [
       "NaN      25682\n",
       "0.0        443\n",
       "15.0       252\n",
       "30.0       247\n",
       "23.0       247\n",
       "         ...  \n",
       "89.0         1\n",
       "107.0        1\n",
       "85.0         1\n",
       "97.0         1\n",
       "95.0         1\n",
       "Name: mths_since_last_delinq, Length: 96, dtype: int64"
      ]
     },
     "execution_count": 53,
     "metadata": {},
     "output_type": "execute_result"
    }
   ],
   "source": [
    "# check the column having more than 60% missing values\n",
    "\n",
    "df['mths_since_last_delinq'].value_counts(dropna=False)     # show the value counts of the column 'mths_since_last_delinq'"
   ]
  },
  {
   "cell_type": "markdown",
   "metadata": {},
   "source": [
    "Since most of the values are missing, drop the column"
   ]
  },
  {
   "cell_type": "code",
   "execution_count": 54,
   "metadata": {},
   "outputs": [],
   "source": [
    "# drop the column having more than 60% missing values\n",
    "\n",
    "df.drop('mths_since_last_delinq', axis=1, inplace=True)    # drop the column"
   ]
  },
  {
   "cell_type": "markdown",
   "metadata": {},
   "source": [
    "Column 'mths_since_last_delinq' is dropped from the dataframe."
   ]
  },
  {
   "cell_type": "code",
   "execution_count": 55,
   "metadata": {},
   "outputs": [
    {
     "name": "stdout",
     "output_type": "stream",
     "text": [
      "The number of unique values in the column desc is 26527.\n"
     ]
    },
    {
     "data": {
      "text/plain": [
       "NaN                                                                                                                                                                                                                                                                                                                                                                                                                                                                                                                                                                                                                                                                           12940\n",
       "                                                                                                                                                                                                                                                                                                                                                                                                                                                                                                                                                                                                                                                                                210\n",
       "Debt Consolidation                                                                                                                                                                                                                                                                                                                                                                                                                                                                                                                                                                                                                                                                8\n",
       "Camping Membership                                                                                                                                                                                                                                                                                                                                                                                                                                                                                                                                                                                                                                                                6\n",
       "Personal Loan                                                                                                                                                                                                                                                                                                                                                                                                                                                                                                                                                                                                                                                                     3\n",
       "                                                                                                                                                                                                                                                                                                                                                                                                                                                                                                                                                                                                                                                                              ...  \n",
       "  Borrower added on 05/13/11 > I have a very stable income and have &quot;NEVER&quot; been delinquent on any accounts. I am interested in consolidating my credit card accounts along with a personal loan for the benefit of paying one payment a month versus multiple. Thank you.<br/>                                                                                                                                                                                                                                                                                                                                                                                         1\n",
       "  Borrower added on 05/13/11 > This loan is to partially finance a car. The payments will be very manageable for me.<br/>                                                                                                                                                                                                                                                                                                                                                                                                                                                                                                                                                         1\n",
       "  Borrower added on 05/13/11 > I am consolidating my bills to make it cheaper on bills. I am up for a promotion at my job and have been here three years already. I also have a fiance that has a very reliable job who also helps with finances. My requirement is that all bills are paid on time if not early. This is to keep good standings with all businesses and keep a awesome credit score.<br/> Borrower added on 05/16/11 > I am asking for this loan to pay off bills with higher interest rates and have a lower payment every month.<br/>                                                                                                                          1\n",
       "  Borrower added on 05/13/11 > Debt Consolidation<br/> Borrower added on 05/13/11 > I plan to use this money to consolidate bills with high monthly payments and improve cash flow.<br/> Borrower added on 05/13/11 > I have good credit and I have a very stable, solid and professional job that I have held for a long time - over 20 years.  I have a Bachelor's degree and I'm currently working on a masters.<br/> Borrower added on 05/13/11 > My mortgage and utilities run approx less than 2k per month including taxes.  I have sufficient income to pay off this loan. I simply want to take my open accounts and consolidate them into one easy payment.<br/>        1\n",
       "I plan to consolidate over $7,000 of debt: a combination of credit cards and student loans.                                                                                                                                                                                                                                                                                                                                                                                                                                                                                                                                                                                       1\n",
       "Name: desc, Length: 26528, dtype: int64"
      ]
     },
     "execution_count": 55,
     "metadata": {},
     "output_type": "execute_result"
    }
   ],
   "source": [
    "# check the 'desc' column\n",
    "\n",
    "print('The number of unique values in the column desc is {}.'.format(df['desc'].nunique()))  # print the number of unique values in the column 'desc'\n",
    "df['desc'].value_counts(dropna=False)                                                        # show the value counts of the column 'desc'"
   ]
  },
  {
   "cell_type": "markdown",
   "metadata": {},
   "source": [
    "### Insights:\n",
    "    1. This column is provided by the applicant at the time of loan application.\n",
    "    2. This column contains the description provided by the applicant at the time of loan application for why he/she is taking the loan.\n",
    "    3. This column has more than 30%  of values missing.\n",
    "    4. This column has mostly unique values.\n",
    "\n",
    "### Recommendations:\n",
    "    1. Drop this column since impute is not possible because of large number of unique and missing values.\n",
    "    2. Drop this column as we are not doing any NLP and is not required for our analysis."
   ]
  },
  {
   "cell_type": "code",
   "execution_count": 56,
   "metadata": {},
   "outputs": [],
   "source": [
    "# drop the 'desc' column having many unique and missing values\n",
    "\n",
    "df.drop('desc', axis=1, inplace=True)                                # drop the column"
   ]
  },
  {
   "cell_type": "markdown",
   "metadata": {},
   "source": [
    "Column 'desc' is dropped from the dataframe."
   ]
  },
  {
   "cell_type": "code",
   "execution_count": 57,
   "metadata": {},
   "outputs": [
    {
     "name": "stdout",
     "output_type": "stream",
     "text": [
      "The number of unique values in the column emp_title is 28820.\n"
     ]
    },
    {
     "data": {
      "text/plain": [
       "NaN                                2459\n",
       "US Army                             134\n",
       "Bank of America                     109\n",
       "IBM                                  66\n",
       "AT&T                                 59\n",
       "                                   ... \n",
       "AMEC                                  1\n",
       "lee county sheriff                    1\n",
       "Bacon County Board of Education       1\n",
       "Hotpads                               1\n",
       "Evergreen Center                      1\n",
       "Name: emp_title, Length: 28821, dtype: int64"
      ]
     },
     "execution_count": 57,
     "metadata": {},
     "output_type": "execute_result"
    }
   ],
   "source": [
    "# check the 'emp_title' column\n",
    "print('The number of unique values in the column emp_title is {}.'.format(df['emp_title'].nunique()))  # print the number of unique values in the column 'emp_title'\n",
    "df['emp_title'].value_counts(dropna=False)                                                             # show the value counts of the column 'emp_title'"
   ]
  },
  {
   "cell_type": "markdown",
   "metadata": {},
   "source": [
    "### Insights:\n",
    "    1. This column contains the name of the employer of the loan applicant.\n",
    "    2. This column contains missing values and high unique values.\n",
    "\n",
    "### Recommendations:\n",
    "    1. Drop this column since impute is not possible because of large number of unique and missing values.\n",
    "    2. Drop this column as it is not required for our analysis."
   ]
  },
  {
   "cell_type": "code",
   "execution_count": 58,
   "metadata": {},
   "outputs": [],
   "source": [
    "# drop the 'emp_title' column having many unique and missing values\n",
    "\n",
    "df.drop('emp_title', axis=1, inplace=True)                           # drop the column"
   ]
  },
  {
   "cell_type": "markdown",
   "metadata": {},
   "source": [
    "Column 'emp_title' is dropped from the dataframe."
   ]
  },
  {
   "cell_type": "code",
   "execution_count": 59,
   "metadata": {},
   "outputs": [
    {
     "name": "stdout",
     "output_type": "stream",
     "text": [
      "The number of unique values in the column emp_length is 11.\n"
     ]
    },
    {
     "data": {
      "text/plain": [
       "10+ years    8879\n",
       "< 1 year     4583\n",
       "2 years      4388\n",
       "3 years      4095\n",
       "4 years      3436\n",
       "5 years      3282\n",
       "1 year       3240\n",
       "6 years      2229\n",
       "7 years      1773\n",
       "8 years      1479\n",
       "9 years      1258\n",
       "NaN          1075\n",
       "Name: emp_length, dtype: int64"
      ]
     },
     "execution_count": 59,
     "metadata": {},
     "output_type": "execute_result"
    }
   ],
   "source": [
    "# check the 'emp_length' column\n",
    "\n",
    "print('The number of unique values in the column emp_length is {}.'.format(df['emp_length'].nunique()))  # print the number of unique values in the column 'emp_title'\n",
    "df['emp_length'].value_counts(dropna=False)                                                              # show the value counts of the column 'emp_title'"
   ]
  },
  {
   "cell_type": "markdown",
   "metadata": {},
   "source": [
    "### Insights:\n",
    "    1. This column contains the work experience in years of the loan applicant.\n",
    "    2. From the data dictionary, we can say that this column has a range from 0 to 10 years.\n",
    "    3. This column has missing values.\n",
    "\n",
    "### Recommendations:\n",
    "    1. Assume the NaN values as 0, which means that the loan applicant has no work experience.\n",
    "    2. Assume people with less than 1 year of work experience as having no work experience.\n",
    "    3. Assume people having more than 10 years of work experience as having 10 years of work experience.\n",
    "    4. Clean the column by removing the symbols and text and convert the values to numeric.\n"
   ]
  },
  {
   "cell_type": "code",
   "execution_count": 60,
   "metadata": {},
   "outputs": [],
   "source": [
    "# clean the 'emp_length' column and convert it to numeric type \n",
    "\n",
    "def clean_emp(i):                              # define a function to clean the 'emp_length' column\n",
    "    i = i.str.replace('< 1 year','0')           \n",
    "    i = i.fillna('0')                           \n",
    "    i = i.str.replace(' ','')\n",
    "    i = i.str.replace('years','')\n",
    "    i = i.str.replace('year','')\n",
    "    i = i.str.replace('+','')\n",
    "    i = i.astype('int64')\n",
    "    return i\n",
    "\n",
    "df['emp_length'] = clean_emp(df['emp_length'])  # apply the function to the 'emp_length' column"
   ]
  },
  {
   "cell_type": "code",
   "execution_count": 61,
   "metadata": {},
   "outputs": [
    {
     "data": {
      "text/plain": [
       "10    8879\n",
       "0     5658\n",
       "2     4388\n",
       "3     4095\n",
       "4     3436\n",
       "5     3282\n",
       "1     3240\n",
       "6     2229\n",
       "7     1773\n",
       "8     1479\n",
       "9     1258\n",
       "Name: emp_length, dtype: int64"
      ]
     },
     "execution_count": 61,
     "metadata": {},
     "output_type": "execute_result"
    }
   ],
   "source": [
    "df['emp_length'].value_counts(dropna=False)      # show the value counts of the column 'emp_length'"
   ]
  },
  {
   "cell_type": "markdown",
   "metadata": {},
   "source": [
    "'emp_length' is now a numeric column with missing values imputed as 0 and cleaned. This column is now suitable for our analysis."
   ]
  },
  {
   "cell_type": "code",
   "execution_count": 62,
   "metadata": {},
   "outputs": [
    {
     "name": "stdout",
     "output_type": "stream",
     "text": [
      "The number of unique values in the column pub_rec_bankruptcies is 3.\n"
     ]
    },
    {
     "data": {
      "text/plain": [
       "0.0    37339\n",
       "1.0     1674\n",
       "NaN      697\n",
       "2.0        7\n",
       "Name: pub_rec_bankruptcies, dtype: int64"
      ]
     },
     "execution_count": 62,
     "metadata": {},
     "output_type": "execute_result"
    }
   ],
   "source": [
    "# check the 'pub_rec_bankruptcies' column\n",
    "\n",
    "print('The number of unique values in the column pub_rec_bankruptcies is {}.'.format(df['pub_rec_bankruptcies'].nunique()))  # print the number of unique values in the column 'pub_rec_bankruptcies'\n",
    "df['pub_rec_bankruptcies'].value_counts(dropna=False)                                                                        # show the value counts of the column 'pub_rec_bankruptcies'"
   ]
  },
  {
   "cell_type": "markdown",
   "metadata": {},
   "source": [
    "### Insights:\n",
    "    1. This column contains the number of public record bankruptcies of the loan applicant.\n",
    "    2. This column has missing values.\n",
    "    3. Most of the loan applicants have 0 public record bankruptcies.\n",
    "\n",
    "### Recommendations:\n",
    "    1. Impute the missing values by using mode of the column."
   ]
  },
  {
   "cell_type": "code",
   "execution_count": 63,
   "metadata": {},
   "outputs": [
    {
     "data": {
      "text/plain": [
       "0    38036\n",
       "1     1674\n",
       "2        7\n",
       "Name: pub_rec_bankruptcies, dtype: int64"
      ]
     },
     "execution_count": 63,
     "metadata": {},
     "output_type": "execute_result"
    }
   ],
   "source": [
    "# clean the 'pub_rec_bankruptcies' column\n",
    "\n",
    "df['pub_rec_bankruptcies'].fillna(df['pub_rec_bankruptcies'].mode()[0], inplace=True)   # fill the missing values with the mode of the column 'pub_rec_bankruptcies'\n",
    "df['pub_rec_bankruptcies'] = df['pub_rec_bankruptcies'].astype('int64')                 # convert the column 'pub_rec_bankruptcies' to integer type\n",
    "df['pub_rec_bankruptcies'].value_counts()                                               # show the value counts of the column 'pub_rec_bankruptcies'"
   ]
  },
  {
   "cell_type": "markdown",
   "metadata": {},
   "source": [
    "'pub_rec_bankruptcies' is now a numeric column with missing values imputed as 0 and cleaned. This column is now suitable for our analysis."
   ]
  },
  {
   "cell_type": "code",
   "execution_count": 64,
   "metadata": {},
   "outputs": [
    {
     "data": {
      "text/html": [
       "<div>\n",
       "<style scoped>\n",
       "    .dataframe tbody tr th:only-of-type {\n",
       "        vertical-align: middle;\n",
       "    }\n",
       "\n",
       "    .dataframe tbody tr th {\n",
       "        vertical-align: top;\n",
       "    }\n",
       "\n",
       "    .dataframe thead th {\n",
       "        text-align: right;\n",
       "    }\n",
       "</style>\n",
       "<table border=\"1\" class=\"dataframe\">\n",
       "  <thead>\n",
       "    <tr style=\"text-align: right;\">\n",
       "      <th></th>\n",
       "      <th>column_name</th>\n",
       "      <th>percent_missing</th>\n",
       "    </tr>\n",
       "  </thead>\n",
       "  <tbody>\n",
       "    <tr>\n",
       "      <th>chargeoff_within_12_mths</th>\n",
       "      <td>chargeoff_within_12_mths</td>\n",
       "      <td>0.140998</td>\n",
       "    </tr>\n",
       "    <tr>\n",
       "      <th>collections_12_mths_ex_med</th>\n",
       "      <td>collections_12_mths_ex_med</td>\n",
       "      <td>0.140998</td>\n",
       "    </tr>\n",
       "    <tr>\n",
       "      <th>tax_liens</th>\n",
       "      <td>tax_liens</td>\n",
       "      <td>0.098195</td>\n",
       "    </tr>\n",
       "    <tr>\n",
       "      <th>title</th>\n",
       "      <td>title</td>\n",
       "      <td>0.027696</td>\n",
       "    </tr>\n",
       "    <tr>\n",
       "      <th>pymnt_plan</th>\n",
       "      <td>pymnt_plan</td>\n",
       "      <td>0.000000</td>\n",
       "    </tr>\n",
       "    <tr>\n",
       "      <th>pub_rec_bankruptcies</th>\n",
       "      <td>pub_rec_bankruptcies</td>\n",
       "      <td>0.000000</td>\n",
       "    </tr>\n",
       "    <tr>\n",
       "      <th>delinq_amnt</th>\n",
       "      <td>delinq_amnt</td>\n",
       "      <td>0.000000</td>\n",
       "    </tr>\n",
       "    <tr>\n",
       "      <th>acc_now_delinq</th>\n",
       "      <td>acc_now_delinq</td>\n",
       "      <td>0.000000</td>\n",
       "    </tr>\n",
       "    <tr>\n",
       "      <th>policy_code</th>\n",
       "      <td>policy_code</td>\n",
       "      <td>0.000000</td>\n",
       "    </tr>\n",
       "    <tr>\n",
       "      <th>initial_list_status</th>\n",
       "      <td>initial_list_status</td>\n",
       "      <td>0.000000</td>\n",
       "    </tr>\n",
       "    <tr>\n",
       "      <th>dti</th>\n",
       "      <td>dti</td>\n",
       "      <td>0.000000</td>\n",
       "    </tr>\n",
       "    <tr>\n",
       "      <th>addr_state</th>\n",
       "      <td>addr_state</td>\n",
       "      <td>0.000000</td>\n",
       "    </tr>\n",
       "    <tr>\n",
       "      <th>zip_code</th>\n",
       "      <td>zip_code</td>\n",
       "      <td>0.000000</td>\n",
       "    </tr>\n",
       "    <tr>\n",
       "      <th>purpose</th>\n",
       "      <td>purpose</td>\n",
       "      <td>0.000000</td>\n",
       "    </tr>\n",
       "    <tr>\n",
       "      <th>url</th>\n",
       "      <td>url</td>\n",
       "      <td>0.000000</td>\n",
       "    </tr>\n",
       "    <tr>\n",
       "      <th>id</th>\n",
       "      <td>id</td>\n",
       "      <td>0.000000</td>\n",
       "    </tr>\n",
       "    <tr>\n",
       "      <th>member_id</th>\n",
       "      <td>member_id</td>\n",
       "      <td>0.000000</td>\n",
       "    </tr>\n",
       "    <tr>\n",
       "      <th>issue_d</th>\n",
       "      <td>issue_d</td>\n",
       "      <td>0.000000</td>\n",
       "    </tr>\n",
       "    <tr>\n",
       "      <th>verification_status</th>\n",
       "      <td>verification_status</td>\n",
       "      <td>0.000000</td>\n",
       "    </tr>\n",
       "    <tr>\n",
       "      <th>annual_inc</th>\n",
       "      <td>annual_inc</td>\n",
       "      <td>0.000000</td>\n",
       "    </tr>\n",
       "    <tr>\n",
       "      <th>home_ownership</th>\n",
       "      <td>home_ownership</td>\n",
       "      <td>0.000000</td>\n",
       "    </tr>\n",
       "    <tr>\n",
       "      <th>emp_length</th>\n",
       "      <td>emp_length</td>\n",
       "      <td>0.000000</td>\n",
       "    </tr>\n",
       "    <tr>\n",
       "      <th>sub_grade</th>\n",
       "      <td>sub_grade</td>\n",
       "      <td>0.000000</td>\n",
       "    </tr>\n",
       "    <tr>\n",
       "      <th>grade</th>\n",
       "      <td>grade</td>\n",
       "      <td>0.000000</td>\n",
       "    </tr>\n",
       "    <tr>\n",
       "      <th>installment</th>\n",
       "      <td>installment</td>\n",
       "      <td>0.000000</td>\n",
       "    </tr>\n",
       "    <tr>\n",
       "      <th>int_rate</th>\n",
       "      <td>int_rate</td>\n",
       "      <td>0.000000</td>\n",
       "    </tr>\n",
       "    <tr>\n",
       "      <th>term</th>\n",
       "      <td>term</td>\n",
       "      <td>0.000000</td>\n",
       "    </tr>\n",
       "    <tr>\n",
       "      <th>funded_amnt_inv</th>\n",
       "      <td>funded_amnt_inv</td>\n",
       "      <td>0.000000</td>\n",
       "    </tr>\n",
       "    <tr>\n",
       "      <th>funded_amnt</th>\n",
       "      <td>funded_amnt</td>\n",
       "      <td>0.000000</td>\n",
       "    </tr>\n",
       "    <tr>\n",
       "      <th>loan_amnt</th>\n",
       "      <td>loan_amnt</td>\n",
       "      <td>0.000000</td>\n",
       "    </tr>\n",
       "    <tr>\n",
       "      <th>loan_status</th>\n",
       "      <td>loan_status</td>\n",
       "      <td>0.000000</td>\n",
       "    </tr>\n",
       "  </tbody>\n",
       "</table>\n",
       "</div>"
      ],
      "text/plain": [
       "                                           column_name  percent_missing\n",
       "chargeoff_within_12_mths      chargeoff_within_12_mths         0.140998\n",
       "collections_12_mths_ex_med  collections_12_mths_ex_med         0.140998\n",
       "tax_liens                                    tax_liens         0.098195\n",
       "title                                            title         0.027696\n",
       "pymnt_plan                                  pymnt_plan         0.000000\n",
       "pub_rec_bankruptcies              pub_rec_bankruptcies         0.000000\n",
       "delinq_amnt                                delinq_amnt         0.000000\n",
       "acc_now_delinq                          acc_now_delinq         0.000000\n",
       "policy_code                                policy_code         0.000000\n",
       "initial_list_status                initial_list_status         0.000000\n",
       "dti                                                dti         0.000000\n",
       "addr_state                                  addr_state         0.000000\n",
       "zip_code                                      zip_code         0.000000\n",
       "purpose                                        purpose         0.000000\n",
       "url                                                url         0.000000\n",
       "id                                                  id         0.000000\n",
       "member_id                                    member_id         0.000000\n",
       "issue_d                                        issue_d         0.000000\n",
       "verification_status                verification_status         0.000000\n",
       "annual_inc                                  annual_inc         0.000000\n",
       "home_ownership                          home_ownership         0.000000\n",
       "emp_length                                  emp_length         0.000000\n",
       "sub_grade                                    sub_grade         0.000000\n",
       "grade                                            grade         0.000000\n",
       "installment                                installment         0.000000\n",
       "int_rate                                      int_rate         0.000000\n",
       "term                                              term         0.000000\n",
       "funded_amnt_inv                        funded_amnt_inv         0.000000\n",
       "funded_amnt                                funded_amnt         0.000000\n",
       "loan_amnt                                    loan_amnt         0.000000\n",
       "loan_status                                loan_status         0.000000"
      ]
     },
     "execution_count": 64,
     "metadata": {},
     "output_type": "execute_result"
    }
   ],
   "source": [
    "# show the percentage of missing values in the remaining columns\n",
    "\n",
    "percent_missing = df.isnull().sum() * 100 / len(df)\n",
    "missing_value_df = pd.DataFrame({'column_name': df.columns,\n",
    "                                 'percent_missing': percent_missing})\n",
    "missing_value_df.sort_values(by='percent_missing', ascending=False)"
   ]
  },
  {
   "cell_type": "code",
   "execution_count": 65,
   "metadata": {},
   "outputs": [
    {
     "name": "stdout",
     "output_type": "stream",
     "text": [
      "The number of missing values in the column 'title' is 11.\n",
      "The number of unique values in the column 'title' is 19615.\n"
     ]
    },
    {
     "data": {
      "text/plain": [
       "Debt Consolidation                  2184\n",
       "Debt Consolidation Loan             1729\n",
       "Personal Loan                        659\n",
       "Consolidation                        517\n",
       "debt consolidation                   505\n",
       "                                    ... \n",
       "your rate is better than my rate       1\n",
       "Concession Trailer                     1\n",
       "gregs                                  1\n",
       "EZover                                 1\n",
       "JAL Loan                               1\n",
       "Name: title, Length: 19616, dtype: int64"
      ]
     },
     "execution_count": 65,
     "metadata": {},
     "output_type": "execute_result"
    }
   ],
   "source": [
    "# check the 'title' column\n",
    "\n",
    "print(\"The number of missing values in the column 'title' is {}.\".format(df['title'].isna().sum()))  # print the number of unique values in the column 'title'\n",
    "print(\"The number of unique values in the column 'title' is {}.\".format(df['title'].nunique()))      # print the number of unique values in the column 'title'\n",
    "df['title'].value_counts(dropna=False)                                                               # show the value counts of the column 'title'"
   ]
  },
  {
   "cell_type": "markdown",
   "metadata": {},
   "source": [
    "### Insights:\n",
    "    1. This column contains the loan title provided by the borrower at the time of loan application.\n",
    "    2. This column has missing values and high unique values.\n",
    "    3. This column contains information that cannot be trusted since it is provided by the borrower at the time of loan application hence it is not reliable.\n",
    "\n",
    "### Recommendations:\n",
    "    1. Drop this column since the information is not reliable."
   ]
  },
  {
   "cell_type": "code",
   "execution_count": 66,
   "metadata": {},
   "outputs": [],
   "source": [
    "# drop the 'title' column\n",
    "\n",
    "df.drop('title', axis=1, inplace=True)                                                           # drop the column 'title' from the dataframe 'df'"
   ]
  },
  {
   "cell_type": "markdown",
   "metadata": {},
   "source": [
    "Column 'title' is dropped from the dataframe."
   ]
  },
  {
   "cell_type": "code",
   "execution_count": 67,
   "metadata": {},
   "outputs": [
    {
     "data": {
      "text/html": [
       "<div>\n",
       "<style scoped>\n",
       "    .dataframe tbody tr th:only-of-type {\n",
       "        vertical-align: middle;\n",
       "    }\n",
       "\n",
       "    .dataframe tbody tr th {\n",
       "        vertical-align: top;\n",
       "    }\n",
       "\n",
       "    .dataframe thead th {\n",
       "        text-align: right;\n",
       "    }\n",
       "</style>\n",
       "<table border=\"1\" class=\"dataframe\">\n",
       "  <thead>\n",
       "    <tr style=\"text-align: right;\">\n",
       "      <th></th>\n",
       "      <th>column_name</th>\n",
       "      <th>percent_unique</th>\n",
       "    </tr>\n",
       "  </thead>\n",
       "  <tbody>\n",
       "    <tr>\n",
       "      <th>id</th>\n",
       "      <td>id</td>\n",
       "      <td>100.000000</td>\n",
       "    </tr>\n",
       "    <tr>\n",
       "      <th>url</th>\n",
       "      <td>url</td>\n",
       "      <td>100.000000</td>\n",
       "    </tr>\n",
       "    <tr>\n",
       "      <th>member_id</th>\n",
       "      <td>member_id</td>\n",
       "      <td>100.000000</td>\n",
       "    </tr>\n",
       "    <tr>\n",
       "      <th>installment</th>\n",
       "      <td>installment</td>\n",
       "      <td>38.731526</td>\n",
       "    </tr>\n",
       "    <tr>\n",
       "      <th>funded_amnt_inv</th>\n",
       "      <td>funded_amnt_inv</td>\n",
       "      <td>20.658660</td>\n",
       "    </tr>\n",
       "    <tr>\n",
       "      <th>annual_inc</th>\n",
       "      <td>annual_inc</td>\n",
       "      <td>13.389732</td>\n",
       "    </tr>\n",
       "    <tr>\n",
       "      <th>dti</th>\n",
       "      <td>dti</td>\n",
       "      <td>7.221089</td>\n",
       "    </tr>\n",
       "    <tr>\n",
       "      <th>funded_amnt</th>\n",
       "      <td>funded_amnt</td>\n",
       "      <td>2.621044</td>\n",
       "    </tr>\n",
       "    <tr>\n",
       "      <th>loan_amnt</th>\n",
       "      <td>loan_amnt</td>\n",
       "      <td>2.228265</td>\n",
       "    </tr>\n",
       "    <tr>\n",
       "      <th>zip_code</th>\n",
       "      <td>zip_code</td>\n",
       "      <td>2.072161</td>\n",
       "    </tr>\n",
       "    <tr>\n",
       "      <th>int_rate</th>\n",
       "      <td>int_rate</td>\n",
       "      <td>0.934109</td>\n",
       "    </tr>\n",
       "    <tr>\n",
       "      <th>issue_d</th>\n",
       "      <td>issue_d</td>\n",
       "      <td>0.138480</td>\n",
       "    </tr>\n",
       "    <tr>\n",
       "      <th>addr_state</th>\n",
       "      <td>addr_state</td>\n",
       "      <td>0.125891</td>\n",
       "    </tr>\n",
       "    <tr>\n",
       "      <th>sub_grade</th>\n",
       "      <td>sub_grade</td>\n",
       "      <td>0.088123</td>\n",
       "    </tr>\n",
       "    <tr>\n",
       "      <th>purpose</th>\n",
       "      <td>purpose</td>\n",
       "      <td>0.035249</td>\n",
       "    </tr>\n",
       "    <tr>\n",
       "      <th>emp_length</th>\n",
       "      <td>emp_length</td>\n",
       "      <td>0.027696</td>\n",
       "    </tr>\n",
       "    <tr>\n",
       "      <th>grade</th>\n",
       "      <td>grade</td>\n",
       "      <td>0.017625</td>\n",
       "    </tr>\n",
       "    <tr>\n",
       "      <th>home_ownership</th>\n",
       "      <td>home_ownership</td>\n",
       "      <td>0.012589</td>\n",
       "    </tr>\n",
       "    <tr>\n",
       "      <th>pub_rec_bankruptcies</th>\n",
       "      <td>pub_rec_bankruptcies</td>\n",
       "      <td>0.007553</td>\n",
       "    </tr>\n",
       "    <tr>\n",
       "      <th>loan_status</th>\n",
       "      <td>loan_status</td>\n",
       "      <td>0.007553</td>\n",
       "    </tr>\n",
       "    <tr>\n",
       "      <th>verification_status</th>\n",
       "      <td>verification_status</td>\n",
       "      <td>0.007553</td>\n",
       "    </tr>\n",
       "    <tr>\n",
       "      <th>term</th>\n",
       "      <td>term</td>\n",
       "      <td>0.005036</td>\n",
       "    </tr>\n",
       "    <tr>\n",
       "      <th>pymnt_plan</th>\n",
       "      <td>pymnt_plan</td>\n",
       "      <td>0.002518</td>\n",
       "    </tr>\n",
       "    <tr>\n",
       "      <th>initial_list_status</th>\n",
       "      <td>initial_list_status</td>\n",
       "      <td>0.002518</td>\n",
       "    </tr>\n",
       "    <tr>\n",
       "      <th>collections_12_mths_ex_med</th>\n",
       "      <td>collections_12_mths_ex_med</td>\n",
       "      <td>0.002518</td>\n",
       "    </tr>\n",
       "    <tr>\n",
       "      <th>policy_code</th>\n",
       "      <td>policy_code</td>\n",
       "      <td>0.002518</td>\n",
       "    </tr>\n",
       "    <tr>\n",
       "      <th>acc_now_delinq</th>\n",
       "      <td>acc_now_delinq</td>\n",
       "      <td>0.002518</td>\n",
       "    </tr>\n",
       "    <tr>\n",
       "      <th>chargeoff_within_12_mths</th>\n",
       "      <td>chargeoff_within_12_mths</td>\n",
       "      <td>0.002518</td>\n",
       "    </tr>\n",
       "    <tr>\n",
       "      <th>delinq_amnt</th>\n",
       "      <td>delinq_amnt</td>\n",
       "      <td>0.002518</td>\n",
       "    </tr>\n",
       "    <tr>\n",
       "      <th>tax_liens</th>\n",
       "      <td>tax_liens</td>\n",
       "      <td>0.002518</td>\n",
       "    </tr>\n",
       "  </tbody>\n",
       "</table>\n",
       "</div>"
      ],
      "text/plain": [
       "                                           column_name  percent_unique\n",
       "id                                                  id      100.000000\n",
       "url                                                url      100.000000\n",
       "member_id                                    member_id      100.000000\n",
       "installment                                installment       38.731526\n",
       "funded_amnt_inv                        funded_amnt_inv       20.658660\n",
       "annual_inc                                  annual_inc       13.389732\n",
       "dti                                                dti        7.221089\n",
       "funded_amnt                                funded_amnt        2.621044\n",
       "loan_amnt                                    loan_amnt        2.228265\n",
       "zip_code                                      zip_code        2.072161\n",
       "int_rate                                      int_rate        0.934109\n",
       "issue_d                                        issue_d        0.138480\n",
       "addr_state                                  addr_state        0.125891\n",
       "sub_grade                                    sub_grade        0.088123\n",
       "purpose                                        purpose        0.035249\n",
       "emp_length                                  emp_length        0.027696\n",
       "grade                                            grade        0.017625\n",
       "home_ownership                          home_ownership        0.012589\n",
       "pub_rec_bankruptcies              pub_rec_bankruptcies        0.007553\n",
       "loan_status                                loan_status        0.007553\n",
       "verification_status                verification_status        0.007553\n",
       "term                                              term        0.005036\n",
       "pymnt_plan                                  pymnt_plan        0.002518\n",
       "initial_list_status                initial_list_status        0.002518\n",
       "collections_12_mths_ex_med  collections_12_mths_ex_med        0.002518\n",
       "policy_code                                policy_code        0.002518\n",
       "acc_now_delinq                          acc_now_delinq        0.002518\n",
       "chargeoff_within_12_mths      chargeoff_within_12_mths        0.002518\n",
       "delinq_amnt                                delinq_amnt        0.002518\n",
       "tax_liens                                    tax_liens        0.002518"
      ]
     },
     "execution_count": 67,
     "metadata": {},
     "output_type": "execute_result"
    }
   ],
   "source": [
    "# check the percentage of unique values in the remaining columns\n",
    "\n",
    "percent_unique = df.nunique() * 100 / len(df)\n",
    "unique_value_df = pd.DataFrame({'column_name': df.columns,\n",
    "                                'percent_unique': percent_unique})\n",
    "unique_value_df.sort_values(by='percent_unique', ascending=False)"
   ]
  },
  {
   "cell_type": "markdown",
   "metadata": {},
   "source": [
    "### Insights:\n",
    "    1. There are 3 columns with 100% unique values, which is not a good indicator for our analysis.\n",
    "    2. There are 8 columns with 0.002518% unique values, which are columns that have only one unique value. These columns cannot be used as predictors for credit approval.\n",
    "\n",
    "### Recommendations:\n",
    "    1. Drop the columns with 100% unique values.\n",
    "    2. Drop the columns with 0.002518% unique values (only 1 unique value)."
   ]
  },
  {
   "cell_type": "code",
   "execution_count": 68,
   "metadata": {},
   "outputs": [],
   "source": [
    "# drop the columns having 100% unique values\n",
    "\n",
    "df.drop(df.columns[df.nunique() * 100 / len(df) == 100], axis=1, inplace=True)           # drop the columns 'id','url','member_id' from the dataframe 'df'"
   ]
  },
  {
   "cell_type": "markdown",
   "metadata": {},
   "source": [
    "Columns having 100% unique values are dropped from the dataframe."
   ]
  },
  {
   "cell_type": "code",
   "execution_count": 69,
   "metadata": {},
   "outputs": [],
   "source": [
    "# drop the columns having only one unique value\n",
    "\n",
    "df.drop(df.columns[df.nunique() == 1], axis=1, inplace=True)              # drop the columns having only one unique value from the dataframe 'df'"
   ]
  },
  {
   "cell_type": "markdown",
   "metadata": {},
   "source": [
    "Columns having only one unique value are dropped from the dataframe."
   ]
  },
  {
   "cell_type": "code",
   "execution_count": 70,
   "metadata": {},
   "outputs": [
    {
     "data": {
      "text/html": [
       "<div>\n",
       "<style scoped>\n",
       "    .dataframe tbody tr th:only-of-type {\n",
       "        vertical-align: middle;\n",
       "    }\n",
       "\n",
       "    .dataframe tbody tr th {\n",
       "        vertical-align: top;\n",
       "    }\n",
       "\n",
       "    .dataframe thead th {\n",
       "        text-align: right;\n",
       "    }\n",
       "</style>\n",
       "<table border=\"1\" class=\"dataframe\">\n",
       "  <thead>\n",
       "    <tr style=\"text-align: right;\">\n",
       "      <th></th>\n",
       "      <th>loan_amnt</th>\n",
       "      <th>funded_amnt</th>\n",
       "      <th>funded_amnt_inv</th>\n",
       "      <th>term</th>\n",
       "      <th>int_rate</th>\n",
       "      <th>installment</th>\n",
       "      <th>grade</th>\n",
       "      <th>sub_grade</th>\n",
       "      <th>emp_length</th>\n",
       "      <th>home_ownership</th>\n",
       "      <th>annual_inc</th>\n",
       "      <th>verification_status</th>\n",
       "      <th>issue_d</th>\n",
       "      <th>loan_status</th>\n",
       "      <th>purpose</th>\n",
       "      <th>zip_code</th>\n",
       "      <th>addr_state</th>\n",
       "      <th>dti</th>\n",
       "      <th>pub_rec_bankruptcies</th>\n",
       "    </tr>\n",
       "  </thead>\n",
       "  <tbody>\n",
       "    <tr>\n",
       "      <th>0</th>\n",
       "      <td>5000</td>\n",
       "      <td>5000</td>\n",
       "      <td>4975.0</td>\n",
       "      <td>36 months</td>\n",
       "      <td>10.65%</td>\n",
       "      <td>162.87</td>\n",
       "      <td>B</td>\n",
       "      <td>B2</td>\n",
       "      <td>10</td>\n",
       "      <td>RENT</td>\n",
       "      <td>24000.0</td>\n",
       "      <td>Verified</td>\n",
       "      <td>Dec-11</td>\n",
       "      <td>Fully Paid</td>\n",
       "      <td>credit_card</td>\n",
       "      <td>860xx</td>\n",
       "      <td>AZ</td>\n",
       "      <td>27.65</td>\n",
       "      <td>0</td>\n",
       "    </tr>\n",
       "    <tr>\n",
       "      <th>1</th>\n",
       "      <td>2500</td>\n",
       "      <td>2500</td>\n",
       "      <td>2500.0</td>\n",
       "      <td>60 months</td>\n",
       "      <td>15.27%</td>\n",
       "      <td>59.83</td>\n",
       "      <td>C</td>\n",
       "      <td>C4</td>\n",
       "      <td>0</td>\n",
       "      <td>RENT</td>\n",
       "      <td>30000.0</td>\n",
       "      <td>Source Verified</td>\n",
       "      <td>Dec-11</td>\n",
       "      <td>Charged Off</td>\n",
       "      <td>car</td>\n",
       "      <td>309xx</td>\n",
       "      <td>GA</td>\n",
       "      <td>1.00</td>\n",
       "      <td>0</td>\n",
       "    </tr>\n",
       "    <tr>\n",
       "      <th>2</th>\n",
       "      <td>2400</td>\n",
       "      <td>2400</td>\n",
       "      <td>2400.0</td>\n",
       "      <td>36 months</td>\n",
       "      <td>15.96%</td>\n",
       "      <td>84.33</td>\n",
       "      <td>C</td>\n",
       "      <td>C5</td>\n",
       "      <td>10</td>\n",
       "      <td>RENT</td>\n",
       "      <td>12252.0</td>\n",
       "      <td>Not Verified</td>\n",
       "      <td>Dec-11</td>\n",
       "      <td>Fully Paid</td>\n",
       "      <td>small_business</td>\n",
       "      <td>606xx</td>\n",
       "      <td>IL</td>\n",
       "      <td>8.72</td>\n",
       "      <td>0</td>\n",
       "    </tr>\n",
       "    <tr>\n",
       "      <th>3</th>\n",
       "      <td>10000</td>\n",
       "      <td>10000</td>\n",
       "      <td>10000.0</td>\n",
       "      <td>36 months</td>\n",
       "      <td>13.49%</td>\n",
       "      <td>339.31</td>\n",
       "      <td>C</td>\n",
       "      <td>C1</td>\n",
       "      <td>10</td>\n",
       "      <td>RENT</td>\n",
       "      <td>49200.0</td>\n",
       "      <td>Source Verified</td>\n",
       "      <td>Dec-11</td>\n",
       "      <td>Fully Paid</td>\n",
       "      <td>other</td>\n",
       "      <td>917xx</td>\n",
       "      <td>CA</td>\n",
       "      <td>20.00</td>\n",
       "      <td>0</td>\n",
       "    </tr>\n",
       "    <tr>\n",
       "      <th>4</th>\n",
       "      <td>3000</td>\n",
       "      <td>3000</td>\n",
       "      <td>3000.0</td>\n",
       "      <td>60 months</td>\n",
       "      <td>12.69%</td>\n",
       "      <td>67.79</td>\n",
       "      <td>B</td>\n",
       "      <td>B5</td>\n",
       "      <td>1</td>\n",
       "      <td>RENT</td>\n",
       "      <td>80000.0</td>\n",
       "      <td>Source Verified</td>\n",
       "      <td>Dec-11</td>\n",
       "      <td>Current</td>\n",
       "      <td>other</td>\n",
       "      <td>972xx</td>\n",
       "      <td>OR</td>\n",
       "      <td>17.94</td>\n",
       "      <td>0</td>\n",
       "    </tr>\n",
       "  </tbody>\n",
       "</table>\n",
       "</div>"
      ],
      "text/plain": [
       "   loan_amnt  funded_amnt  funded_amnt_inv        term int_rate  installment  \\\n",
       "0       5000         5000           4975.0   36 months   10.65%       162.87   \n",
       "1       2500         2500           2500.0   60 months   15.27%        59.83   \n",
       "2       2400         2400           2400.0   36 months   15.96%        84.33   \n",
       "3      10000        10000          10000.0   36 months   13.49%       339.31   \n",
       "4       3000         3000           3000.0   60 months   12.69%        67.79   \n",
       "\n",
       "  grade sub_grade  emp_length home_ownership  annual_inc verification_status  \\\n",
       "0     B        B2          10           RENT     24000.0            Verified   \n",
       "1     C        C4           0           RENT     30000.0     Source Verified   \n",
       "2     C        C5          10           RENT     12252.0        Not Verified   \n",
       "3     C        C1          10           RENT     49200.0     Source Verified   \n",
       "4     B        B5           1           RENT     80000.0     Source Verified   \n",
       "\n",
       "  issue_d  loan_status         purpose zip_code addr_state    dti  \\\n",
       "0  Dec-11   Fully Paid     credit_card    860xx         AZ  27.65   \n",
       "1  Dec-11  Charged Off             car    309xx         GA   1.00   \n",
       "2  Dec-11   Fully Paid  small_business    606xx         IL   8.72   \n",
       "3  Dec-11   Fully Paid           other    917xx         CA  20.00   \n",
       "4  Dec-11      Current           other    972xx         OR  17.94   \n",
       "\n",
       "   pub_rec_bankruptcies  \n",
       "0                     0  \n",
       "1                     0  \n",
       "2                     0  \n",
       "3                     0  \n",
       "4                     0  "
      ]
     },
     "execution_count": 70,
     "metadata": {},
     "output_type": "execute_result"
    }
   ],
   "source": [
    "# check the first 5 rows of the dataframe 'df'\n",
    "\n",
    "df.head()"
   ]
  },
  {
   "cell_type": "code",
   "execution_count": 71,
   "metadata": {},
   "outputs": [
    {
     "data": {
      "text/plain": [
       "loan_amnt                 int64\n",
       "funded_amnt               int64\n",
       "funded_amnt_inv         float64\n",
       "term                     object\n",
       "int_rate                 object\n",
       "installment             float64\n",
       "grade                    object\n",
       "sub_grade                object\n",
       "emp_length                int64\n",
       "home_ownership           object\n",
       "annual_inc              float64\n",
       "verification_status      object\n",
       "issue_d                  object\n",
       "loan_status              object\n",
       "purpose                  object\n",
       "zip_code                 object\n",
       "addr_state               object\n",
       "dti                     float64\n",
       "pub_rec_bankruptcies      int64\n",
       "dtype: object"
      ]
     },
     "execution_count": 71,
     "metadata": {},
     "output_type": "execute_result"
    }
   ],
   "source": [
    "# check the datatypes of the columns in the dataframe 'df'\n",
    "\n",
    "df.dtypes"
   ]
  },
  {
   "cell_type": "markdown",
   "metadata": {},
   "source": [
    "### Insights:\n",
    "    1. There are some categorical columns which can be converted to numeric columns. These columns are:\n",
    "        * term\n",
    "        * grade\n",
    "        * sub_grade\n",
    "        * home_ownership\n",
    "        * loan_status\n",
    "        * verification_status\n",
    "        \n",
    "    2. There is a continuous column which can be converted to numeric column. This column is:\n",
    "        * int_rate\n",
    "\n",
    "    3. There is a date column with object dtype which can be converted to datetime column. This column is:\n",
    "        * issue_d\n",
    "\n",
    "### Recommendations:\n",
    "    1. Convert the categorical columns to numeric columns.\n",
    "    2. Convert the continuous column to numeric column.\n",
    "    3. Convert the date column  of 'obj' dtype to datetime column.\n",
    "    "
   ]
  },
  {
   "cell_type": "code",
   "execution_count": 72,
   "metadata": {},
   "outputs": [
    {
     "name": "stdout",
     "output_type": "stream",
     "text": [
      "The number of unique values in the column term is 2.\n"
     ]
    },
    {
     "data": {
      "text/plain": [
       " 36 months    29096\n",
       " 60 months    10621\n",
       "Name: term, dtype: int64"
      ]
     },
     "execution_count": 72,
     "metadata": {},
     "output_type": "execute_result"
    }
   ],
   "source": [
    "# check the 'term' column\n",
    "\n",
    "print('The number of unique values in the column term is {}.'.format(df['term'].nunique()))  # print the number of unique values in the column 'term'\n",
    "df['term'].value_counts(dropna=False)                                                        # show the value counts of the column 'term'"
   ]
  },
  {
   "cell_type": "markdown",
   "metadata": {},
   "source": [
    "*Assume 0 for the 'term' column containing '36 months'.\n",
    "\n",
    "*Assume 1 for the 'term' column containing '60 months'. "
   ]
  },
  {
   "cell_type": "code",
   "execution_count": 73,
   "metadata": {},
   "outputs": [
    {
     "data": {
      "text/plain": [
       "0    29096\n",
       "1    10621\n",
       "Name: term, dtype: int64"
      ]
     },
     "execution_count": 73,
     "metadata": {},
     "output_type": "execute_result"
    }
   ],
   "source": [
    "# clean the 'term' column\n",
    "\n",
    "df['term'] = df['term'].replace(' 36 months', 0)          # replace the string ' 36 months' with 0 in the column 'term'\n",
    "df['term'] = df['term'].replace(' 60 months', 1)          # replace the string ' 60 months' with 1 in the column 'term'\n",
    "df['term'].value_counts()                                 # show the cleaned column 'term'"
   ]
  },
  {
   "cell_type": "code",
   "execution_count": 74,
   "metadata": {},
   "outputs": [
    {
     "data": {
      "text/plain": [
       "0        0\n",
       "1        1\n",
       "2        0\n",
       "3        0\n",
       "4        1\n",
       "        ..\n",
       "39712    0\n",
       "39713    0\n",
       "39714    0\n",
       "39715    0\n",
       "39716    0\n",
       "Name: term, Length: 39717, dtype: int64"
      ]
     },
     "execution_count": 74,
     "metadata": {},
     "output_type": "execute_result"
    }
   ],
   "source": [
    "df['term']                  # show the cleaned column 'term'"
   ]
  },
  {
   "cell_type": "markdown",
   "metadata": {},
   "source": [
    "Column 'term' is now a numeric column. This column is now suitable for our analysis."
   ]
  },
  {
   "cell_type": "code",
   "execution_count": 75,
   "metadata": {},
   "outputs": [
    {
     "name": "stdout",
     "output_type": "stream",
     "text": [
      "The number of unique values in the column grade is 7.\n"
     ]
    },
    {
     "data": {
      "text/plain": [
       "A    10085\n",
       "B    12020\n",
       "C     8098\n",
       "D     5307\n",
       "E     2842\n",
       "F     1049\n",
       "G      316\n",
       "Name: grade, dtype: int64"
      ]
     },
     "execution_count": 75,
     "metadata": {},
     "output_type": "execute_result"
    }
   ],
   "source": [
    "# check the grade column \n",
    "\n",
    "print('The number of unique values in the column grade is {}.'.format(df['grade'].nunique()))  # print the number of unique values in the column 'grade'\n",
    "df['grade'].value_counts(dropna=False).sort_index()                                            # show the value counts of the column 'grade'"
   ]
  },
  {
   "cell_type": "markdown",
   "metadata": {},
   "source": [
    "### Insights:\n",
    "    1. This column contains the grade of the loan applicant.\n",
    "    2. Grade = A is the highest grade.\n",
    "    3. Grade = G is the lowest grade.\n",
    "\n",
    "### Recommendations:\n",
    "    1. Replace the string values with numeric values corresponding to the rank of the grade such that A = 1, B = 2, C = 3, D = 4, E = 5, F = 6, G = 7."
   ]
  },
  {
   "cell_type": "code",
   "execution_count": 76,
   "metadata": {},
   "outputs": [
    {
     "data": {
      "text/plain": [
       "Index(['A', 'B', 'C', 'D', 'E', 'F', 'G'], dtype='object')"
      ]
     },
     "execution_count": 76,
     "metadata": {},
     "output_type": "execute_result"
    }
   ],
   "source": [
    "df['grade'].value_counts(dropna=False).sort_index().index       # list of unique grade values in the 'grade' column"
   ]
  },
  {
   "cell_type": "code",
   "execution_count": 77,
   "metadata": {},
   "outputs": [
    {
     "data": {
      "text/plain": [
       "array([1, 2, 3, 4, 5, 6, 7])"
      ]
     },
     "execution_count": 77,
     "metadata": {},
     "output_type": "execute_result"
    }
   ],
   "source": [
    "np.arange(1,(df['grade'].nunique())+1)                          # list of rank values for the 'grade' column"
   ]
  },
  {
   "cell_type": "code",
   "execution_count": 78,
   "metadata": {},
   "outputs": [
    {
     "data": {
      "text/plain": [
       "1    10085\n",
       "2    12020\n",
       "3     8098\n",
       "4     5307\n",
       "5     2842\n",
       "6     1049\n",
       "7      316\n",
       "Name: grade, dtype: int64"
      ]
     },
     "execution_count": 78,
     "metadata": {},
     "output_type": "execute_result"
    }
   ],
   "source": [
    "# clean the 'grade' column\n",
    "\n",
    "df['grade'] = df['grade'].replace(df['grade'].value_counts(dropna=False).sort_index().index, np.arange(1,(df['grade'].nunique())+1))       # replace the values in the 'grade' column with their corresponding rank values\n",
    "df['grade'].value_counts().sort_index()         # show the value counts of the column 'grade"
   ]
  },
  {
   "cell_type": "markdown",
   "metadata": {},
   "source": [
    "Column 'grade' is now a numeric categorical column. This column is now suitable for our analysis."
   ]
  },
  {
   "cell_type": "code",
   "execution_count": 79,
   "metadata": {},
   "outputs": [
    {
     "name": "stdout",
     "output_type": "stream",
     "text": [
      "The number of unique values in the column sub_grade is 35.\n"
     ]
    },
    {
     "data": {
      "text/plain": [
       "A1    1139\n",
       "A2    1508\n",
       "A3    1810\n",
       "A4    2886\n",
       "A5    2742\n",
       "B1    1830\n",
       "B2    2057\n",
       "B3    2917\n",
       "B4    2512\n",
       "B5    2704\n",
       "C1    2136\n",
       "C2    2011\n",
       "C3    1529\n",
       "C4    1236\n",
       "C5    1186\n",
       "D1     931\n",
       "D2    1348\n",
       "D3    1173\n",
       "D4     981\n",
       "D5     874\n",
       "E1     763\n",
       "E2     656\n",
       "E3     553\n",
       "E4     454\n",
       "E5     416\n",
       "F1     329\n",
       "F2     249\n",
       "F3     185\n",
       "F4     168\n",
       "F5     118\n",
       "G1     104\n",
       "G2      78\n",
       "G3      48\n",
       "G4      56\n",
       "G5      30\n",
       "Name: sub_grade, dtype: int64"
      ]
     },
     "execution_count": 79,
     "metadata": {},
     "output_type": "execute_result"
    }
   ],
   "source": [
    "# check the 'sub_grade' column\n",
    "\n",
    "print('The number of unique values in the column sub_grade is {}.'.format(df['sub_grade'].nunique()))  # print the number of unique values in the column 'sub_grade'\n",
    "df['sub_grade'].value_counts(dropna=False).sort_index()                                                # show the value counts of the column 'sub_grade'"
   ]
  },
  {
   "cell_type": "markdown",
   "metadata": {},
   "source": [
    "### Insights:\n",
    "    1. This column contains the sub grade of the loan applicant.\n",
    "    2. Sub grade = A1 is the highest sub grade.\n",
    "    3. Sub grade = G5 is the lowest sub grade.\n",
    "\n",
    "### Recommendations:\n",
    "    1. Replace the string values with numeric values corresponding to the rank of the sub grade such that A1 = 1, A2 = 2, A3 = 3, A4 = 4, A5 = 5, B1 = 6, B2 = 7, B3 = 8, B4 = 9, B5 = 10, C1 = 11, C2 = 12, C3 = 13, C4 = 14, C5 = 15, D1 = 16, D2 = 17, D3 = 18, D4 = 19, D5 = 20, E1 = 21, E2 = 22, E3 = 23, E4 = 24, E5 = 25, F1 = 26, F2 = 27, F3 = 28, F4 = 29, F5 = 30, G1 = 31, G2 = 32, G3 = 33, G4 = 34, G5 = 35."
   ]
  },
  {
   "cell_type": "code",
   "execution_count": 80,
   "metadata": {},
   "outputs": [
    {
     "data": {
      "text/plain": [
       "Index(['A1', 'A2', 'A3', 'A4', 'A5', 'B1', 'B2', 'B3', 'B4', 'B5', 'C1', 'C2',\n",
       "       'C3', 'C4', 'C5', 'D1', 'D2', 'D3', 'D4', 'D5', 'E1', 'E2', 'E3', 'E4',\n",
       "       'E5', 'F1', 'F2', 'F3', 'F4', 'F5', 'G1', 'G2', 'G3', 'G4', 'G5'],\n",
       "      dtype='object')"
      ]
     },
     "execution_count": 80,
     "metadata": {},
     "output_type": "execute_result"
    }
   ],
   "source": [
    "df['sub_grade'].value_counts(dropna=False).sort_index().index               # list of unique values in the 'sub_grade' column"
   ]
  },
  {
   "cell_type": "code",
   "execution_count": 81,
   "metadata": {},
   "outputs": [
    {
     "data": {
      "text/plain": [
       "array([ 1,  2,  3,  4,  5,  6,  7,  8,  9, 10, 11, 12, 13, 14, 15, 16, 17,\n",
       "       18, 19, 20, 21, 22, 23, 24, 25, 26, 27, 28, 29, 30, 31, 32, 33, 34,\n",
       "       35])"
      ]
     },
     "execution_count": 81,
     "metadata": {},
     "output_type": "execute_result"
    }
   ],
   "source": [
    "np.arange(1,(df['sub_grade'].nunique())+1,1)                                # list of rank values for the 'sub_grade' column"
   ]
  },
  {
   "cell_type": "code",
   "execution_count": 82,
   "metadata": {},
   "outputs": [
    {
     "data": {
      "text/plain": [
       "1     1139\n",
       "2     1508\n",
       "3     1810\n",
       "4     2886\n",
       "5     2742\n",
       "6     1830\n",
       "7     2057\n",
       "8     2917\n",
       "9     2512\n",
       "10    2704\n",
       "11    2136\n",
       "12    2011\n",
       "13    1529\n",
       "14    1236\n",
       "15    1186\n",
       "16     931\n",
       "17    1348\n",
       "18    1173\n",
       "19     981\n",
       "20     874\n",
       "21     763\n",
       "22     656\n",
       "23     553\n",
       "24     454\n",
       "25     416\n",
       "26     329\n",
       "27     249\n",
       "28     185\n",
       "29     168\n",
       "30     118\n",
       "31     104\n",
       "32      78\n",
       "33      48\n",
       "34      56\n",
       "35      30\n",
       "Name: sub_grade, dtype: int64"
      ]
     },
     "execution_count": 82,
     "metadata": {},
     "output_type": "execute_result"
    }
   ],
   "source": [
    "# clean the 'sub_grade' column\n",
    "\n",
    "df['sub_grade'] = df['sub_grade'].replace(df['sub_grade'].value_counts(dropna=False).sort_index().index, np.arange(1,(df['sub_grade'].nunique())+1))        # replace the values in the 'sub_grade' column with their corresponding rank values\n",
    "df['sub_grade'].value_counts().sort_index()         # show the value counts of the 'sub_grade' column"
   ]
  },
  {
   "cell_type": "markdown",
   "metadata": {},
   "source": [
    "Column 'sub_grade' is now a numeric categorical column. This column is now suitable for our analysis."
   ]
  },
  {
   "cell_type": "code",
   "execution_count": 83,
   "metadata": {},
   "outputs": [
    {
     "data": {
      "text/plain": [
       "Fully Paid     32950\n",
       "Charged Off     5627\n",
       "Current         1140\n",
       "Name: loan_status, dtype: int64"
      ]
     },
     "execution_count": 83,
     "metadata": {},
     "output_type": "execute_result"
    }
   ],
   "source": [
    "# check the 'loan_status' column\n",
    "\n",
    "df['loan_status'].value_counts()        # show the value counts of the 'loan_status' column"
   ]
  },
  {
   "cell_type": "markdown",
   "metadata": {},
   "source": [
    "### Insights:\n",
    "    1. This column contains the loan status of the loan applicant.\n",
    "    2. Loan status = Current cannot be used for our analysis because the loan is still in progress, hence it is not useful for our analysis.\n",
    "\n",
    "### Recommendations:\n",
    "    1. Drop the rows containing 'Current'.\n",
    "    2. Convert the column to numeric column by assigning 0 for 'Fully Paid' and 1 for 'Charged Off'."
   ]
  },
  {
   "cell_type": "code",
   "execution_count": 84,
   "metadata": {},
   "outputs": [
    {
     "data": {
      "text/plain": [
       "0    32950\n",
       "1     5627\n",
       "Name: loan_status, dtype: int64"
      ]
     },
     "execution_count": 84,
     "metadata": {},
     "output_type": "execute_result"
    }
   ],
   "source": [
    "# clean the 'loan_status' column\n",
    "\n",
    "df = df[df['loan_status'] != 'Current']                                                 # drop the rows with 'loan_status' value 'Current'\n",
    "df['loan_status'] = df['loan_status'].apply(lambda x: 1 if x=='Charged Off' else 0)     # replace the 'loan_status' value 'Charged Off' with 1 and the other values with 0\n",
    "df['loan_status'].value_counts()                                                        # show the value counts of the 'loan_status' column"
   ]
  },
  {
   "cell_type": "markdown",
   "metadata": {},
   "source": [
    "Column 'loan_status' is now a numeric categorical column. This column is now suitable for our analysis."
   ]
  },
  {
   "cell_type": "code",
   "execution_count": 85,
   "metadata": {},
   "outputs": [
    {
     "data": {
      "text/plain": [
       "Not Verified       16694\n",
       "Verified           12206\n",
       "Source Verified     9677\n",
       "Name: verification_status, dtype: int64"
      ]
     },
     "execution_count": 85,
     "metadata": {},
     "output_type": "execute_result"
    }
   ],
   "source": [
    "# check the 'verification_status' column\n",
    "\n",
    "df['verification_status'].value_counts()        # show the value counts of the 'verification_status' column"
   ]
  },
  {
   "cell_type": "markdown",
   "metadata": {},
   "source": [
    "### Insights:\n",
    "    1. This column contains the income verification status of the loan applicant.\n",
    "    2. Verification status = Source Verified is the highest verification status.\n",
    "    3. Verification status = Not Verified is the lowest verification status.\n",
    "\n",
    "### Recommendations:\n",
    "    1. Replace the string values with numeric values corresponding to the rank of the verification status such that Source Verified = 1, Verified = 2, Not Verified = 3."
   ]
  },
  {
   "cell_type": "code",
   "execution_count": 86,
   "metadata": {},
   "outputs": [
    {
     "data": {
      "text/plain": [
       "3    16694\n",
       "2    12206\n",
       "1     9677\n",
       "Name: verification_status, dtype: int64"
      ]
     },
     "execution_count": 86,
     "metadata": {},
     "output_type": "execute_result"
    }
   ],
   "source": [
    "# clean the 'verification_status' column\n",
    "\n",
    "df['verification_status'] = df['verification_status'].replace('Source Verified', 1)     # replace the 'verification_status' value 'Source Verified' with 1\n",
    "df['verification_status'] = df['verification_status'].replace('Verified', 2)            # replace the 'verification_status' value 'Not Verified' with 2\n",
    "df['verification_status'] = df['verification_status'].replace('Not Verified', 3)        # replace the 'verification_status' value 'Verified' with 3\n",
    "df['verification_status'].value_counts()                                                # show the value counts of the 'verification_status' column"
   ]
  },
  {
   "cell_type": "markdown",
   "metadata": {},
   "source": [
    "Column 'verification_status' is now a numeric categorical column. This column is now suitable for our analysis."
   ]
  },
  {
   "cell_type": "code",
   "execution_count": 87,
   "metadata": {},
   "outputs": [
    {
     "data": {
      "text/plain": [
       "10.99%    913\n",
       "11.49%    790\n",
       "7.51%     787\n",
       "13.49%    749\n",
       "7.88%     725\n",
       "         ... \n",
       "16.96%      1\n",
       "18.36%      1\n",
       "16.15%      1\n",
       "16.01%      1\n",
       "16.20%      1\n",
       "Name: int_rate, Length: 370, dtype: int64"
      ]
     },
     "execution_count": 87,
     "metadata": {},
     "output_type": "execute_result"
    }
   ],
   "source": [
    "# check the 'int_rate' column\n",
    "\n",
    "df['int_rate'].value_counts()            # show the value counts of the 'int_rate' column"
   ]
  },
  {
   "cell_type": "markdown",
   "metadata": {},
   "source": [
    "### Recommendations:\n",
    "    1. Remove the percentage symbol from the 'int_rate' column.\n",
    "    2. Convert the column to numeric column which is suitable for our analysis."
   ]
  },
  {
   "cell_type": "code",
   "execution_count": 88,
   "metadata": {},
   "outputs": [
    {
     "data": {
      "text/plain": [
       "10.99    913\n",
       "11.49    790\n",
       "7.51     787\n",
       "13.49    749\n",
       "7.88     725\n",
       "        ... \n",
       "16.96      1\n",
       "18.36      1\n",
       "16.15      1\n",
       "16.01      1\n",
       "16.20      1\n",
       "Name: int_rate, Length: 370, dtype: int64"
      ]
     },
     "execution_count": 88,
     "metadata": {},
     "output_type": "execute_result"
    }
   ],
   "source": [
    "# clean the percentage column\n",
    "def clean_percentages(i):               # function to clean the percentage column\n",
    "    i = i.str.replace('%', '')          # replace the '%' with an empty string\n",
    "    i = i.astype('float64')             # convert the column to float64\n",
    "    return i\n",
    "\n",
    "df['int_rate'] = clean_percentages(df['int_rate'])   # clean the 'int_rate' column\n",
    "df['int_rate'].value_counts()            # show the value counts of the 'int_rate' column"
   ]
  },
  {
   "cell_type": "markdown",
   "metadata": {},
   "source": [
    "Column 'int_rate' is now a numeric column. This column is now suitable for our analysis."
   ]
  },
  {
   "cell_type": "code",
   "execution_count": 89,
   "metadata": {},
   "outputs": [
    {
     "data": {
      "text/plain": [
       "Nov-11    2062\n",
       "Dec-11    2042\n",
       "Oct-11    1941\n",
       "Sep-11    1913\n",
       "Aug-11    1798\n",
       "Jul-11    1745\n",
       "Jun-11    1728\n",
       "May-11    1609\n",
       "Apr-11    1559\n",
       "Mar-11    1442\n",
       "Jan-11    1380\n",
       "Feb-11    1297\n",
       "Dec-10    1267\n",
       "Oct-10    1132\n",
       "Nov-10    1121\n",
       "Jul-10    1119\n",
       "Sep-10    1086\n",
       "Aug-10    1078\n",
       "Jun-10    1029\n",
       "May-10     920\n",
       "Apr-10     827\n",
       "Mar-10     737\n",
       "Feb-10     627\n",
       "Nov-09     602\n",
       "Dec-09     598\n",
       "Jan-10     589\n",
       "Oct-09     545\n",
       "Sep-09     449\n",
       "Aug-09     408\n",
       "Jul-09     374\n",
       "Jun-09     356\n",
       "May-09     319\n",
       "Apr-09     290\n",
       "Mar-09     276\n",
       "Feb-09     260\n",
       "Jan-09     239\n",
       "Mar-08     236\n",
       "Dec-08     223\n",
       "Nov-08     184\n",
       "Feb-08     174\n",
       "Jan-08     171\n",
       "Apr-08     155\n",
       "Oct-08      96\n",
       "Dec-07      85\n",
       "Jul-08      83\n",
       "May-08      71\n",
       "Aug-08      71\n",
       "Jun-08      66\n",
       "Oct-07      47\n",
       "Nov-07      37\n",
       "Aug-07      33\n",
       "Sep-08      32\n",
       "Jul-07      30\n",
       "Sep-07      18\n",
       "Jun-07       1\n",
       "Name: issue_d, dtype: int64"
      ]
     },
     "execution_count": 89,
     "metadata": {},
     "output_type": "execute_result"
    }
   ],
   "source": [
    "# check the 'issue_d' column\n",
    "\n",
    "df['issue_d'].value_counts()            # show the value counts of the 'issue_d' column"
   ]
  },
  {
   "cell_type": "markdown",
   "metadata": {},
   "source": [
    "### Insights:\n",
    "    1. This column contains the month and year of the loan application.\n",
    "    2. This column has the dtype of 'object'.\n",
    "\n",
    "### Recommendations:\n",
    "    1. Convert the column to datetime column."
   ]
  },
  {
   "cell_type": "code",
   "execution_count": 90,
   "metadata": {},
   "outputs": [
    {
     "data": {
      "text/plain": [
       "0        2011-12\n",
       "1        2011-12\n",
       "2        2011-12\n",
       "3        2011-12\n",
       "5        2011-12\n",
       "          ...   \n",
       "39712    2007-07\n",
       "39713    2007-07\n",
       "39714    2007-07\n",
       "39715    2007-07\n",
       "39716    2007-06\n",
       "Name: issue_d, Length: 38577, dtype: period[M]"
      ]
     },
     "execution_count": 90,
     "metadata": {},
     "output_type": "execute_result"
    }
   ],
   "source": [
    "# clean the 'issue_d' column\n",
    "\n",
    "def clean_date(i):                              # function to clean the 'issue_d' column\n",
    "    i = i.str.replace('-', ' ')                 # replace the '-' with ' ' in the 'issue_d' column\n",
    "    i = i.str[:4]+'20'+i.str[4:]                # add '20' to the year in the 'issue_d' column\n",
    "    i = pd.to_datetime(i).dt.to_period('M')     # convert the 'issue_d' column to 'M'onth format\n",
    "    return(i)   \n",
    "\n",
    "df['issue_d'] = clean_date(df['issue_d'])       # replace the 'issue_d' column with the cleaned values\n",
    "df['issue_d']                                   # show the 'issue_d' column"
   ]
  },
  {
   "cell_type": "markdown",
   "metadata": {},
   "source": [
    "Column 'issue_d' is now a datetime column. This column is now suitable for our analysis."
   ]
  },
  {
   "cell_type": "code",
   "execution_count": 91,
   "metadata": {},
   "outputs": [
    {
     "data": {
      "text/plain": [
       "100xx    583\n",
       "945xx    531\n",
       "112xx    502\n",
       "606xx    493\n",
       "070xx    455\n",
       "        ... \n",
       "463xx      1\n",
       "381xx      1\n",
       "592xx      1\n",
       "414xx      1\n",
       "469xx      1\n",
       "Name: zip_code, Length: 822, dtype: int64"
      ]
     },
     "execution_count": 91,
     "metadata": {},
     "output_type": "execute_result"
    }
   ],
   "source": [
    "# check the 'zip_code' column\n",
    "\n",
    "df['zip_code'].value_counts()            # show the value counts of the 'zip_code' column"
   ]
  },
  {
   "cell_type": "markdown",
   "metadata": {},
   "source": [
    "### Insights:\n",
    "    1. This column contains the zip code of the loan applicant.\n",
    "    2. The last two digits of the zip code are removed for privacy reasons.\n",
    "\n",
    "### Recommendations:\n",
    "    1. Drop the 'zip_code' column."
   ]
  },
  {
   "cell_type": "code",
   "execution_count": 92,
   "metadata": {},
   "outputs": [],
   "source": [
    "# drop the 'zip_code' column\n",
    "\n",
    "df.drop('zip_code', axis=1, inplace=True)       # drop the 'zip_code' column"
   ]
  },
  {
   "cell_type": "markdown",
   "metadata": {},
   "source": [
    "Column 'zip_code' is dropped from the dataframe."
   ]
  },
  {
   "cell_type": "code",
   "execution_count": 93,
   "metadata": {
    "scrolled": true
   },
   "outputs": [
    {
     "name": "stdout",
     "output_type": "stream",
     "text": [
      "<class 'pandas.core.frame.DataFrame'>\n",
      "Int64Index: 38577 entries, 0 to 39716\n",
      "Data columns (total 18 columns):\n",
      " #   Column                Non-Null Count  Dtype    \n",
      "---  ------                --------------  -----    \n",
      " 0   loan_amnt             38577 non-null  int64    \n",
      " 1   funded_amnt           38577 non-null  int64    \n",
      " 2   funded_amnt_inv       38577 non-null  float64  \n",
      " 3   term                  38577 non-null  int64    \n",
      " 4   int_rate              38577 non-null  float64  \n",
      " 5   installment           38577 non-null  float64  \n",
      " 6   grade                 38577 non-null  int32    \n",
      " 7   sub_grade             38577 non-null  int32    \n",
      " 8   emp_length            38577 non-null  int64    \n",
      " 9   home_ownership        38577 non-null  object   \n",
      " 10  annual_inc            38577 non-null  float64  \n",
      " 11  verification_status   38577 non-null  int64    \n",
      " 12  issue_d               38577 non-null  period[M]\n",
      " 13  loan_status           38577 non-null  int64    \n",
      " 14  purpose               38577 non-null  object   \n",
      " 15  addr_state            38577 non-null  object   \n",
      " 16  dti                   38577 non-null  float64  \n",
      " 17  pub_rec_bankruptcies  38577 non-null  int64    \n",
      "dtypes: float64(5), int32(2), int64(7), object(3), period[M](1)\n",
      "memory usage: 5.3+ MB\n"
     ]
    }
   ],
   "source": [
    "# check the information of the dataframe\n",
    "\n",
    "df.info()"
   ]
  },
  {
   "cell_type": "markdown",
   "metadata": {},
   "source": [
    "### <center>Data Description</center>\n",
    "| Column | Description | Data Type |\n",
    "| ------ | ----------- | --------- |\n",
    "| loan_amnt | The loan amount of the loan applicant | continuous numeric |\n",
    "| funded_amnt | The amount of the loan funded by the lending club | continuous numeric |\n",
    "| funded_amnt_inv | The amount of the loan dispersed by the lending club | continuous numeric |\n",
    "| term | The term of the loan | categorical numeric (36 Months = 0, 60 Months = 1)|\n",
    "| int_rate | The interest rate of the loan | continuous numeric |\n",
    "| installment | The installment of the loan | continuous numeric |\n",
    "| grade | The grade of the loan | ordered categorical numeric (A = 1, B = 2,..., G = 7)|\n",
    "| sub_grade | The sub grade of the loan | ordered categorical numeric (A1 = 1, A2 = 2,..., G5 = 35)|\n",
    "| emp_length | The length of the employment of the loan applicant | ordered categorical numeric (0-1 Year = 0, 1-2 Years = 1,...,10+ Years = 10) |\n",
    "| home_ownership | The home ownership of the loan applicant | categorical non-numeric |\n",
    "| annual_inc | The annual income of the loan applicant | continuous numeric |\n",
    "| verification_status | The income verification status of the loan applicant | ordered categorical numeric (Source Verified = 1, Verified = 2, Not Verified = 3)|\n",
    "| issue_d | The date of the loan application | datetime |\n",
    "| loan_status | The loan status of the loan applicant | ordered categorical numeric (Fully Paid = 0, Charged-Off = 1)|\n",
    "| purpose | The purpose of the loan | categorical non-numeric |\n",
    "| addr_state | The state of the loan applicant | categorical non-numeric |\n",
    "| dti | The debt-to-income ratio of the loan applicant | continuous numeric |\n",
    "| pub_rec_bankruptcies | The number of public record bankruptcies of the loan applicant | ordered categorical numeric |"
   ]
  },
  {
   "cell_type": "code",
   "execution_count": 94,
   "metadata": {
    "scrolled": false
   },
   "outputs": [
    {
     "name": "stdout",
     "output_type": "stream",
     "text": [
      "The cleaned dataframe has 38577 rows and 18 columns.\n"
     ]
    }
   ],
   "source": [
    "print('The cleaned dataframe has {} rows and {} columns.'.format(df.shape[0], df.shape[1]))  # print the number of rows and columns in the cleaned dataframe"
   ]
  },
  {
   "cell_type": "markdown",
   "metadata": {},
   "source": [
    "# EDA"
   ]
  },
  {
   "cell_type": "markdown",
   "metadata": {},
   "source": [
    "## Univariate Analysis"
   ]
  },
  {
   "cell_type": "markdown",
   "metadata": {},
   "source": [
    "## Correlation Matrix"
   ]
  },
  {
   "cell_type": "code",
   "execution_count": 114,
   "metadata": {},
   "outputs": [
    {
     "data": {
      "image/png": "[encoded data removed]",
      "text/plain": [
       "<Figure size 1000x800 with 2 Axes>"
      ]
     },
     "metadata": {},
     "output_type": "display_data"
    }
   ],
   "source": [
    "sns.set(rc={'figure.figsize':(10,8), 'figure.dpi':100})            # set the size of the plot\n",
    "sns.heatmap(data=df.corr(), annot=True, fmt='.2f')                 # plot the heatmap of the correlation between the variables\n",
    "plt.show()"
   ]
  },
  {
   "cell_type": "markdown",
   "metadata": {},
   "source": [
    "### Insights: \n",
    "    1. The columns loan_amnt, funded_amnt, funded_amnt_inv and installment have huge correlation. These fields are proportional to each other.\n",
    "    2. The public records related fields pub_rec & pub_rec_bankrupcies and number of accounts related fields open_acc & total_acc are correlated."
   ]
  },
  {
   "cell_type": "markdown",
   "metadata": {},
   "source": [
    "# Loan status vs Numerical continuous variables\n",
    "\n",
    "Now we will compare the loan_status fields with all the numerical variable.\n",
    "Since the analysis for this category will be similar, we will be creating a common function which can be used for all.\n"
   ]
  },
  {
   "cell_type": "code",
   "execution_count": 56,
   "metadata": {},
   "outputs": [
    {
     "data": {
      "text/plain": [
       "<AxesSubplot:xlabel='loan_status', ylabel='loan_amnt'>"
      ]
     },
     "execution_count": 56,
     "metadata": {},
     "output_type": "execute_result"
    },
    {
     "data": {
      "image/png": "[encoded data removed]",
      "text/plain": [
       "<Figure size 720x720 with 1 Axes>"
      ]
     },
     "metadata": {},
     "output_type": "display_data"
    }
   ],
   "source": [
    "sns.boxplot(x = 'loan_status', y = 'loan_amnt', data = df)"
   ]
  },
  {
   "cell_type": "code",
   "execution_count": 57,
   "metadata": {},
   "outputs": [
    {
     "data": {
      "text/plain": [
       "count    38577.000000\n",
       "mean     11047.025430\n",
       "std       7348.441646\n",
       "min        500.000000\n",
       "25%       5300.000000\n",
       "50%       9600.000000\n",
       "75%      15000.000000\n",
       "max      35000.000000\n",
       "Name: loan_amnt, dtype: float64"
      ]
     },
     "execution_count": 57,
     "metadata": {},
     "output_type": "execute_result"
    }
   ],
   "source": [
    "df['loan_amnt'].describe()"
   ]
  },
  {
   "cell_type": "markdown",
   "metadata": {},
   "source": [
    " As from the above, we can see that Mean is 1107.02 while Median (i.e. 50% of total) is 9600\n",
    "To reduce this gap, we will be limiting our data to 75%"
   ]
  },
  {
   "cell_type": "code",
   "execution_count": 58,
   "metadata": {},
   "outputs": [],
   "source": [
    "loan_till75 = df.loc[(df['loan_amnt']<=15000)]"
   ]
  },
  {
   "cell_type": "code",
   "execution_count": 59,
   "metadata": {},
   "outputs": [
    {
     "data": {
      "text/plain": [
       "<AxesSubplot:xlabel='loan_status', ylabel='loan_amnt'>"
      ]
     },
     "execution_count": 59,
     "metadata": {},
     "output_type": "execute_result"
    },
    {
     "data": {
      "image/png": "[encoded data removed]",
      "text/plain": [
       "<Figure size 720x720 with 1 Axes>"
      ]
     },
     "metadata": {},
     "output_type": "display_data"
    }
   ],
   "source": [
    "sns.boxplot(x = 'loan_status', y = 'loan_amnt', data = loan_till75)"
   ]
  },
  {
   "cell_type": "code",
   "execution_count": 60,
   "metadata": {},
   "outputs": [
    {
     "name": "stdout",
     "output_type": "stream",
     "text": [
      "We'll also check for data above 75%\n"
     ]
    },
    {
     "data": {
      "text/html": [
       "<div>\n",
       "<style scoped>\n",
       "    .dataframe tbody tr th:only-of-type {\n",
       "        vertical-align: middle;\n",
       "    }\n",
       "\n",
       "    .dataframe tbody tr th {\n",
       "        vertical-align: top;\n",
       "    }\n",
       "\n",
       "    .dataframe thead th {\n",
       "        text-align: right;\n",
       "    }\n",
       "</style>\n",
       "<table border=\"1\" class=\"dataframe\">\n",
       "  <thead>\n",
       "    <tr style=\"text-align: right;\">\n",
       "      <th></th>\n",
       "      <th>loan_amnt</th>\n",
       "      <th>funded_amnt</th>\n",
       "      <th>funded_amnt_inv</th>\n",
       "      <th>term</th>\n",
       "      <th>int_rate</th>\n",
       "      <th>installment</th>\n",
       "      <th>grade</th>\n",
       "      <th>sub_grade</th>\n",
       "      <th>emp_length</th>\n",
       "      <th>home_ownership</th>\n",
       "      <th>annual_inc</th>\n",
       "      <th>verification_status</th>\n",
       "      <th>issue_d</th>\n",
       "      <th>loan_status</th>\n",
       "      <th>purpose</th>\n",
       "      <th>addr_state</th>\n",
       "      <th>dti</th>\n",
       "      <th>pub_rec_bankruptcies</th>\n",
       "      <th>loan_status_num</th>\n",
       "    </tr>\n",
       "  </thead>\n",
       "  <tbody>\n",
       "    <tr>\n",
       "      <th>20</th>\n",
       "      <td>20250</td>\n",
       "      <td>20250</td>\n",
       "      <td>19142.16108</td>\n",
       "      <td>1</td>\n",
       "      <td>15.27</td>\n",
       "      <td>484.63</td>\n",
       "      <td>3</td>\n",
       "      <td>14</td>\n",
       "      <td>3</td>\n",
       "      <td>RENT</td>\n",
       "      <td>43370.0</td>\n",
       "      <td>2</td>\n",
       "      <td>2011-12</td>\n",
       "      <td>1</td>\n",
       "      <td>debt_consolidation</td>\n",
       "      <td>TX</td>\n",
       "      <td>26.53</td>\n",
       "      <td>0</td>\n",
       "      <td>0</td>\n",
       "    </tr>\n",
       "    <tr>\n",
       "      <th>21</th>\n",
       "      <td>21000</td>\n",
       "      <td>21000</td>\n",
       "      <td>21000.00000</td>\n",
       "      <td>0</td>\n",
       "      <td>12.42</td>\n",
       "      <td>701.73</td>\n",
       "      <td>2</td>\n",
       "      <td>9</td>\n",
       "      <td>10</td>\n",
       "      <td>RENT</td>\n",
       "      <td>105000.0</td>\n",
       "      <td>2</td>\n",
       "      <td>2011-12</td>\n",
       "      <td>0</td>\n",
       "      <td>debt_consolidation</td>\n",
       "      <td>FL</td>\n",
       "      <td>13.22</td>\n",
       "      <td>0</td>\n",
       "      <td>0</td>\n",
       "    </tr>\n",
       "    <tr>\n",
       "      <th>25</th>\n",
       "      <td>15000</td>\n",
       "      <td>15000</td>\n",
       "      <td>15000.00000</td>\n",
       "      <td>0</td>\n",
       "      <td>9.91</td>\n",
       "      <td>483.38</td>\n",
       "      <td>2</td>\n",
       "      <td>6</td>\n",
       "      <td>2</td>\n",
       "      <td>MORTGAGE</td>\n",
       "      <td>92000.0</td>\n",
       "      <td>2</td>\n",
       "      <td>2011-12</td>\n",
       "      <td>1</td>\n",
       "      <td>credit_card</td>\n",
       "      <td>IL</td>\n",
       "      <td>29.44</td>\n",
       "      <td>0</td>\n",
       "      <td>0</td>\n",
       "    </tr>\n",
       "    <tr>\n",
       "      <th>26</th>\n",
       "      <td>15000</td>\n",
       "      <td>15000</td>\n",
       "      <td>8725.00000</td>\n",
       "      <td>0</td>\n",
       "      <td>14.27</td>\n",
       "      <td>514.64</td>\n",
       "      <td>3</td>\n",
       "      <td>12</td>\n",
       "      <td>9</td>\n",
       "      <td>RENT</td>\n",
       "      <td>60000.0</td>\n",
       "      <td>3</td>\n",
       "      <td>2011-12</td>\n",
       "      <td>0</td>\n",
       "      <td>debt_consolidation</td>\n",
       "      <td>NY</td>\n",
       "      <td>15.22</td>\n",
       "      <td>0</td>\n",
       "      <td>0</td>\n",
       "    </tr>\n",
       "    <tr>\n",
       "      <th>31</th>\n",
       "      <td>31825</td>\n",
       "      <td>31825</td>\n",
       "      <td>31825.00000</td>\n",
       "      <td>0</td>\n",
       "      <td>7.90</td>\n",
       "      <td>995.82</td>\n",
       "      <td>1</td>\n",
       "      <td>4</td>\n",
       "      <td>5</td>\n",
       "      <td>MORTGAGE</td>\n",
       "      <td>75000.0</td>\n",
       "      <td>2</td>\n",
       "      <td>2011-12</td>\n",
       "      <td>1</td>\n",
       "      <td>debt_consolidation</td>\n",
       "      <td>NJ</td>\n",
       "      <td>14.03</td>\n",
       "      <td>0</td>\n",
       "      <td>0</td>\n",
       "    </tr>\n",
       "  </tbody>\n",
       "</table>\n",
       "</div>"
      ],
      "text/plain": [
       "    loan_amnt  funded_amnt  funded_amnt_inv  term  int_rate  installment  \\\n",
       "20      20250        20250      19142.16108     1     15.27       484.63   \n",
       "21      21000        21000      21000.00000     0     12.42       701.73   \n",
       "25      15000        15000      15000.00000     0      9.91       483.38   \n",
       "26      15000        15000       8725.00000     0     14.27       514.64   \n",
       "31      31825        31825      31825.00000     0      7.90       995.82   \n",
       "\n",
       "    grade  sub_grade  emp_length home_ownership  annual_inc  \\\n",
       "20      3         14           3           RENT     43370.0   \n",
       "21      2          9          10           RENT    105000.0   \n",
       "25      2          6           2       MORTGAGE     92000.0   \n",
       "26      3         12           9           RENT     60000.0   \n",
       "31      1          4           5       MORTGAGE     75000.0   \n",
       "\n",
       "    verification_status  issue_d  loan_status             purpose addr_state  \\\n",
       "20                    2  2011-12            1  debt_consolidation         TX   \n",
       "21                    2  2011-12            0  debt_consolidation         FL   \n",
       "25                    2  2011-12            1         credit_card         IL   \n",
       "26                    3  2011-12            0  debt_consolidation         NY   \n",
       "31                    2  2011-12            1  debt_consolidation         NJ   \n",
       "\n",
       "      dti  pub_rec_bankruptcies  loan_status_num  \n",
       "20  26.53                     0                0  \n",
       "21  13.22                     0                0  \n",
       "25  29.44                     0                0  \n",
       "26  15.22                     0                0  \n",
       "31  14.03                     0                0  "
      ]
     },
     "execution_count": 60,
     "metadata": {},
     "output_type": "execute_result"
    }
   ],
   "source": [
    "print(\"We'll also check for data above 75%\")\n",
    "loan_above75 = df.loc[(df['loan_amnt']>=15000)]\n",
    "loan_above75.head()"
   ]
  },
  {
   "cell_type": "code",
   "execution_count": 61,
   "metadata": {
    "scrolled": true
   },
   "outputs": [
    {
     "data": {
      "text/plain": [
       "<AxesSubplot:xlabel='loan_status', ylabel='loan_amnt'>"
      ]
     },
     "execution_count": 61,
     "metadata": {},
     "output_type": "execute_result"
    },
    {
     "data": {
      "image/png": "[encoded data removed]",
      "text/plain": [
       "<Figure size 720x720 with 1 Axes>"
      ]
     },
     "metadata": {},
     "output_type": "display_data"
    }
   ],
   "source": [
    "sns.boxplot(x = 'loan_status', y = 'loan_amnt', data = loan_above75)\n"
   ]
  },
  {
   "cell_type": "markdown",
   "metadata": {},
   "source": [
    "#### From loan_till75 & loan_above75 we have come to conclusion that higher amount will tend to Charged Off"
   ]
  },
  {
   "cell_type": "code",
   "execution_count": 115,
   "metadata": {
    "scrolled": false
   },
   "outputs": [
    {
     "data": {
      "text/plain": [
       "<AxesSubplot:xlabel='grade', ylabel='count'>"
      ]
     },
     "execution_count": 115,
     "metadata": {},
     "output_type": "execute_result"
    },
    {
     "data": {
      "image/png": "[encoded data removed]",
      "text/plain": [
       "<Figure size 1000x800 with 1 Axes>"
      ]
     },
     "metadata": {},
     "output_type": "display_data"
    }
   ],
   "source": [
    "sns.set_palette('colorblind')\n",
    "sns.countplot(x = 'grade', data = df[df.loan_status == 1], order = [1,2,3,4,5,6,7])"
   ]
  },
  {
   "cell_type": "markdown",
   "metadata": {},
   "source": [
    "### Insights:\n",
    "1. We can see that most customers are from either Grade B/ Grade 2 or Grade C/ Grade 3 "
   ]
  },
  {
   "cell_type": "code",
   "execution_count": 116,
   "metadata": {},
   "outputs": [
    {
     "data": {
      "text/plain": [
       "<AxesSubplot:xlabel='home_ownership', ylabel='count'>"
      ]
     },
     "execution_count": 116,
     "metadata": {},
     "output_type": "execute_result"
    },
    {
     "data": {
      "image/png": "[encoded data removed]",
      "text/plain": [
       "<Figure size 1000x800 with 1 Axes>"
      ]
     },
     "metadata": {},
     "output_type": "display_data"
    }
   ],
   "source": [
    "sns.countplot(x='home_ownership', data=df[df['loan_status']==1])"
   ]
  },
  {
   "cell_type": "markdown",
   "metadata": {},
   "source": [
    "### Insights:\n",
    "1. From the plot, we can see that most customers doesn't possess a home.\n",
    "2. Majority of customers who have applied for loan are living on Rent appartments"
   ]
  },
  {
   "cell_type": "code",
   "execution_count": null,
   "metadata": {},
   "outputs": [
    {
     "data": {
      "text/plain": [
       "<AxesSubplot:xlabel='count', ylabel='purpose'>"
      ]
     },
     "execution_count": 138,
     "metadata": {},
     "output_type": "execute_result"
    },
    {
     "data": {
      "image/png": "[encoded data removed]",
      "text/plain": [
       "<Figure size 864x576 with 1 Axes>"
      ]
     },
     "metadata": {},
     "output_type": "display_data"
    }
   ],
   "source": [
    "fig, ax = plt.subplots(figsize = (12,8))\n",
    "ax.set(xscale='log')\n",
    "sns.countplot(y ='purpose', data=df[df.loan_status == 'Charged Off'])\n"
   ]
  },
  {
   "cell_type": "markdown",
   "metadata": {},
   "source": [
    "### Insigths:\n",
    "1. From the plot, we can see that major purpose of taking loan is Debt_Consolidation\n",
    "2. Second major purpose is for credit card or for other purposes"
   ]
  },
  {
   "cell_type": "markdown",
   "metadata": {},
   "source": [
    "#### Creating bins for numerical variable to make them categorical"
   ]
  },
  {
   "cell_type": "code",
   "execution_count": null,
   "metadata": {},
   "outputs": [],
   "source": [
    "#creating bins for int_rate,open_acc,revol_util,total_acc\n",
    "df['int_rate_groups'] = pd.cut(df['int_rate'], bins=5,precision =0,labels=['5%-9%','9%-13%','13%-17%','17%-21%','21%-24%'])\n",
    "df['annual_inc_groups'] = pd.cut(df['annual_inc'], bins=5,precision =0,labels =['3k-31k','31k-58k','58k-85k','85k-112k','112k-140k'])"
   ]
  },
  {
   "cell_type": "code",
   "execution_count": null,
   "metadata": {
    "scrolled": true
   },
   "outputs": [
    {
     "data": {
      "text/html": [
       "<div>\n",
       "<style scoped>\n",
       "    .dataframe tbody tr th:only-of-type {\n",
       "        vertical-align: middle;\n",
       "    }\n",
       "\n",
       "    .dataframe tbody tr th {\n",
       "        vertical-align: top;\n",
       "    }\n",
       "\n",
       "    .dataframe thead th {\n",
       "        text-align: right;\n",
       "    }\n",
       "</style>\n",
       "<table border=\"1\" class=\"dataframe\">\n",
       "  <thead>\n",
       "    <tr style=\"text-align: right;\">\n",
       "      <th></th>\n",
       "      <th>loan_amnt</th>\n",
       "      <th>funded_amnt</th>\n",
       "      <th>funded_amnt_inv</th>\n",
       "      <th>term</th>\n",
       "      <th>int_rate</th>\n",
       "      <th>installment</th>\n",
       "      <th>grade</th>\n",
       "      <th>sub_grade</th>\n",
       "      <th>emp_length</th>\n",
       "      <th>home_ownership</th>\n",
       "      <th>...</th>\n",
       "      <th>verification_status</th>\n",
       "      <th>issue_d</th>\n",
       "      <th>loan_status</th>\n",
       "      <th>purpose</th>\n",
       "      <th>addr_state</th>\n",
       "      <th>dti</th>\n",
       "      <th>pub_rec_bankruptcies</th>\n",
       "      <th>loan_status_num</th>\n",
       "      <th>int_rate_groups</th>\n",
       "      <th>annual_inc_groups</th>\n",
       "    </tr>\n",
       "  </thead>\n",
       "  <tbody>\n",
       "    <tr>\n",
       "      <th>0</th>\n",
       "      <td>5000</td>\n",
       "      <td>5000</td>\n",
       "      <td>4975.0</td>\n",
       "      <td>0</td>\n",
       "      <td>10.65</td>\n",
       "      <td>162.87</td>\n",
       "      <td>2</td>\n",
       "      <td>7</td>\n",
       "      <td>10</td>\n",
       "      <td>RENT</td>\n",
       "      <td>...</td>\n",
       "      <td>2</td>\n",
       "      <td>2011-12</td>\n",
       "      <td>Fully Paid</td>\n",
       "      <td>credit_card</td>\n",
       "      <td>AZ</td>\n",
       "      <td>27.65</td>\n",
       "      <td>0</td>\n",
       "      <td>0</td>\n",
       "      <td>9%-13%</td>\n",
       "      <td>3k-31k</td>\n",
       "    </tr>\n",
       "    <tr>\n",
       "      <th>1</th>\n",
       "      <td>2500</td>\n",
       "      <td>2500</td>\n",
       "      <td>2500.0</td>\n",
       "      <td>1</td>\n",
       "      <td>15.27</td>\n",
       "      <td>59.83</td>\n",
       "      <td>3</td>\n",
       "      <td>14</td>\n",
       "      <td>0</td>\n",
       "      <td>RENT</td>\n",
       "      <td>...</td>\n",
       "      <td>1</td>\n",
       "      <td>2011-12</td>\n",
       "      <td>Charged Off</td>\n",
       "      <td>car</td>\n",
       "      <td>GA</td>\n",
       "      <td>1.00</td>\n",
       "      <td>0</td>\n",
       "      <td>1</td>\n",
       "      <td>13%-17%</td>\n",
       "      <td>3k-31k</td>\n",
       "    </tr>\n",
       "    <tr>\n",
       "      <th>2</th>\n",
       "      <td>2400</td>\n",
       "      <td>2400</td>\n",
       "      <td>2400.0</td>\n",
       "      <td>0</td>\n",
       "      <td>15.96</td>\n",
       "      <td>84.33</td>\n",
       "      <td>3</td>\n",
       "      <td>15</td>\n",
       "      <td>10</td>\n",
       "      <td>RENT</td>\n",
       "      <td>...</td>\n",
       "      <td>3</td>\n",
       "      <td>2011-12</td>\n",
       "      <td>Fully Paid</td>\n",
       "      <td>small_business</td>\n",
       "      <td>IL</td>\n",
       "      <td>8.72</td>\n",
       "      <td>0</td>\n",
       "      <td>0</td>\n",
       "      <td>13%-17%</td>\n",
       "      <td>3k-31k</td>\n",
       "    </tr>\n",
       "    <tr>\n",
       "      <th>3</th>\n",
       "      <td>10000</td>\n",
       "      <td>10000</td>\n",
       "      <td>10000.0</td>\n",
       "      <td>0</td>\n",
       "      <td>13.49</td>\n",
       "      <td>339.31</td>\n",
       "      <td>3</td>\n",
       "      <td>11</td>\n",
       "      <td>10</td>\n",
       "      <td>RENT</td>\n",
       "      <td>...</td>\n",
       "      <td>1</td>\n",
       "      <td>2011-12</td>\n",
       "      <td>Fully Paid</td>\n",
       "      <td>other</td>\n",
       "      <td>CA</td>\n",
       "      <td>20.00</td>\n",
       "      <td>0</td>\n",
       "      <td>0</td>\n",
       "      <td>13%-17%</td>\n",
       "      <td>3k-31k</td>\n",
       "    </tr>\n",
       "    <tr>\n",
       "      <th>5</th>\n",
       "      <td>5000</td>\n",
       "      <td>5000</td>\n",
       "      <td>5000.0</td>\n",
       "      <td>0</td>\n",
       "      <td>7.90</td>\n",
       "      <td>156.46</td>\n",
       "      <td>1</td>\n",
       "      <td>4</td>\n",
       "      <td>3</td>\n",
       "      <td>RENT</td>\n",
       "      <td>...</td>\n",
       "      <td>1</td>\n",
       "      <td>2011-12</td>\n",
       "      <td>Fully Paid</td>\n",
       "      <td>wedding</td>\n",
       "      <td>AZ</td>\n",
       "      <td>11.20</td>\n",
       "      <td>0</td>\n",
       "      <td>0</td>\n",
       "      <td>5%-9%</td>\n",
       "      <td>3k-31k</td>\n",
       "    </tr>\n",
       "  </tbody>\n",
       "</table>\n",
       "<p>5 rows × 21 columns</p>\n",
       "</div>"
      ],
      "text/plain": [
       "   loan_amnt  funded_amnt  funded_amnt_inv  term  int_rate  installment  \\\n",
       "0       5000         5000           4975.0     0     10.65       162.87   \n",
       "1       2500         2500           2500.0     1     15.27        59.83   \n",
       "2       2400         2400           2400.0     0     15.96        84.33   \n",
       "3      10000        10000          10000.0     0     13.49       339.31   \n",
       "5       5000         5000           5000.0     0      7.90       156.46   \n",
       "\n",
       "   grade  sub_grade  emp_length home_ownership  ...  verification_status  \\\n",
       "0      2          7          10           RENT  ...                    2   \n",
       "1      3         14           0           RENT  ...                    1   \n",
       "2      3         15          10           RENT  ...                    3   \n",
       "3      3         11          10           RENT  ...                    1   \n",
       "5      1          4           3           RENT  ...                    1   \n",
       "\n",
       "   issue_d  loan_status         purpose addr_state    dti  \\\n",
       "0  2011-12   Fully Paid     credit_card         AZ  27.65   \n",
       "1  2011-12  Charged Off             car         GA   1.00   \n",
       "2  2011-12   Fully Paid  small_business         IL   8.72   \n",
       "3  2011-12   Fully Paid           other         CA  20.00   \n",
       "5  2011-12   Fully Paid         wedding         AZ  11.20   \n",
       "\n",
       "   pub_rec_bankruptcies  loan_status_num  int_rate_groups annual_inc_groups  \n",
       "0                     0                0           9%-13%            3k-31k  \n",
       "1                     0                1          13%-17%            3k-31k  \n",
       "2                     0                0          13%-17%            3k-31k  \n",
       "3                     0                0          13%-17%            3k-31k  \n",
       "5                     0                0            5%-9%            3k-31k  \n",
       "\n",
       "[5 rows x 21 columns]"
      ]
     },
     "execution_count": 143,
     "metadata": {},
     "output_type": "execute_result"
    }
   ],
   "source": [
    "df.head()"
   ]
  },
  {
   "cell_type": "markdown",
   "metadata": {},
   "source": [
    "### Plotting interest rate wrt to int_rate_groups, emp_length and annual_inc_groups"
   ]
  },
  {
   "cell_type": "code",
   "execution_count": null,
   "metadata": {},
   "outputs": [
    {
     "data": {
      "text/plain": [
       "<AxesSubplot:xlabel='emp_length', ylabel='count'>"
      ]
     },
     "execution_count": 144,
     "metadata": {},
     "output_type": "execute_result"
    },
    {
     "data": {
      "image/png": "[encoded data removed]",
      "text/plain": [
       "<Figure size 1080x720 with 2 Axes>"
      ]
     },
     "metadata": {},
     "output_type": "display_data"
    }
   ],
   "source": [
    "fig, ax = plt.subplots(figsize = (15,10))\n",
    "plt.subplot(221)\n",
    "sns.countplot(x='int_rate_groups', data=df[df.loan_status == 'Charged Off'])\n",
    "plt.xlabel('Interest Rate')\n",
    "plt.subplot(222)\n",
    "sns.countplot(x='emp_length', data=df[df.loan_status == 'Charged Off'])"
   ]
  },
  {
   "cell_type": "markdown",
   "metadata": {},
   "source": [
    "### Insights:\n",
    "1. Most consumers are paying interest rate in the range 9%-17%\n",
    "2. Most Consumers have emp_length as 10 years"
   ]
  },
  {
   "cell_type": "code",
   "execution_count": null,
   "metadata": {},
   "outputs": [
    {
     "data": {
      "text/plain": [
       "<AxesSubplot:xlabel='count', ylabel='term'>"
      ]
     },
     "execution_count": 157,
     "metadata": {},
     "output_type": "execute_result"
    },
    {
     "data": {
      "image/png": "[encoded data removed]",
      "text/plain": [
       "<Figure size 1080x360 with 1 Axes>"
      ]
     },
     "metadata": {},
     "output_type": "display_data"
    }
   ],
   "source": [
    "fig, ax = plt.subplots(figsize = (15,5))\n",
    "sns.countplot(y='term', data=df[df['loan_status']=='Charged Off'])"
   ]
  },
  {
   "cell_type": "markdown",
   "metadata": {},
   "source": [
    "### Insights:\n",
    "1. As per Data Prep, we've changed Term column as 0-> 36 months and 1->60 months\n",
    "2. From the plot, we can see that most cuustomers have taken loan for 36 months"
   ]
  },
  {
   "cell_type": "code",
   "execution_count": null,
   "metadata": {},
   "outputs": [
    {
     "data": {
      "text/plain": [
       "<AxesSubplot:xlabel='verification_status', ylabel='count'>"
      ]
     },
     "execution_count": 159,
     "metadata": {},
     "output_type": "execute_result"
    },
    {
     "data": {
      "image/png": "[encoded data removed]",
      "text/plain": [
       "<Figure size 720x720 with 1 Axes>"
      ]
     },
     "metadata": {},
     "output_type": "display_data"
    }
   ],
   "source": [
    "sns.countplot(x='verification_status', data=df[df['loan_status']=='Charged Off'])"
   ]
  },
  {
   "cell_type": "markdown",
   "metadata": {},
   "source": [
    "#### Insights:\n",
    "1. From the plot, we can see that most consumers have status as Not Verified"
   ]
  },
  {
   "cell_type": "code",
   "execution_count": 120,
   "metadata": {},
   "outputs": [],
   "source": [
    "df['installment_groups'] = pd.cut(df['installment'], bins=10,precision =0,labels=['14-145','145-274','274-403','403-531','531-660','660-789','789-918','918-1047','1047-1176','1176-1305'])\n",
    "df['funded_amnt_inv_group'] = pd.cut(df['funded_amnt_inv'], bins=7,labels=['0-5k','5k-10k','10k-15k','15k-20k','20k-25k','25k-30k','30k-35k']) ## bin is starting from -35?\n",
    "df['loan_amnt_groups'] = pd.cut(df['loan_amnt'], bins=7,precision =0,labels=['0-5k','5k-10k','10k-15k','15k-20k','20k-25k','25k-30k','30k-35k'])\n",
    "df['dti_groups'] = pd.cut(df['dti'], bins=5,precision =0,labels=['0-6','6-12','12-18','18-24','24-30'])"
   ]
  },
  {
   "cell_type": "code",
   "execution_count": 121,
   "metadata": {},
   "outputs": [
    {
     "data": {
      "text/plain": [
       "<AxesSubplot:xlabel='funded_amnt_inv_group', ylabel='count'>"
      ]
     },
     "execution_count": 121,
     "metadata": {},
     "output_type": "execute_result"
    },
    {
     "data": {
      "image/png": "[encoded data removed]",
      "text/plain": [
       "<Figure size 1200x500 with 1 Axes>"
      ]
     },
     "metadata": {},
     "output_type": "display_data"
    }
   ],
   "source": [
    "fig,ax = plt.subplots(figsize = (12,5))\n",
    "ax.set_yscale('log')\n",
    "sns.countplot(x='funded_amnt_inv_group', data=df[df['loan_status']==1])"
   ]
  },
  {
   "cell_type": "markdown",
   "metadata": {},
   "source": [
    "#### Insights:\n",
    "1. From the plot, we can see that investors are tend to approve low amount loans ranging from 0k-20k"
   ]
  },
  {
   "cell_type": "code",
   "execution_count": 123,
   "metadata": {},
   "outputs": [
    {
     "data": {
      "text/plain": [
       "<AxesSubplot:xlabel='loan_amnt_groups', ylabel='count'>"
      ]
     },
     "execution_count": 123,
     "metadata": {},
     "output_type": "execute_result"
    },
    {
     "data": {
      "image/png": "[encoded data removed]",
      "text/plain": [
       "<Figure size 1500x600 with 1 Axes>"
      ]
     },
     "metadata": {},
     "output_type": "display_data"
    }
   ],
   "source": [
    "fig,ax = plt.subplots(figsize = (15,6))\n",
    "ax.set_yscale('log')\n",
    "sns.countplot(x='loan_amnt_groups', data=df[df['loan_status']==1])"
   ]
  },
  {
   "cell_type": "markdown",
   "metadata": {},
   "source": [
    "#### Insights:\n",
    "1. Most consumers have requested for loans ranging from 0k-15k\n",
    "2. The second followed range after 0k-15k is from 15k-25k"
   ]
  },
  {
   "cell_type": "code",
   "execution_count": 124,
   "metadata": {},
   "outputs": [
    {
     "data": {
      "text/plain": [
       "<AxesSubplot:xlabel='dti_groups', ylabel='count'>"
      ]
     },
     "execution_count": 124,
     "metadata": {},
     "output_type": "execute_result"
    },
    {
     "data": {
      "image/png": "[encoded data removed]",
      "text/plain": [
       "<Figure size 1000x800 with 1 Axes>"
      ]
     },
     "metadata": {},
     "output_type": "display_data"
    }
   ],
   "source": [
    "sns.countplot(x='dti_groups', data=df[df['loan_status']==1])"
   ]
  },
  {
   "cell_type": "code",
   "execution_count": 125,
   "metadata": {},
   "outputs": [
    {
     "data": {
      "text/plain": [
       "<AxesSubplot:xlabel='installment_groups', ylabel='count'>"
      ]
     },
     "execution_count": 125,
     "metadata": {},
     "output_type": "execute_result"
    },
    {
     "data": {
      "image/png": "[encoded data removed]",
      "text/plain": [
       "<Figure size 1500x600 with 1 Axes>"
      ]
     },
     "metadata": {},
     "output_type": "display_data"
    }
   ],
   "source": [
    "fig,ax = plt.subplots(figsize = (15,6))\n",
    "ax.set_yscale('log')\n",
    "sns.countplot(x='installment_groups', data=df[df['loan_status']==1])"
   ]
  },
  {
   "cell_type": "markdown",
   "metadata": {},
   "source": [
    "#### Insights:\n",
    "1. Most installment groups are in the range 14-531"
   ]
  },
  {
   "cell_type": "markdown",
   "metadata": {},
   "source": [
    "# Observations\n",
    "\n",
    "### The above analysis w.r.t charged off loans for each variable suggests the following.\n",
    "### There is probability of defaulting when : \n",
    "\n",
    "- Applicants having house_ownership as 'RENT'\n",
    "- Applicants who use the loan to clear other debts\n",
    "- Applicants who receive interest at the rate of 13-17%\n",
    "- Applicants with employement length of 10\n",
    "- When funded amount by investor is between 5000-10000\n",
    "- Loan amount is between 5429 - 10357\n",
    "- Dti is between 12-18\n",
    "- When monthly installments are between 145-274\n",
    "- Term of 36 months\n",
    "- When the loan status is Not verified\n",
    "- When the purpose is 'debt_consolidation'\n",
    "- Grade is 'B'\n"
   ]
  },
  {
   "cell_type": "code",
   "execution_count": null,
   "metadata": {},
   "outputs": [],
   "source": []
  }
 ],
 "metadata": {
  "kernelspec": {
   "display_name": "Python 3 (ipykernel)",
   "language": "python",
   "name": "python3"
  },
  "language_info": {
   "codemirror_mode": {
    "name": "ipython",
    "version": 3
   },
   "file_extension": ".py",
   "mimetype": "text/x-python",
   "name": "python",
   "nbconvert_exporter": "python",
   "pygments_lexer": "ipython3",
   "version": "3.9.12"
  },
  "vscode": {
   "interpreter": {
    "hash": "ad2bdc8ecc057115af97d19610ffacc2b4e99fae6737bb82f5d7fb13d2f2c186"
   }
  }
 },
 "nbformat": 4,
 "nbformat_minor": 2
}
