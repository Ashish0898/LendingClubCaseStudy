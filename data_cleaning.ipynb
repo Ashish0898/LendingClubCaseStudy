{
 "cells": [
  {
   "cell_type": "code",
   "execution_count": 1,
   "id": "ef582e5b",
   "metadata": {
    "execution": {
     "iopub.execute_input": "2022-08-03T18:50:46.026004Z",
     "iopub.status.busy": "2022-08-03T18:50:46.025003Z",
     "iopub.status.idle": "2022-08-03T18:50:47.142946Z",
     "shell.execute_reply": "2022-08-03T18:50:47.141838Z"
    },
    "papermill": {
     "duration": 1.134937,
     "end_time": "2022-08-03T18:50:47.145875",
     "exception": false,
     "start_time": "2022-08-03T18:50:46.010938",
     "status": "completed"
    },
    "tags": []
   },
   "outputs": [],
   "source": [
    "import pandas as pd\n",
    "import numpy as np\n",
    "import matplotlib.pyplot as plt\n",
    "import seaborn as sns\n",
    "import datetime as dt\n",
    "import warnings"
   ]
  },
  {
   "cell_type": "code",
   "execution_count": 2,
   "id": "228f503d",
   "metadata": {
    "execution": {
     "iopub.execute_input": "2022-08-03T18:50:47.169675Z",
     "iopub.status.busy": "2022-08-03T18:50:47.168492Z",
     "iopub.status.idle": "2022-08-03T18:50:47.174204Z",
     "shell.execute_reply": "2022-08-03T18:50:47.173240Z"
    },
    "papermill": {
     "duration": 0.019797,
     "end_time": "2022-08-03T18:50:47.176545",
     "exception": false,
     "start_time": "2022-08-03T18:50:47.156748",
     "status": "completed"
    },
    "tags": []
   },
   "outputs": [],
   "source": [
    "warnings.filterwarnings('ignore')"
   ]
  },
  {
   "cell_type": "code",
   "execution_count": 3,
   "id": "90210df4",
   "metadata": {
    "execution": {
     "iopub.execute_input": "2022-08-03T18:50:47.199838Z",
     "iopub.status.busy": "2022-08-03T18:50:47.199127Z",
     "iopub.status.idle": "2022-08-03T18:50:48.315328Z",
     "shell.execute_reply": "2022-08-03T18:50:48.314225Z"
    },
    "papermill": {
     "duration": 1.131066,
     "end_time": "2022-08-03T18:50:48.318367",
     "exception": false,
     "start_time": "2022-08-03T18:50:47.187301",
     "status": "completed"
    },
    "tags": []
   },
   "outputs": [],
   "source": [
    "#df = pd.read_csv('Data/loan.csv')\n",
    "\n",
    "df=pd.read_csv('../input/projectdata/loan.csv')"
   ]
  },
  {
   "cell_type": "code",
   "execution_count": 4,
   "id": "82fe81c1",
   "metadata": {
    "execution": {
     "iopub.execute_input": "2022-08-03T18:50:48.345735Z",
     "iopub.status.busy": "2022-08-03T18:50:48.344960Z",
     "iopub.status.idle": "2022-08-03T18:50:48.434933Z",
     "shell.execute_reply": "2022-08-03T18:50:48.433599Z"
    },
    "papermill": {
     "duration": 0.106303,
     "end_time": "2022-08-03T18:50:48.438463",
     "exception": false,
     "start_time": "2022-08-03T18:50:48.332160",
     "status": "completed"
    },
    "tags": []
   },
   "outputs": [
    {
     "name": "stdout",
     "output_type": "stream",
     "text": [
      "<class 'pandas.core.frame.DataFrame'>\n",
      "RangeIndex: 39717 entries, 0 to 39716\n",
      "Data columns (total 111 columns):\n",
      " #    Column                          Non-Null Count  Dtype  \n",
      "---   ------                          --------------  -----  \n",
      " 0    id                              39717 non-null  int64  \n",
      " 1    member_id                       39717 non-null  int64  \n",
      " 2    loan_amnt                       39717 non-null  int64  \n",
      " 3    funded_amnt                     39717 non-null  int64  \n",
      " 4    funded_amnt_inv                 39717 non-null  float64\n",
      " 5    term                            39717 non-null  object \n",
      " 6    int_rate                        39717 non-null  object \n",
      " 7    installment                     39717 non-null  float64\n",
      " 8    grade                           39717 non-null  object \n",
      " 9    sub_grade                       39717 non-null  object \n",
      " 10   emp_title                       37258 non-null  object \n",
      " 11   emp_length                      38642 non-null  object \n",
      " 12   home_ownership                  39717 non-null  object \n",
      " 13   annual_inc                      39717 non-null  float64\n",
      " 14   verification_status             39717 non-null  object \n",
      " 15   issue_d                         39717 non-null  object \n",
      " 16   loan_status                     39717 non-null  object \n",
      " 17   pymnt_plan                      39717 non-null  object \n",
      " 18   url                             39717 non-null  object \n",
      " 19   desc                            26777 non-null  object \n",
      " 20   purpose                         39717 non-null  object \n",
      " 21   title                           39706 non-null  object \n",
      " 22   zip_code                        39717 non-null  object \n",
      " 23   addr_state                      39717 non-null  object \n",
      " 24   dti                             39717 non-null  float64\n",
      " 25   delinq_2yrs                     39717 non-null  int64  \n",
      " 26   earliest_cr_line                39717 non-null  object \n",
      " 27   inq_last_6mths                  39717 non-null  int64  \n",
      " 28   mths_since_last_delinq          14035 non-null  float64\n",
      " 29   mths_since_last_record          2786 non-null   float64\n",
      " 30   open_acc                        39717 non-null  int64  \n",
      " 31   pub_rec                         39717 non-null  int64  \n",
      " 32   revol_bal                       39717 non-null  int64  \n",
      " 33   revol_util                      39667 non-null  object \n",
      " 34   total_acc                       39717 non-null  int64  \n",
      " 35   initial_list_status             39717 non-null  object \n",
      " 36   out_prncp                       39717 non-null  float64\n",
      " 37   out_prncp_inv                   39717 non-null  float64\n",
      " 38   total_pymnt                     39717 non-null  float64\n",
      " 39   total_pymnt_inv                 39717 non-null  float64\n",
      " 40   total_rec_prncp                 39717 non-null  float64\n",
      " 41   total_rec_int                   39717 non-null  float64\n",
      " 42   total_rec_late_fee              39717 non-null  float64\n",
      " 43   recoveries                      39717 non-null  float64\n",
      " 44   collection_recovery_fee         39717 non-null  float64\n",
      " 45   last_pymnt_d                    39646 non-null  object \n",
      " 46   last_pymnt_amnt                 39717 non-null  float64\n",
      " 47   next_pymnt_d                    1140 non-null   object \n",
      " 48   last_credit_pull_d              39715 non-null  object \n",
      " 49   collections_12_mths_ex_med      39661 non-null  float64\n",
      " 50   mths_since_last_major_derog     0 non-null      float64\n",
      " 51   policy_code                     39717 non-null  int64  \n",
      " 52   application_type                39717 non-null  object \n",
      " 53   annual_inc_joint                0 non-null      float64\n",
      " 54   dti_joint                       0 non-null      float64\n",
      " 55   verification_status_joint       0 non-null      float64\n",
      " 56   acc_now_delinq                  39717 non-null  int64  \n",
      " 57   tot_coll_amt                    0 non-null      float64\n",
      " 58   tot_cur_bal                     0 non-null      float64\n",
      " 59   open_acc_6m                     0 non-null      float64\n",
      " 60   open_il_6m                      0 non-null      float64\n",
      " 61   open_il_12m                     0 non-null      float64\n",
      " 62   open_il_24m                     0 non-null      float64\n",
      " 63   mths_since_rcnt_il              0 non-null      float64\n",
      " 64   total_bal_il                    0 non-null      float64\n",
      " 65   il_util                         0 non-null      float64\n",
      " 66   open_rv_12m                     0 non-null      float64\n",
      " 67   open_rv_24m                     0 non-null      float64\n",
      " 68   max_bal_bc                      0 non-null      float64\n",
      " 69   all_util                        0 non-null      float64\n",
      " 70   total_rev_hi_lim                0 non-null      float64\n",
      " 71   inq_fi                          0 non-null      float64\n",
      " 72   total_cu_tl                     0 non-null      float64\n",
      " 73   inq_last_12m                    0 non-null      float64\n",
      " 74   acc_open_past_24mths            0 non-null      float64\n",
      " 75   avg_cur_bal                     0 non-null      float64\n",
      " 76   bc_open_to_buy                  0 non-null      float64\n",
      " 77   bc_util                         0 non-null      float64\n",
      " 78   chargeoff_within_12_mths        39661 non-null  float64\n",
      " 79   delinq_amnt                     39717 non-null  int64  \n",
      " 80   mo_sin_old_il_acct              0 non-null      float64\n",
      " 81   mo_sin_old_rev_tl_op            0 non-null      float64\n",
      " 82   mo_sin_rcnt_rev_tl_op           0 non-null      float64\n",
      " 83   mo_sin_rcnt_tl                  0 non-null      float64\n",
      " 84   mort_acc                        0 non-null      float64\n",
      " 85   mths_since_recent_bc            0 non-null      float64\n",
      " 86   mths_since_recent_bc_dlq        0 non-null      float64\n",
      " 87   mths_since_recent_inq           0 non-null      float64\n",
      " 88   mths_since_recent_revol_delinq  0 non-null      float64\n",
      " 89   num_accts_ever_120_pd           0 non-null      float64\n",
      " 90   num_actv_bc_tl                  0 non-null      float64\n",
      " 91   num_actv_rev_tl                 0 non-null      float64\n",
      " 92   num_bc_sats                     0 non-null      float64\n",
      " 93   num_bc_tl                       0 non-null      float64\n",
      " 94   num_il_tl                       0 non-null      float64\n",
      " 95   num_op_rev_tl                   0 non-null      float64\n",
      " 96   num_rev_accts                   0 non-null      float64\n",
      " 97   num_rev_tl_bal_gt_0             0 non-null      float64\n",
      " 98   num_sats                        0 non-null      float64\n",
      " 99   num_tl_120dpd_2m                0 non-null      float64\n",
      " 100  num_tl_30dpd                    0 non-null      float64\n",
      " 101  num_tl_90g_dpd_24m              0 non-null      float64\n",
      " 102  num_tl_op_past_12m              0 non-null      float64\n",
      " 103  pct_tl_nvr_dlq                  0 non-null      float64\n",
      " 104  percent_bc_gt_75                0 non-null      float64\n",
      " 105  pub_rec_bankruptcies            39020 non-null  float64\n",
      " 106  tax_liens                       39678 non-null  float64\n",
      " 107  tot_hi_cred_lim                 0 non-null      float64\n",
      " 108  total_bal_ex_mort               0 non-null      float64\n",
      " 109  total_bc_limit                  0 non-null      float64\n",
      " 110  total_il_high_credit_limit      0 non-null      float64\n",
      "dtypes: float64(74), int64(13), object(24)\n",
      "memory usage: 33.6+ MB\n"
     ]
    }
   ],
   "source": [
    "\n",
    "\n",
    "df.info(verbose=True, null_counts=True)\n"
   ]
  },
  {
   "cell_type": "code",
   "execution_count": 5,
   "id": "d8f70e8d",
   "metadata": {
    "execution": {
     "iopub.execute_input": "2022-08-03T18:50:48.463907Z",
     "iopub.status.busy": "2022-08-03T18:50:48.463244Z",
     "iopub.status.idle": "2022-08-03T18:50:48.472394Z",
     "shell.execute_reply": "2022-08-03T18:50:48.471228Z"
    },
    "papermill": {
     "duration": 0.023698,
     "end_time": "2022-08-03T18:50:48.474584",
     "exception": false,
     "start_time": "2022-08-03T18:50:48.450886",
     "status": "completed"
    },
    "tags": []
   },
   "outputs": [
    {
     "data": {
      "text/plain": [
       "(39717, 111)"
      ]
     },
     "execution_count": 5,
     "metadata": {},
     "output_type": "execute_result"
    }
   ],
   "source": [
    "df.shape"
   ]
  },
  {
   "cell_type": "code",
   "execution_count": 6,
   "id": "07400ced",
   "metadata": {
    "execution": {
     "iopub.execute_input": "2022-08-03T18:50:48.499742Z",
     "iopub.status.busy": "2022-08-03T18:50:48.498481Z",
     "iopub.status.idle": "2022-08-03T18:50:48.583238Z",
     "shell.execute_reply": "2022-08-03T18:50:48.582075Z"
    },
    "papermill": {
     "duration": 0.100468,
     "end_time": "2022-08-03T18:50:48.586321",
     "exception": false,
     "start_time": "2022-08-03T18:50:48.485853",
     "status": "completed"
    },
    "tags": []
   },
   "outputs": [
    {
     "data": {
      "text/plain": [
       "(39717, 57)"
      ]
     },
     "execution_count": 6,
     "metadata": {},
     "output_type": "execute_result"
    }
   ],
   "source": [
    "# Remove all null columns\n",
    "df.dropna(axis=1, how='all', inplace=True)\n",
    "df.shape"
   ]
  },
  {
   "cell_type": "code",
   "execution_count": 7,
   "id": "0b8c06e3",
   "metadata": {
    "execution": {
     "iopub.execute_input": "2022-08-03T18:50:48.610620Z",
     "iopub.status.busy": "2022-08-03T18:50:48.610222Z",
     "iopub.status.idle": "2022-08-03T18:50:48.788215Z",
     "shell.execute_reply": "2022-08-03T18:50:48.786989Z"
    },
    "papermill": {
     "duration": 0.193012,
     "end_time": "2022-08-03T18:50:48.790940",
     "exception": false,
     "start_time": "2022-08-03T18:50:48.597928",
     "status": "completed"
    },
    "tags": []
   },
   "outputs": [
    {
     "data": {
      "text/plain": [
       "(39717, 51)"
      ]
     },
     "execution_count": 7,
     "metadata": {},
     "output_type": "execute_result"
    }
   ],
   "source": [
    "# Remove columns having only one unique value. This method assumes standard deviation is zero\n",
    "df.drop(df.std()[(df.std() == 0)].index, axis=1, inplace=True)\n",
    "df.shape"
   ]
  },
  {
   "cell_type": "code",
   "execution_count": 8,
   "id": "71d1aed5",
   "metadata": {
    "execution": {
     "iopub.execute_input": "2022-08-03T18:50:48.815896Z",
     "iopub.status.busy": "2022-08-03T18:50:48.815189Z",
     "iopub.status.idle": "2022-08-03T18:50:48.836940Z",
     "shell.execute_reply": "2022-08-03T18:50:48.835787Z"
    },
    "papermill": {
     "duration": 0.037342,
     "end_time": "2022-08-03T18:50:48.839760",
     "exception": false,
     "start_time": "2022-08-03T18:50:48.802418",
     "status": "completed"
    },
    "tags": []
   },
   "outputs": [],
   "source": [
    "# Remove next_pymnt_d, id, member_id, url, desc\n",
    "df.drop(['next_pymnt_d','id','member_id', 'url', 'desc'], axis=1, inplace=True)"
   ]
  },
  {
   "cell_type": "code",
   "execution_count": 9,
   "id": "f71f6c39",
   "metadata": {
    "execution": {
     "iopub.execute_input": "2022-08-03T18:50:48.866094Z",
     "iopub.status.busy": "2022-08-03T18:50:48.865214Z",
     "iopub.status.idle": "2022-08-03T18:50:48.870551Z",
     "shell.execute_reply": "2022-08-03T18:50:48.869469Z"
    },
    "papermill": {
     "duration": 0.020896,
     "end_time": "2022-08-03T18:50:48.872901",
     "exception": false,
     "start_time": "2022-08-03T18:50:48.852005",
     "status": "completed"
    },
    "tags": []
   },
   "outputs": [],
   "source": [
    "# Clean the percentage columns int_rate and revol_util\n",
    "def clean_percentages(i):\n",
    "    i = i.str.replace('%', '')\n",
    "    i = i.astype('float64')\n",
    "    return i"
   ]
  },
  {
   "cell_type": "code",
   "execution_count": 10,
   "id": "2b5439bb",
   "metadata": {
    "execution": {
     "iopub.execute_input": "2022-08-03T18:50:48.898811Z",
     "iopub.status.busy": "2022-08-03T18:50:48.898339Z",
     "iopub.status.idle": "2022-08-03T18:50:48.964316Z",
     "shell.execute_reply": "2022-08-03T18:50:48.963006Z"
    },
    "papermill": {
     "duration": 0.08357,
     "end_time": "2022-08-03T18:50:48.968528",
     "exception": false,
     "start_time": "2022-08-03T18:50:48.884958",
     "status": "completed"
    },
    "tags": []
   },
   "outputs": [],
   "source": [
    "df['int_rate'] = clean_percentages(df['int_rate'])\n",
    "df['revol_util'] = clean_percentages(df['revol_util'])"
   ]
  },
  {
   "cell_type": "code",
   "execution_count": 11,
   "id": "0ea64fdb",
   "metadata": {
    "execution": {
     "iopub.execute_input": "2022-08-03T18:50:48.996224Z",
     "iopub.status.busy": "2022-08-03T18:50:48.995741Z",
     "iopub.status.idle": "2022-08-03T18:50:49.002807Z",
     "shell.execute_reply": "2022-08-03T18:50:49.001627Z"
    },
    "papermill": {
     "duration": 0.023926,
     "end_time": "2022-08-03T18:50:49.005229",
     "exception": false,
     "start_time": "2022-08-03T18:50:48.981303",
     "status": "completed"
    },
    "tags": []
   },
   "outputs": [],
   "source": [
    "# Use the average to fill the nan values\n",
    "df['revol_util'] = df['revol_util'].fillna(df['revol_util'].mean())\n",
    "# should we use mode instead?"
   ]
  },
  {
   "cell_type": "code",
   "execution_count": 12,
   "id": "88a09c20",
   "metadata": {
    "execution": {
     "iopub.execute_input": "2022-08-03T18:50:49.031159Z",
     "iopub.status.busy": "2022-08-03T18:50:49.030268Z",
     "iopub.status.idle": "2022-08-03T18:50:49.042463Z",
     "shell.execute_reply": "2022-08-03T18:50:49.041490Z"
    },
    "papermill": {
     "duration": 0.027169,
     "end_time": "2022-08-03T18:50:49.044733",
     "exception": false,
     "start_time": "2022-08-03T18:50:49.017564",
     "status": "completed"
    },
    "tags": []
   },
   "outputs": [
    {
     "data": {
      "text/plain": [
       "0.0    37339\n",
       "1.0     1674\n",
       "NaN      697\n",
       "2.0        7\n",
       "Name: pub_rec_bankruptcies, dtype: int64"
      ]
     },
     "execution_count": 12,
     "metadata": {},
     "output_type": "execute_result"
    }
   ],
   "source": [
    "# Replace nan values with mode\n",
    "df['pub_rec_bankruptcies'].value_counts(dropna=False)"
   ]
  },
  {
   "cell_type": "code",
   "execution_count": 13,
   "id": "938c9014",
   "metadata": {
    "execution": {
     "iopub.execute_input": "2022-08-03T18:50:49.072258Z",
     "iopub.status.busy": "2022-08-03T18:50:49.071425Z",
     "iopub.status.idle": "2022-08-03T18:50:49.133123Z",
     "shell.execute_reply": "2022-08-03T18:50:49.131996Z"
    },
    "papermill": {
     "duration": 0.079076,
     "end_time": "2022-08-03T18:50:49.136005",
     "exception": false,
     "start_time": "2022-08-03T18:50:49.056929",
     "status": "completed"
    },
    "tags": []
   },
   "outputs": [
    {
     "data": {
      "text/html": [
       "<div>\n",
       "<style scoped>\n",
       "    .dataframe tbody tr th:only-of-type {\n",
       "        vertical-align: middle;\n",
       "    }\n",
       "\n",
       "    .dataframe tbody tr th {\n",
       "        vertical-align: top;\n",
       "    }\n",
       "\n",
       "    .dataframe thead th {\n",
       "        text-align: right;\n",
       "    }\n",
       "</style>\n",
       "<table border=\"1\" class=\"dataframe\">\n",
       "  <thead>\n",
       "    <tr style=\"text-align: right;\">\n",
       "      <th></th>\n",
       "      <th>loan_amnt</th>\n",
       "      <th>funded_amnt</th>\n",
       "      <th>funded_amnt_inv</th>\n",
       "      <th>int_rate</th>\n",
       "      <th>installment</th>\n",
       "      <th>annual_inc</th>\n",
       "      <th>dti</th>\n",
       "      <th>delinq_2yrs</th>\n",
       "      <th>inq_last_6mths</th>\n",
       "      <th>mths_since_last_delinq</th>\n",
       "      <th>...</th>\n",
       "      <th>out_prncp</th>\n",
       "      <th>out_prncp_inv</th>\n",
       "      <th>total_pymnt</th>\n",
       "      <th>total_pymnt_inv</th>\n",
       "      <th>total_rec_prncp</th>\n",
       "      <th>total_rec_int</th>\n",
       "      <th>total_rec_late_fee</th>\n",
       "      <th>recoveries</th>\n",
       "      <th>collection_recovery_fee</th>\n",
       "      <th>last_pymnt_amnt</th>\n",
       "    </tr>\n",
       "    <tr>\n",
       "      <th>pub_rec_bankruptcies</th>\n",
       "      <th></th>\n",
       "      <th></th>\n",
       "      <th></th>\n",
       "      <th></th>\n",
       "      <th></th>\n",
       "      <th></th>\n",
       "      <th></th>\n",
       "      <th></th>\n",
       "      <th></th>\n",
       "      <th></th>\n",
       "      <th></th>\n",
       "      <th></th>\n",
       "      <th></th>\n",
       "      <th></th>\n",
       "      <th></th>\n",
       "      <th></th>\n",
       "      <th></th>\n",
       "      <th></th>\n",
       "      <th></th>\n",
       "      <th></th>\n",
       "      <th></th>\n",
       "    </tr>\n",
       "  </thead>\n",
       "  <tbody>\n",
       "    <tr>\n",
       "      <th>0.0</th>\n",
       "      <td>11301.622298</td>\n",
       "      <td>11027.154584</td>\n",
       "      <td>10606.266580</td>\n",
       "      <td>11.980606</td>\n",
       "      <td>326.132241</td>\n",
       "      <td>69186.729521</td>\n",
       "      <td>13.351199</td>\n",
       "      <td>0.145264</td>\n",
       "      <td>0.862851</td>\n",
       "      <td>36.963931</td>\n",
       "      <td>...</td>\n",
       "      <td>53.126521</td>\n",
       "      <td>52.904260</td>\n",
       "      <td>12274.237895</td>\n",
       "      <td>11818.645558</td>\n",
       "      <td>9896.948891</td>\n",
       "      <td>2280.254760</td>\n",
       "      <td>1.333720</td>\n",
       "      <td>95.700599</td>\n",
       "      <td>12.372995</td>\n",
       "      <td>2719.846671</td>\n",
       "    </tr>\n",
       "    <tr>\n",
       "      <th>1.0</th>\n",
       "      <td>9905.704898</td>\n",
       "      <td>9634.886499</td>\n",
       "      <td>9080.053971</td>\n",
       "      <td>13.484570</td>\n",
       "      <td>290.273202</td>\n",
       "      <td>63837.143590</td>\n",
       "      <td>13.543076</td>\n",
       "      <td>0.153524</td>\n",
       "      <td>0.953405</td>\n",
       "      <td>39.553655</td>\n",
       "      <td>...</td>\n",
       "      <td>26.331511</td>\n",
       "      <td>25.648722</td>\n",
       "      <td>10285.177721</td>\n",
       "      <td>9709.972987</td>\n",
       "      <td>7991.858638</td>\n",
       "      <td>2211.749194</td>\n",
       "      <td>1.131934</td>\n",
       "      <td>80.438190</td>\n",
       "      <td>8.659830</td>\n",
       "      <td>2237.085974</td>\n",
       "    </tr>\n",
       "    <tr>\n",
       "      <th>2.0</th>\n",
       "      <td>12800.000000</td>\n",
       "      <td>12453.571429</td>\n",
       "      <td>12303.834876</td>\n",
       "      <td>15.971429</td>\n",
       "      <td>373.270000</td>\n",
       "      <td>77100.000000</td>\n",
       "      <td>13.010000</td>\n",
       "      <td>0.142857</td>\n",
       "      <td>0.428571</td>\n",
       "      <td>39.000000</td>\n",
       "      <td>...</td>\n",
       "      <td>978.267143</td>\n",
       "      <td>976.072857</td>\n",
       "      <td>14281.326910</td>\n",
       "      <td>13919.484286</td>\n",
       "      <td>9482.658571</td>\n",
       "      <td>4777.605714</td>\n",
       "      <td>2.142857</td>\n",
       "      <td>18.918571</td>\n",
       "      <td>0.189186</td>\n",
       "      <td>485.282857</td>\n",
       "    </tr>\n",
       "    <tr>\n",
       "      <th>NaN</th>\n",
       "      <td>9956.420373</td>\n",
       "      <td>9829.878049</td>\n",
       "      <td>2355.741259</td>\n",
       "      <td>10.640230</td>\n",
       "      <td>322.301119</td>\n",
       "      <td>69544.443271</td>\n",
       "      <td>10.838465</td>\n",
       "      <td>0.196557</td>\n",
       "      <td>1.011478</td>\n",
       "      <td>12.955137</td>\n",
       "      <td>...</td>\n",
       "      <td>0.000000</td>\n",
       "      <td>0.000000</td>\n",
       "      <td>10156.769530</td>\n",
       "      <td>2531.024175</td>\n",
       "      <td>8573.185352</td>\n",
       "      <td>1474.270230</td>\n",
       "      <td>3.479541</td>\n",
       "      <td>105.834471</td>\n",
       "      <td>23.300418</td>\n",
       "      <td>1564.282554</td>\n",
       "    </tr>\n",
       "  </tbody>\n",
       "</table>\n",
       "<p>4 rows × 26 columns</p>\n",
       "</div>"
      ],
      "text/plain": [
       "                         loan_amnt   funded_amnt  funded_amnt_inv   int_rate  \\\n",
       "pub_rec_bankruptcies                                                           \n",
       "0.0                   11301.622298  11027.154584     10606.266580  11.980606   \n",
       "1.0                    9905.704898   9634.886499      9080.053971  13.484570   \n",
       "2.0                   12800.000000  12453.571429     12303.834876  15.971429   \n",
       "NaN                    9956.420373   9829.878049      2355.741259  10.640230   \n",
       "\n",
       "                      installment    annual_inc        dti  delinq_2yrs  \\\n",
       "pub_rec_bankruptcies                                                      \n",
       "0.0                    326.132241  69186.729521  13.351199     0.145264   \n",
       "1.0                    290.273202  63837.143590  13.543076     0.153524   \n",
       "2.0                    373.270000  77100.000000  13.010000     0.142857   \n",
       "NaN                    322.301119  69544.443271  10.838465     0.196557   \n",
       "\n",
       "                      inq_last_6mths  mths_since_last_delinq  ...   out_prncp  \\\n",
       "pub_rec_bankruptcies                                          ...               \n",
       "0.0                         0.862851               36.963931  ...   53.126521   \n",
       "1.0                         0.953405               39.553655  ...   26.331511   \n",
       "2.0                         0.428571               39.000000  ...  978.267143   \n",
       "NaN                         1.011478               12.955137  ...    0.000000   \n",
       "\n",
       "                      out_prncp_inv   total_pymnt  total_pymnt_inv  \\\n",
       "pub_rec_bankruptcies                                                 \n",
       "0.0                       52.904260  12274.237895     11818.645558   \n",
       "1.0                       25.648722  10285.177721      9709.972987   \n",
       "2.0                      976.072857  14281.326910     13919.484286   \n",
       "NaN                        0.000000  10156.769530      2531.024175   \n",
       "\n",
       "                      total_rec_prncp  total_rec_int  total_rec_late_fee  \\\n",
       "pub_rec_bankruptcies                                                       \n",
       "0.0                       9896.948891    2280.254760            1.333720   \n",
       "1.0                       7991.858638    2211.749194            1.131934   \n",
       "2.0                       9482.658571    4777.605714            2.142857   \n",
       "NaN                       8573.185352    1474.270230            3.479541   \n",
       "\n",
       "                      recoveries  collection_recovery_fee  last_pymnt_amnt  \n",
       "pub_rec_bankruptcies                                                        \n",
       "0.0                    95.700599                12.372995      2719.846671  \n",
       "1.0                    80.438190                 8.659830      2237.085974  \n",
       "2.0                    18.918571                 0.189186       485.282857  \n",
       "NaN                   105.834471                23.300418      1564.282554  \n",
       "\n",
       "[4 rows x 26 columns]"
      ]
     },
     "execution_count": 13,
     "metadata": {},
     "output_type": "execute_result"
    }
   ],
   "source": [
    "df.groupby('pub_rec_bankruptcies', dropna=False).mean()"
   ]
  },
  {
   "cell_type": "code",
   "execution_count": 14,
   "id": "44a15513",
   "metadata": {
    "execution": {
     "iopub.execute_input": "2022-08-03T18:50:49.161881Z",
     "iopub.status.busy": "2022-08-03T18:50:49.161106Z",
     "iopub.status.idle": "2022-08-03T18:50:49.169526Z",
     "shell.execute_reply": "2022-08-03T18:50:49.168210Z"
    },
    "papermill": {
     "duration": 0.023885,
     "end_time": "2022-08-03T18:50:49.171975",
     "exception": false,
     "start_time": "2022-08-03T18:50:49.148090",
     "status": "completed"
    },
    "tags": []
   },
   "outputs": [],
   "source": [
    "df['pub_rec_bankruptcies'].fillna(df['pub_rec_bankruptcies'].mode()[0], inplace=True)"
   ]
  },
  {
   "cell_type": "code",
   "execution_count": 15,
   "id": "3140f0f4",
   "metadata": {
    "execution": {
     "iopub.execute_input": "2022-08-03T18:50:49.197374Z",
     "iopub.status.busy": "2022-08-03T18:50:49.196862Z",
     "iopub.status.idle": "2022-08-03T18:50:49.208715Z",
     "shell.execute_reply": "2022-08-03T18:50:49.207816Z"
    },
    "papermill": {
     "duration": 0.027554,
     "end_time": "2022-08-03T18:50:49.211385",
     "exception": false,
     "start_time": "2022-08-03T18:50:49.183831",
     "status": "completed"
    },
    "tags": []
   },
   "outputs": [
    {
     "data": {
      "text/plain": [
       "10+ years    8879\n",
       "< 1 year     4583\n",
       "2 years      4388\n",
       "3 years      4095\n",
       "4 years      3436\n",
       "5 years      3282\n",
       "1 year       3240\n",
       "6 years      2229\n",
       "7 years      1773\n",
       "8 years      1479\n",
       "9 years      1258\n",
       "NaN          1075\n",
       "Name: emp_length, dtype: int64"
      ]
     },
     "execution_count": 15,
     "metadata": {},
     "output_type": "execute_result"
    }
   ],
   "source": [
    "# We'll consider 0-1 as 0 years, 10+ as 10 years\n",
    "df['emp_length'].value_counts(dropna=False)"
   ]
  },
  {
   "cell_type": "code",
   "execution_count": 16,
   "id": "8c0143aa",
   "metadata": {
    "execution": {
     "iopub.execute_input": "2022-08-03T18:50:49.239280Z",
     "iopub.status.busy": "2022-08-03T18:50:49.238674Z",
     "iopub.status.idle": "2022-08-03T18:50:49.245477Z",
     "shell.execute_reply": "2022-08-03T18:50:49.244635Z"
    },
    "papermill": {
     "duration": 0.022963,
     "end_time": "2022-08-03T18:50:49.247601",
     "exception": false,
     "start_time": "2022-08-03T18:50:49.224638",
     "status": "completed"
    },
    "tags": []
   },
   "outputs": [],
   "source": [
    "# Function to clean emp_length\n",
    "def clean_emp(i):\n",
    "    i = i.str.replace('< 1 year','0')\n",
    "    i = i.fillna('0')\n",
    "    i = i.str.replace(' ','')\n",
    "    i = i.str.replace('years','')\n",
    "    i = i.str.replace('year','')\n",
    "    i = i.str.replace('+','')\n",
    "    i = i.astype('int64')\n",
    "    return i"
   ]
  },
  {
   "cell_type": "code",
   "execution_count": 17,
   "id": "e36e6b23",
   "metadata": {
    "execution": {
     "iopub.execute_input": "2022-08-03T18:50:49.275645Z",
     "iopub.status.busy": "2022-08-03T18:50:49.274991Z",
     "iopub.status.idle": "2022-08-03T18:50:49.403208Z",
     "shell.execute_reply": "2022-08-03T18:50:49.402197Z"
    },
    "papermill": {
     "duration": 0.145501,
     "end_time": "2022-08-03T18:50:49.406275",
     "exception": false,
     "start_time": "2022-08-03T18:50:49.260774",
     "status": "completed"
    },
    "tags": []
   },
   "outputs": [],
   "source": [
    "df['emp_length'] = clean_emp(df['emp_length'])"
   ]
  },
  {
   "cell_type": "code",
   "execution_count": 18,
   "id": "0a4ca48b",
   "metadata": {
    "execution": {
     "iopub.execute_input": "2022-08-03T18:50:49.433318Z",
     "iopub.status.busy": "2022-08-03T18:50:49.432904Z",
     "iopub.status.idle": "2022-08-03T18:50:49.442157Z",
     "shell.execute_reply": "2022-08-03T18:50:49.440971Z"
    },
    "papermill": {
     "duration": 0.025414,
     "end_time": "2022-08-03T18:50:49.444598",
     "exception": false,
     "start_time": "2022-08-03T18:50:49.419184",
     "status": "completed"
    },
    "tags": []
   },
   "outputs": [
    {
     "data": {
      "text/plain": [
       "10    8879\n",
       "0     5658\n",
       "2     4388\n",
       "3     4095\n",
       "4     3436\n",
       "5     3282\n",
       "1     3240\n",
       "6     2229\n",
       "7     1773\n",
       "8     1479\n",
       "9     1258\n",
       "Name: emp_length, dtype: int64"
      ]
     },
     "execution_count": 18,
     "metadata": {},
     "output_type": "execute_result"
    }
   ],
   "source": [
    "df['emp_length'].value_counts()"
   ]
  },
  {
   "cell_type": "code",
   "execution_count": 19,
   "id": "68891887",
   "metadata": {
    "execution": {
     "iopub.execute_input": "2022-08-03T18:50:49.479697Z",
     "iopub.status.busy": "2022-08-03T18:50:49.479262Z",
     "iopub.status.idle": "2022-08-03T18:50:49.490119Z",
     "shell.execute_reply": "2022-08-03T18:50:49.488928Z"
    },
    "papermill": {
     "duration": 0.026953,
     "end_time": "2022-08-03T18:50:49.492643",
     "exception": false,
     "start_time": "2022-08-03T18:50:49.465690",
     "status": "completed"
    },
    "tags": []
   },
   "outputs": [
    {
     "data": {
      "text/plain": [
       "NaN      25682\n",
       "0.0        443\n",
       "15.0       252\n",
       "30.0       247\n",
       "23.0       247\n",
       "         ...  \n",
       "89.0         1\n",
       "107.0        1\n",
       "85.0         1\n",
       "97.0         1\n",
       "95.0         1\n",
       "Name: mths_since_last_delinq, Length: 96, dtype: int64"
      ]
     },
     "execution_count": 19,
     "metadata": {},
     "output_type": "execute_result"
    }
   ],
   "source": [
    "# Remove this column as most of the values are missing\n",
    "df['mths_since_last_delinq'].value_counts(dropna=False)"
   ]
  },
  {
   "cell_type": "code",
   "execution_count": 20,
   "id": "2855aaf6",
   "metadata": {
    "execution": {
     "iopub.execute_input": "2022-08-03T18:50:49.520543Z",
     "iopub.status.busy": "2022-08-03T18:50:49.520088Z",
     "iopub.status.idle": "2022-08-03T18:50:49.539214Z",
     "shell.execute_reply": "2022-08-03T18:50:49.538238Z"
    },
    "papermill": {
     "duration": 0.036319,
     "end_time": "2022-08-03T18:50:49.541939",
     "exception": false,
     "start_time": "2022-08-03T18:50:49.505620",
     "status": "completed"
    },
    "tags": []
   },
   "outputs": [],
   "source": [
    "df.drop('mths_since_last_delinq', axis=1, inplace=True)"
   ]
  },
  {
   "cell_type": "code",
   "execution_count": 21,
   "id": "36dabeb8",
   "metadata": {
    "execution": {
     "iopub.execute_input": "2022-08-03T18:50:49.569643Z",
     "iopub.status.busy": "2022-08-03T18:50:49.569188Z",
     "iopub.status.idle": "2022-08-03T18:50:49.599380Z",
     "shell.execute_reply": "2022-08-03T18:50:49.598191Z"
    },
    "papermill": {
     "duration": 0.046879,
     "end_time": "2022-08-03T18:50:49.602071",
     "exception": false,
     "start_time": "2022-08-03T18:50:49.555192",
     "status": "completed"
    },
    "tags": []
   },
   "outputs": [
    {
     "data": {
      "text/plain": [
       "NaN                                2459\n",
       "US Army                             134\n",
       "Bank of America                     109\n",
       "IBM                                  66\n",
       "AT&T                                 59\n",
       "                                   ... \n",
       "AMEC                                  1\n",
       "lee county sheriff                    1\n",
       "Bacon County Board of Education       1\n",
       "Hotpads                               1\n",
       "Evergreen Center                      1\n",
       "Name: emp_title, Length: 28821, dtype: int64"
      ]
     },
     "execution_count": 21,
     "metadata": {},
     "output_type": "execute_result"
    }
   ],
   "source": [
    "# Change nan values to other\n",
    "df['emp_title'].value_counts(dropna=False)"
   ]
  },
  {
   "cell_type": "code",
   "execution_count": 22,
   "id": "ea8d3776",
   "metadata": {
    "execution": {
     "iopub.execute_input": "2022-08-03T18:50:49.630499Z",
     "iopub.status.busy": "2022-08-03T18:50:49.629643Z",
     "iopub.status.idle": "2022-08-03T18:50:49.639045Z",
     "shell.execute_reply": "2022-08-03T18:50:49.637555Z"
    },
    "papermill": {
     "duration": 0.026247,
     "end_time": "2022-08-03T18:50:49.641630",
     "exception": false,
     "start_time": "2022-08-03T18:50:49.615383",
     "status": "completed"
    },
    "tags": []
   },
   "outputs": [],
   "source": [
    "df['emp_title'].fillna('Other', inplace=True)"
   ]
  },
  {
   "cell_type": "code",
   "execution_count": 23,
   "id": "a09f6d92",
   "metadata": {
    "execution": {
     "iopub.execute_input": "2022-08-03T18:50:49.669342Z",
     "iopub.status.busy": "2022-08-03T18:50:49.668433Z",
     "iopub.status.idle": "2022-08-03T18:50:49.695295Z",
     "shell.execute_reply": "2022-08-03T18:50:49.694120Z"
    },
    "papermill": {
     "duration": 0.043387,
     "end_time": "2022-08-03T18:50:49.697989",
     "exception": false,
     "start_time": "2022-08-03T18:50:49.654602",
     "status": "completed"
    },
    "tags": []
   },
   "outputs": [
    {
     "data": {
      "text/plain": [
       "Debt Consolidation                  2184\n",
       "Debt Consolidation Loan             1729\n",
       "Personal Loan                        659\n",
       "Consolidation                        517\n",
       "debt consolidation                   505\n",
       "                                    ... \n",
       "your rate is better than my rate       1\n",
       "Concession Trailer                     1\n",
       "gregs                                  1\n",
       "EZover                                 1\n",
       "JAL Loan                               1\n",
       "Name: title, Length: 19615, dtype: int64"
      ]
     },
     "execution_count": 23,
     "metadata": {},
     "output_type": "execute_result"
    }
   ],
   "source": [
    "# Change the 11 nan values to the mode of the column\n",
    "df['title'].value_counts()"
   ]
  },
  {
   "cell_type": "code",
   "execution_count": 24,
   "id": "15dd3337",
   "metadata": {
    "execution": {
     "iopub.execute_input": "2022-08-03T18:50:49.725784Z",
     "iopub.status.busy": "2022-08-03T18:50:49.725020Z",
     "iopub.status.idle": "2022-08-03T18:50:49.743424Z",
     "shell.execute_reply": "2022-08-03T18:50:49.742302Z"
    },
    "papermill": {
     "duration": 0.034763,
     "end_time": "2022-08-03T18:50:49.745699",
     "exception": false,
     "start_time": "2022-08-03T18:50:49.710936",
     "status": "completed"
    },
    "tags": []
   },
   "outputs": [],
   "source": [
    "df['title'].fillna(df['title'].mode()[0], inplace=True)"
   ]
  },
  {
   "cell_type": "code",
   "execution_count": 25,
   "id": "d9b2e92b",
   "metadata": {
    "execution": {
     "iopub.execute_input": "2022-08-03T18:50:49.771610Z",
     "iopub.status.busy": "2022-08-03T18:50:49.771143Z",
     "iopub.status.idle": "2022-08-03T18:50:49.784311Z",
     "shell.execute_reply": "2022-08-03T18:50:49.783012Z"
    },
    "papermill": {
     "duration": 0.028999,
     "end_time": "2022-08-03T18:50:49.786883",
     "exception": false,
     "start_time": "2022-08-03T18:50:49.757884",
     "status": "completed"
    },
    "tags": []
   },
   "outputs": [
    {
     "data": {
      "text/plain": [
       " 36 months    29096\n",
       " 60 months    10621\n",
       "Name: term, dtype: int64"
      ]
     },
     "execution_count": 25,
     "metadata": {},
     "output_type": "execute_result"
    }
   ],
   "source": [
    "# Remove ' months' and convert into year\n",
    "df['term'].value_counts()"
   ]
  },
  {
   "cell_type": "code",
   "execution_count": 26,
   "id": "c3ae516b",
   "metadata": {
    "execution": {
     "iopub.execute_input": "2022-08-03T18:50:49.817087Z",
     "iopub.status.busy": "2022-08-03T18:50:49.816623Z",
     "iopub.status.idle": "2022-08-03T18:50:49.821663Z",
     "shell.execute_reply": "2022-08-03T18:50:49.820873Z"
    },
    "papermill": {
     "duration": 0.022713,
     "end_time": "2022-08-03T18:50:49.824006",
     "exception": false,
     "start_time": "2022-08-03T18:50:49.801293",
     "status": "completed"
    },
    "tags": []
   },
   "outputs": [],
   "source": [
    "# Function to clean the term column\n",
    "def clean_term(i):\n",
    "    i = i.str.replace(' months','').astype('int64')\n",
    "    i = i/12\n",
    "    i = i.astype('int64')\n",
    "    return i"
   ]
  },
  {
   "cell_type": "code",
   "execution_count": 27,
   "id": "3d30f61e",
   "metadata": {
    "execution": {
     "iopub.execute_input": "2022-08-03T18:50:49.852039Z",
     "iopub.status.busy": "2022-08-03T18:50:49.851539Z",
     "iopub.status.idle": "2022-08-03T18:50:49.898433Z",
     "shell.execute_reply": "2022-08-03T18:50:49.897357Z"
    },
    "papermill": {
     "duration": 0.064279,
     "end_time": "2022-08-03T18:50:49.901362",
     "exception": false,
     "start_time": "2022-08-03T18:50:49.837083",
     "status": "completed"
    },
    "tags": []
   },
   "outputs": [],
   "source": [
    "df['term'] = clean_term(df['term'])"
   ]
  },
  {
   "cell_type": "code",
   "execution_count": 28,
   "id": "931e01f8",
   "metadata": {
    "execution": {
     "iopub.execute_input": "2022-08-03T18:50:49.927890Z",
     "iopub.status.busy": "2022-08-03T18:50:49.927486Z",
     "iopub.status.idle": "2022-08-03T18:50:49.946541Z",
     "shell.execute_reply": "2022-08-03T18:50:49.945362Z"
    },
    "papermill": {
     "duration": 0.035232,
     "end_time": "2022-08-03T18:50:49.948981",
     "exception": false,
     "start_time": "2022-08-03T18:50:49.913749",
     "status": "completed"
    },
    "tags": []
   },
   "outputs": [],
   "source": [
    "# Remove mths_since_last_record since most of the values are missing\n",
    "df.drop('mths_since_last_record', axis=1, inplace=True)"
   ]
  },
  {
   "cell_type": "code",
   "execution_count": 29,
   "id": "89d3cfaf",
   "metadata": {
    "execution": {
     "iopub.execute_input": "2022-08-03T18:50:49.975943Z",
     "iopub.status.busy": "2022-08-03T18:50:49.974945Z",
     "iopub.status.idle": "2022-08-03T18:50:49.980886Z",
     "shell.execute_reply": "2022-08-03T18:50:49.980030Z"
    },
    "papermill": {
     "duration": 0.021439,
     "end_time": "2022-08-03T18:50:49.983122",
     "exception": false,
     "start_time": "2022-08-03T18:50:49.961683",
     "status": "completed"
    },
    "tags": []
   },
   "outputs": [],
   "source": [
    "# Function to clean date objects\n",
    "def clean_date(i):\n",
    "    i = i.str.replace('-', ' ')\n",
    "    i = i.str[:4]+'20'+i.str[4:]\n",
    "    i = pd.to_datetime(i).dt.to_period('M')\n",
    "    return(i)"
   ]
  },
  {
   "cell_type": "code",
   "execution_count": 30,
   "id": "5a3b96bb",
   "metadata": {
    "execution": {
     "iopub.execute_input": "2022-08-03T18:50:50.012666Z",
     "iopub.status.busy": "2022-08-03T18:50:50.012258Z",
     "iopub.status.idle": "2022-08-03T18:50:50.099193Z",
     "shell.execute_reply": "2022-08-03T18:50:50.097832Z"
    },
    "papermill": {
     "duration": 0.106029,
     "end_time": "2022-08-03T18:50:50.103360",
     "exception": false,
     "start_time": "2022-08-03T18:50:49.997331",
     "status": "completed"
    },
    "tags": []
   },
   "outputs": [],
   "source": [
    "# Change issue_d to datetime\n",
    "df['issue_d'] = clean_date(df['issue_d'])"
   ]
  },
  {
   "cell_type": "code",
   "execution_count": 31,
   "id": "8081b0c2",
   "metadata": {
    "execution": {
     "iopub.execute_input": "2022-08-03T18:50:50.135287Z",
     "iopub.status.busy": "2022-08-03T18:50:50.134517Z",
     "iopub.status.idle": "2022-08-03T18:50:50.220023Z",
     "shell.execute_reply": "2022-08-03T18:50:50.219199Z"
    },
    "papermill": {
     "duration": 0.103684,
     "end_time": "2022-08-03T18:50:50.222576",
     "exception": false,
     "start_time": "2022-08-03T18:50:50.118892",
     "status": "completed"
    },
    "tags": []
   },
   "outputs": [],
   "source": [
    "df['last_credit_pull_d'] = clean_date(df['last_credit_pull_d'])"
   ]
  },
  {
   "cell_type": "code",
   "execution_count": 32,
   "id": "f9669e22",
   "metadata": {
    "execution": {
     "iopub.execute_input": "2022-08-03T18:50:50.249554Z",
     "iopub.status.busy": "2022-08-03T18:50:50.248552Z",
     "iopub.status.idle": "2022-08-03T18:50:50.287375Z",
     "shell.execute_reply": "2022-08-03T18:50:50.286021Z"
    },
    "papermill": {
     "duration": 0.055361,
     "end_time": "2022-08-03T18:50:50.290168",
     "exception": false,
     "start_time": "2022-08-03T18:50:50.234807",
     "status": "completed"
    },
    "tags": []
   },
   "outputs": [
    {
     "data": {
      "text/html": [
       "<div>\n",
       "<style scoped>\n",
       "    .dataframe tbody tr th:only-of-type {\n",
       "        vertical-align: middle;\n",
       "    }\n",
       "\n",
       "    .dataframe tbody tr th {\n",
       "        vertical-align: top;\n",
       "    }\n",
       "\n",
       "    .dataframe thead th {\n",
       "        text-align: right;\n",
       "    }\n",
       "</style>\n",
       "<table border=\"1\" class=\"dataframe\">\n",
       "  <thead>\n",
       "    <tr style=\"text-align: right;\">\n",
       "      <th></th>\n",
       "      <th>loan_amnt</th>\n",
       "      <th>funded_amnt</th>\n",
       "      <th>funded_amnt_inv</th>\n",
       "      <th>term</th>\n",
       "      <th>int_rate</th>\n",
       "      <th>installment</th>\n",
       "      <th>grade</th>\n",
       "      <th>sub_grade</th>\n",
       "      <th>emp_title</th>\n",
       "      <th>emp_length</th>\n",
       "      <th>...</th>\n",
       "      <th>total_rec_prncp</th>\n",
       "      <th>total_rec_int</th>\n",
       "      <th>total_rec_late_fee</th>\n",
       "      <th>recoveries</th>\n",
       "      <th>collection_recovery_fee</th>\n",
       "      <th>last_pymnt_d</th>\n",
       "      <th>last_pymnt_amnt</th>\n",
       "      <th>last_credit_pull_d</th>\n",
       "      <th>application_type</th>\n",
       "      <th>pub_rec_bankruptcies</th>\n",
       "    </tr>\n",
       "  </thead>\n",
       "  <tbody>\n",
       "    <tr>\n",
       "      <th>26025</th>\n",
       "      <td>5000</td>\n",
       "      <td>5000</td>\n",
       "      <td>5000.0</td>\n",
       "      <td>3</td>\n",
       "      <td>11.12</td>\n",
       "      <td>163.98</td>\n",
       "      <td>B</td>\n",
       "      <td>B3</td>\n",
       "      <td>Other</td>\n",
       "      <td>5</td>\n",
       "      <td>...</td>\n",
       "      <td>2553.55</td>\n",
       "      <td>702.45</td>\n",
       "      <td>0.0</td>\n",
       "      <td>106.96</td>\n",
       "      <td>1.34</td>\n",
       "      <td>Jun-12</td>\n",
       "      <td>163.98</td>\n",
       "      <td>NaT</td>\n",
       "      <td>INDIVIDUAL</td>\n",
       "      <td>0.0</td>\n",
       "    </tr>\n",
       "    <tr>\n",
       "      <th>39476</th>\n",
       "      <td>1000</td>\n",
       "      <td>1000</td>\n",
       "      <td>875.0</td>\n",
       "      <td>3</td>\n",
       "      <td>7.12</td>\n",
       "      <td>30.94</td>\n",
       "      <td>A</td>\n",
       "      <td>A1</td>\n",
       "      <td>Other</td>\n",
       "      <td>0</td>\n",
       "      <td>...</td>\n",
       "      <td>1000.00</td>\n",
       "      <td>110.81</td>\n",
       "      <td>0.0</td>\n",
       "      <td>0.00</td>\n",
       "      <td>0.00</td>\n",
       "      <td>Aug-10</td>\n",
       "      <td>185.80</td>\n",
       "      <td>NaT</td>\n",
       "      <td>INDIVIDUAL</td>\n",
       "      <td>0.0</td>\n",
       "    </tr>\n",
       "  </tbody>\n",
       "</table>\n",
       "<p>2 rows × 44 columns</p>\n",
       "</div>"
      ],
      "text/plain": [
       "       loan_amnt  funded_amnt  funded_amnt_inv  term  int_rate  installment  \\\n",
       "26025       5000         5000           5000.0     3     11.12       163.98   \n",
       "39476       1000         1000            875.0     3      7.12        30.94   \n",
       "\n",
       "      grade sub_grade emp_title  emp_length  ... total_rec_prncp  \\\n",
       "26025     B        B3     Other           5  ...         2553.55   \n",
       "39476     A        A1     Other           0  ...         1000.00   \n",
       "\n",
       "       total_rec_int total_rec_late_fee recoveries collection_recovery_fee  \\\n",
       "26025         702.45                0.0     106.96                    1.34   \n",
       "39476         110.81                0.0       0.00                    0.00   \n",
       "\n",
       "      last_pymnt_d last_pymnt_amnt last_credit_pull_d application_type  \\\n",
       "26025       Jun-12          163.98                NaT       INDIVIDUAL   \n",
       "39476       Aug-10          185.80                NaT       INDIVIDUAL   \n",
       "\n",
       "      pub_rec_bankruptcies  \n",
       "26025                  0.0  \n",
       "39476                  0.0  \n",
       "\n",
       "[2 rows x 44 columns]"
      ]
     },
     "execution_count": 32,
     "metadata": {},
     "output_type": "execute_result"
    }
   ],
   "source": [
    "df[df['last_credit_pull_d'].isna()]"
   ]
  },
  {
   "cell_type": "code",
   "execution_count": 33,
   "id": "a8018b2b",
   "metadata": {
    "execution": {
     "iopub.execute_input": "2022-08-03T18:50:50.319289Z",
     "iopub.status.busy": "2022-08-03T18:50:50.318293Z",
     "iopub.status.idle": "2022-08-03T18:50:50.326223Z",
     "shell.execute_reply": "2022-08-03T18:50:50.325100Z"
    },
    "papermill": {
     "duration": 0.025029,
     "end_time": "2022-08-03T18:50:50.328752",
     "exception": false,
     "start_time": "2022-08-03T18:50:50.303723",
     "status": "completed"
    },
    "tags": []
   },
   "outputs": [],
   "source": [
    "df['last_credit_pull_d'].fillna(df['issue_d']+df['term'], inplace=True)"
   ]
  },
  {
   "cell_type": "code",
   "execution_count": 34,
   "id": "a8412e8f",
   "metadata": {
    "execution": {
     "iopub.execute_input": "2022-08-03T18:50:50.355503Z",
     "iopub.status.busy": "2022-08-03T18:50:50.355117Z",
     "iopub.status.idle": "2022-08-03T18:50:50.432834Z",
     "shell.execute_reply": "2022-08-03T18:50:50.431756Z"
    },
    "papermill": {
     "duration": 0.094367,
     "end_time": "2022-08-03T18:50:50.435600",
     "exception": false,
     "start_time": "2022-08-03T18:50:50.341233",
     "status": "completed"
    },
    "tags": []
   },
   "outputs": [],
   "source": [
    "df['last_pymnt_d'] = clean_date(df['last_pymnt_d'])"
   ]
  },
  {
   "cell_type": "code",
   "execution_count": 35,
   "id": "08267582",
   "metadata": {
    "execution": {
     "iopub.execute_input": "2022-08-03T18:50:50.462307Z",
     "iopub.status.busy": "2022-08-03T18:50:50.461875Z",
     "iopub.status.idle": "2022-08-03T18:50:50.471481Z",
     "shell.execute_reply": "2022-08-03T18:50:50.470234Z"
    },
    "papermill": {
     "duration": 0.026032,
     "end_time": "2022-08-03T18:50:50.474103",
     "exception": false,
     "start_time": "2022-08-03T18:50:50.448071",
     "status": "completed"
    },
    "tags": []
   },
   "outputs": [
    {
     "data": {
      "text/plain": [
       "0        2015-01\n",
       "1        2013-04\n",
       "2        2014-06\n",
       "3        2015-01\n",
       "4        2016-05\n",
       "          ...   \n",
       "39712    2010-07\n",
       "39713    2010-07\n",
       "39714    2008-04\n",
       "39715    2008-01\n",
       "39716    2010-06\n",
       "Name: last_pymnt_d, Length: 39717, dtype: period[M]"
      ]
     },
     "execution_count": 35,
     "metadata": {},
     "output_type": "execute_result"
    }
   ],
   "source": [
    "df['last_pymnt_d']"
   ]
  },
  {
   "cell_type": "code",
   "execution_count": 36,
   "id": "cabc3dc7",
   "metadata": {
    "execution": {
     "iopub.execute_input": "2022-08-03T18:50:50.503145Z",
     "iopub.status.busy": "2022-08-03T18:50:50.502442Z",
     "iopub.status.idle": "2022-08-03T18:50:50.546329Z",
     "shell.execute_reply": "2022-08-03T18:50:50.545213Z"
    },
    "papermill": {
     "duration": 0.061259,
     "end_time": "2022-08-03T18:50:50.548754",
     "exception": false,
     "start_time": "2022-08-03T18:50:50.487495",
     "status": "completed"
    },
    "tags": []
   },
   "outputs": [
    {
     "data": {
      "text/html": [
       "<div>\n",
       "<style scoped>\n",
       "    .dataframe tbody tr th:only-of-type {\n",
       "        vertical-align: middle;\n",
       "    }\n",
       "\n",
       "    .dataframe tbody tr th {\n",
       "        vertical-align: top;\n",
       "    }\n",
       "\n",
       "    .dataframe thead th {\n",
       "        text-align: right;\n",
       "    }\n",
       "</style>\n",
       "<table border=\"1\" class=\"dataframe\">\n",
       "  <thead>\n",
       "    <tr style=\"text-align: right;\">\n",
       "      <th></th>\n",
       "      <th>loan_amnt</th>\n",
       "      <th>funded_amnt</th>\n",
       "      <th>funded_amnt_inv</th>\n",
       "      <th>term</th>\n",
       "      <th>int_rate</th>\n",
       "      <th>installment</th>\n",
       "      <th>grade</th>\n",
       "      <th>sub_grade</th>\n",
       "      <th>emp_title</th>\n",
       "      <th>emp_length</th>\n",
       "      <th>...</th>\n",
       "      <th>total_rec_prncp</th>\n",
       "      <th>total_rec_int</th>\n",
       "      <th>total_rec_late_fee</th>\n",
       "      <th>recoveries</th>\n",
       "      <th>collection_recovery_fee</th>\n",
       "      <th>last_pymnt_d</th>\n",
       "      <th>last_pymnt_amnt</th>\n",
       "      <th>last_credit_pull_d</th>\n",
       "      <th>application_type</th>\n",
       "      <th>pub_rec_bankruptcies</th>\n",
       "    </tr>\n",
       "  </thead>\n",
       "  <tbody>\n",
       "    <tr>\n",
       "      <th>26</th>\n",
       "      <td>15000</td>\n",
       "      <td>15000</td>\n",
       "      <td>8725.0</td>\n",
       "      <td>3</td>\n",
       "      <td>14.27</td>\n",
       "      <td>514.64</td>\n",
       "      <td>C</td>\n",
       "      <td>C2</td>\n",
       "      <td>nyc transit</td>\n",
       "      <td>9</td>\n",
       "      <td>...</td>\n",
       "      <td>0.0</td>\n",
       "      <td>0.0</td>\n",
       "      <td>0.0</td>\n",
       "      <td>0.00</td>\n",
       "      <td>0.0000</td>\n",
       "      <td>NaT</td>\n",
       "      <td>0.0</td>\n",
       "      <td>2016-05</td>\n",
       "      <td>INDIVIDUAL</td>\n",
       "      <td>0.0</td>\n",
       "    </tr>\n",
       "    <tr>\n",
       "      <th>2724</th>\n",
       "      <td>8000</td>\n",
       "      <td>8000</td>\n",
       "      <td>3975.0</td>\n",
       "      <td>3</td>\n",
       "      <td>14.65</td>\n",
       "      <td>275.96</td>\n",
       "      <td>C</td>\n",
       "      <td>C3</td>\n",
       "      <td>Southern Felt</td>\n",
       "      <td>10</td>\n",
       "      <td>...</td>\n",
       "      <td>0.0</td>\n",
       "      <td>0.0</td>\n",
       "      <td>0.0</td>\n",
       "      <td>0.00</td>\n",
       "      <td>0.0000</td>\n",
       "      <td>NaT</td>\n",
       "      <td>0.0</td>\n",
       "      <td>2016-05</td>\n",
       "      <td>INDIVIDUAL</td>\n",
       "      <td>0.0</td>\n",
       "    </tr>\n",
       "    <tr>\n",
       "      <th>3613</th>\n",
       "      <td>6400</td>\n",
       "      <td>6400</td>\n",
       "      <td>6400.0</td>\n",
       "      <td>5</td>\n",
       "      <td>18.25</td>\n",
       "      <td>163.39</td>\n",
       "      <td>D</td>\n",
       "      <td>D5</td>\n",
       "      <td>akrons children hospitial</td>\n",
       "      <td>5</td>\n",
       "      <td>...</td>\n",
       "      <td>0.0</td>\n",
       "      <td>0.0</td>\n",
       "      <td>0.0</td>\n",
       "      <td>366.75</td>\n",
       "      <td>66.0150</td>\n",
       "      <td>NaT</td>\n",
       "      <td>0.0</td>\n",
       "      <td>2012-04</td>\n",
       "      <td>INDIVIDUAL</td>\n",
       "      <td>0.0</td>\n",
       "    </tr>\n",
       "    <tr>\n",
       "      <th>3985</th>\n",
       "      <td>18000</td>\n",
       "      <td>18000</td>\n",
       "      <td>18000.0</td>\n",
       "      <td>5</td>\n",
       "      <td>19.03</td>\n",
       "      <td>467.23</td>\n",
       "      <td>E</td>\n",
       "      <td>E2</td>\n",
       "      <td>ZIMFA INC</td>\n",
       "      <td>4</td>\n",
       "      <td>...</td>\n",
       "      <td>0.0</td>\n",
       "      <td>0.0</td>\n",
       "      <td>0.0</td>\n",
       "      <td>0.00</td>\n",
       "      <td>0.0000</td>\n",
       "      <td>NaT</td>\n",
       "      <td>0.0</td>\n",
       "      <td>2016-04</td>\n",
       "      <td>INDIVIDUAL</td>\n",
       "      <td>0.0</td>\n",
       "    </tr>\n",
       "    <tr>\n",
       "      <th>4206</th>\n",
       "      <td>1800</td>\n",
       "      <td>1800</td>\n",
       "      <td>1800.0</td>\n",
       "      <td>3</td>\n",
       "      <td>8.90</td>\n",
       "      <td>57.16</td>\n",
       "      <td>A</td>\n",
       "      <td>A5</td>\n",
       "      <td>Hospira worldwide</td>\n",
       "      <td>9</td>\n",
       "      <td>...</td>\n",
       "      <td>0.0</td>\n",
       "      <td>0.0</td>\n",
       "      <td>0.0</td>\n",
       "      <td>1800.00</td>\n",
       "      <td>0.0000</td>\n",
       "      <td>NaT</td>\n",
       "      <td>0.0</td>\n",
       "      <td>2016-05</td>\n",
       "      <td>INDIVIDUAL</td>\n",
       "      <td>0.0</td>\n",
       "    </tr>\n",
       "    <tr>\n",
       "      <th>...</th>\n",
       "      <td>...</td>\n",
       "      <td>...</td>\n",
       "      <td>...</td>\n",
       "      <td>...</td>\n",
       "      <td>...</td>\n",
       "      <td>...</td>\n",
       "      <td>...</td>\n",
       "      <td>...</td>\n",
       "      <td>...</td>\n",
       "      <td>...</td>\n",
       "      <td>...</td>\n",
       "      <td>...</td>\n",
       "      <td>...</td>\n",
       "      <td>...</td>\n",
       "      <td>...</td>\n",
       "      <td>...</td>\n",
       "      <td>...</td>\n",
       "      <td>...</td>\n",
       "      <td>...</td>\n",
       "      <td>...</td>\n",
       "      <td>...</td>\n",
       "    </tr>\n",
       "    <tr>\n",
       "      <th>36185</th>\n",
       "      <td>20000</td>\n",
       "      <td>20000</td>\n",
       "      <td>13975.0</td>\n",
       "      <td>3</td>\n",
       "      <td>11.89</td>\n",
       "      <td>663.28</td>\n",
       "      <td>B</td>\n",
       "      <td>B4</td>\n",
       "      <td>US Army</td>\n",
       "      <td>10</td>\n",
       "      <td>...</td>\n",
       "      <td>0.0</td>\n",
       "      <td>0.0</td>\n",
       "      <td>0.0</td>\n",
       "      <td>4493.30</td>\n",
       "      <td>1381.4454</td>\n",
       "      <td>NaT</td>\n",
       "      <td>0.0</td>\n",
       "      <td>2009-12</td>\n",
       "      <td>INDIVIDUAL</td>\n",
       "      <td>0.0</td>\n",
       "    </tr>\n",
       "    <tr>\n",
       "      <th>36206</th>\n",
       "      <td>7800</td>\n",
       "      <td>7800</td>\n",
       "      <td>7725.0</td>\n",
       "      <td>3</td>\n",
       "      <td>10.95</td>\n",
       "      <td>255.17</td>\n",
       "      <td>B</td>\n",
       "      <td>B1</td>\n",
       "      <td>FLACS</td>\n",
       "      <td>0</td>\n",
       "      <td>...</td>\n",
       "      <td>0.0</td>\n",
       "      <td>0.0</td>\n",
       "      <td>0.0</td>\n",
       "      <td>0.00</td>\n",
       "      <td>0.0000</td>\n",
       "      <td>NaT</td>\n",
       "      <td>0.0</td>\n",
       "      <td>2016-05</td>\n",
       "      <td>INDIVIDUAL</td>\n",
       "      <td>0.0</td>\n",
       "    </tr>\n",
       "    <tr>\n",
       "      <th>36209</th>\n",
       "      <td>2000</td>\n",
       "      <td>2000</td>\n",
       "      <td>2000.0</td>\n",
       "      <td>3</td>\n",
       "      <td>16.00</td>\n",
       "      <td>70.32</td>\n",
       "      <td>E</td>\n",
       "      <td>E2</td>\n",
       "      <td>Portland State Uniersity Distance Learning Center</td>\n",
       "      <td>0</td>\n",
       "      <td>...</td>\n",
       "      <td>0.0</td>\n",
       "      <td>0.0</td>\n",
       "      <td>0.0</td>\n",
       "      <td>89.99</td>\n",
       "      <td>0.9000</td>\n",
       "      <td>NaT</td>\n",
       "      <td>0.0</td>\n",
       "      <td>2009-12</td>\n",
       "      <td>INDIVIDUAL</td>\n",
       "      <td>0.0</td>\n",
       "    </tr>\n",
       "    <tr>\n",
       "      <th>36937</th>\n",
       "      <td>25000</td>\n",
       "      <td>25000</td>\n",
       "      <td>11625.0</td>\n",
       "      <td>3</td>\n",
       "      <td>13.79</td>\n",
       "      <td>851.89</td>\n",
       "      <td>C</td>\n",
       "      <td>C5</td>\n",
       "      <td>ARES Corporation</td>\n",
       "      <td>1</td>\n",
       "      <td>...</td>\n",
       "      <td>0.0</td>\n",
       "      <td>0.0</td>\n",
       "      <td>0.0</td>\n",
       "      <td>0.00</td>\n",
       "      <td>0.0000</td>\n",
       "      <td>NaT</td>\n",
       "      <td>0.0</td>\n",
       "      <td>2009-06</td>\n",
       "      <td>INDIVIDUAL</td>\n",
       "      <td>0.0</td>\n",
       "    </tr>\n",
       "    <tr>\n",
       "      <th>37911</th>\n",
       "      <td>5000</td>\n",
       "      <td>5000</td>\n",
       "      <td>4250.0</td>\n",
       "      <td>3</td>\n",
       "      <td>18.21</td>\n",
       "      <td>181.30</td>\n",
       "      <td>F</td>\n",
       "      <td>F4</td>\n",
       "      <td>Godwin Landscape</td>\n",
       "      <td>1</td>\n",
       "      <td>...</td>\n",
       "      <td>0.0</td>\n",
       "      <td>0.0</td>\n",
       "      <td>0.0</td>\n",
       "      <td>224.77</td>\n",
       "      <td>2.2200</td>\n",
       "      <td>NaT</td>\n",
       "      <td>0.0</td>\n",
       "      <td>2009-09</td>\n",
       "      <td>INDIVIDUAL</td>\n",
       "      <td>0.0</td>\n",
       "    </tr>\n",
       "  </tbody>\n",
       "</table>\n",
       "<p>71 rows × 44 columns</p>\n",
       "</div>"
      ],
      "text/plain": [
       "       loan_amnt  funded_amnt  funded_amnt_inv  term  int_rate  installment  \\\n",
       "26         15000        15000           8725.0     3     14.27       514.64   \n",
       "2724        8000         8000           3975.0     3     14.65       275.96   \n",
       "3613        6400         6400           6400.0     5     18.25       163.39   \n",
       "3985       18000        18000          18000.0     5     19.03       467.23   \n",
       "4206        1800         1800           1800.0     3      8.90        57.16   \n",
       "...          ...          ...              ...   ...       ...          ...   \n",
       "36185      20000        20000          13975.0     3     11.89       663.28   \n",
       "36206       7800         7800           7725.0     3     10.95       255.17   \n",
       "36209       2000         2000           2000.0     3     16.00        70.32   \n",
       "36937      25000        25000          11625.0     3     13.79       851.89   \n",
       "37911       5000         5000           4250.0     3     18.21       181.30   \n",
       "\n",
       "      grade sub_grade                                          emp_title  \\\n",
       "26        C        C2                                        nyc transit   \n",
       "2724      C        C3                                      Southern Felt   \n",
       "3613      D        D5                          akrons children hospitial   \n",
       "3985      E        E2                                          ZIMFA INC   \n",
       "4206      A        A5                                  Hospira worldwide   \n",
       "...     ...       ...                                                ...   \n",
       "36185     B        B4                                            US Army   \n",
       "36206     B        B1                                              FLACS   \n",
       "36209     E        E2  Portland State Uniersity Distance Learning Center   \n",
       "36937     C        C5                                   ARES Corporation   \n",
       "37911     F        F4                                   Godwin Landscape   \n",
       "\n",
       "       emp_length  ... total_rec_prncp  total_rec_int total_rec_late_fee  \\\n",
       "26              9  ...             0.0            0.0                0.0   \n",
       "2724           10  ...             0.0            0.0                0.0   \n",
       "3613            5  ...             0.0            0.0                0.0   \n",
       "3985            4  ...             0.0            0.0                0.0   \n",
       "4206            9  ...             0.0            0.0                0.0   \n",
       "...           ...  ...             ...            ...                ...   \n",
       "36185          10  ...             0.0            0.0                0.0   \n",
       "36206           0  ...             0.0            0.0                0.0   \n",
       "36209           0  ...             0.0            0.0                0.0   \n",
       "36937           1  ...             0.0            0.0                0.0   \n",
       "37911           1  ...             0.0            0.0                0.0   \n",
       "\n",
       "      recoveries collection_recovery_fee last_pymnt_d last_pymnt_amnt  \\\n",
       "26          0.00                  0.0000          NaT             0.0   \n",
       "2724        0.00                  0.0000          NaT             0.0   \n",
       "3613      366.75                 66.0150          NaT             0.0   \n",
       "3985        0.00                  0.0000          NaT             0.0   \n",
       "4206     1800.00                  0.0000          NaT             0.0   \n",
       "...          ...                     ...          ...             ...   \n",
       "36185    4493.30               1381.4454          NaT             0.0   \n",
       "36206       0.00                  0.0000          NaT             0.0   \n",
       "36209      89.99                  0.9000          NaT             0.0   \n",
       "36937       0.00                  0.0000          NaT             0.0   \n",
       "37911     224.77                  2.2200          NaT             0.0   \n",
       "\n",
       "      last_credit_pull_d application_type pub_rec_bankruptcies  \n",
       "26               2016-05       INDIVIDUAL                  0.0  \n",
       "2724             2016-05       INDIVIDUAL                  0.0  \n",
       "3613             2012-04       INDIVIDUAL                  0.0  \n",
       "3985             2016-04       INDIVIDUAL                  0.0  \n",
       "4206             2016-05       INDIVIDUAL                  0.0  \n",
       "...                  ...              ...                  ...  \n",
       "36185            2009-12       INDIVIDUAL                  0.0  \n",
       "36206            2016-05       INDIVIDUAL                  0.0  \n",
       "36209            2009-12       INDIVIDUAL                  0.0  \n",
       "36937            2009-06       INDIVIDUAL                  0.0  \n",
       "37911            2009-09       INDIVIDUAL                  0.0  \n",
       "\n",
       "[71 rows x 44 columns]"
      ]
     },
     "execution_count": 36,
     "metadata": {},
     "output_type": "execute_result"
    }
   ],
   "source": [
    "df[df['last_pymnt_d'].isna()]"
   ]
  },
  {
   "cell_type": "code",
   "execution_count": 37,
   "id": "83b0f83b",
   "metadata": {
    "execution": {
     "iopub.execute_input": "2022-08-03T18:50:50.577692Z",
     "iopub.status.busy": "2022-08-03T18:50:50.576519Z",
     "iopub.status.idle": "2022-08-03T18:50:51.014222Z",
     "shell.execute_reply": "2022-08-03T18:50:51.012927Z"
    },
    "papermill": {
     "duration": 0.455083,
     "end_time": "2022-08-03T18:50:51.017028",
     "exception": false,
     "start_time": "2022-08-03T18:50:50.561945",
     "status": "completed"
    },
    "tags": []
   },
   "outputs": [
    {
     "data": {
      "text/plain": [
       "<-36 * MonthEnds>    6214\n",
       "<-37 * MonthEnds>    5589\n",
       "<-31 * MonthEnds>     778\n",
       "<-27 * MonthEnds>     754\n",
       "<-33 * MonthEnds>     752\n",
       "                     ... \n",
       "<-66 * MonthEnds>       1\n",
       "<-63 * MonthEnds>       1\n",
       "<-69 * MonthEnds>       1\n",
       "<-70 * MonthEnds>       1\n",
       "<-65 * MonthEnds>       1\n",
       "Length: 69, dtype: int64"
      ]
     },
     "execution_count": 37,
     "metadata": {},
     "output_type": "execute_result"
    }
   ],
   "source": [
    "(df['issue_d']-df['last_pymnt_d']).value_counts()"
   ]
  },
  {
   "cell_type": "code",
   "execution_count": 38,
   "id": "5ad5273c",
   "metadata": {
    "execution": {
     "iopub.execute_input": "2022-08-03T18:50:51.048815Z",
     "iopub.status.busy": "2022-08-03T18:50:51.048408Z",
     "iopub.status.idle": "2022-08-03T18:50:51.056079Z",
     "shell.execute_reply": "2022-08-03T18:50:51.054857Z"
    },
    "papermill": {
     "duration": 0.026862,
     "end_time": "2022-08-03T18:50:51.058865",
     "exception": false,
     "start_time": "2022-08-03T18:50:51.032003",
     "status": "completed"
    },
    "tags": []
   },
   "outputs": [],
   "source": [
    "df['last_pymnt_d'].fillna(df['issue_d']+df['term'], inplace=True)"
   ]
  },
  {
   "cell_type": "code",
   "execution_count": 39,
   "id": "1e657bdc",
   "metadata": {
    "execution": {
     "iopub.execute_input": "2022-08-03T18:50:51.088967Z",
     "iopub.status.busy": "2022-08-03T18:50:51.088559Z",
     "iopub.status.idle": "2022-08-03T18:50:51.133610Z",
     "shell.execute_reply": "2022-08-03T18:50:51.131339Z"
    },
    "papermill": {
     "duration": 0.063757,
     "end_time": "2022-08-03T18:50:51.136836",
     "exception": false,
     "start_time": "2022-08-03T18:50:51.073079",
     "status": "completed"
    },
    "tags": []
   },
   "outputs": [
    {
     "name": "stdout",
     "output_type": "stream",
     "text": [
      "<class 'pandas.core.frame.DataFrame'>\n",
      "RangeIndex: 39717 entries, 0 to 39716\n",
      "Data columns (total 44 columns):\n",
      " #   Column                   Non-Null Count  Dtype    \n",
      "---  ------                   --------------  -----    \n",
      " 0   loan_amnt                39717 non-null  int64    \n",
      " 1   funded_amnt              39717 non-null  int64    \n",
      " 2   funded_amnt_inv          39717 non-null  float64  \n",
      " 3   term                     39717 non-null  int64    \n",
      " 4   int_rate                 39717 non-null  float64  \n",
      " 5   installment              39717 non-null  float64  \n",
      " 6   grade                    39717 non-null  object   \n",
      " 7   sub_grade                39717 non-null  object   \n",
      " 8   emp_title                39717 non-null  object   \n",
      " 9   emp_length               39717 non-null  int64    \n",
      " 10  home_ownership           39717 non-null  object   \n",
      " 11  annual_inc               39717 non-null  float64  \n",
      " 12  verification_status      39717 non-null  object   \n",
      " 13  issue_d                  39717 non-null  period[M]\n",
      " 14  loan_status              39717 non-null  object   \n",
      " 15  pymnt_plan               39717 non-null  object   \n",
      " 16  purpose                  39717 non-null  object   \n",
      " 17  title                    39717 non-null  object   \n",
      " 18  zip_code                 39717 non-null  object   \n",
      " 19  addr_state               39717 non-null  object   \n",
      " 20  dti                      39717 non-null  float64  \n",
      " 21  delinq_2yrs              39717 non-null  int64    \n",
      " 22  earliest_cr_line         39717 non-null  object   \n",
      " 23  inq_last_6mths           39717 non-null  int64    \n",
      " 24  open_acc                 39717 non-null  int64    \n",
      " 25  pub_rec                  39717 non-null  int64    \n",
      " 26  revol_bal                39717 non-null  int64    \n",
      " 27  revol_util               39717 non-null  float64  \n",
      " 28  total_acc                39717 non-null  int64    \n",
      " 29  initial_list_status      39717 non-null  object   \n",
      " 30  out_prncp                39717 non-null  float64  \n",
      " 31  out_prncp_inv            39717 non-null  float64  \n",
      " 32  total_pymnt              39717 non-null  float64  \n",
      " 33  total_pymnt_inv          39717 non-null  float64  \n",
      " 34  total_rec_prncp          39717 non-null  float64  \n",
      " 35  total_rec_int            39717 non-null  float64  \n",
      " 36  total_rec_late_fee       39717 non-null  float64  \n",
      " 37  recoveries               39717 non-null  float64  \n",
      " 38  collection_recovery_fee  39717 non-null  float64  \n",
      " 39  last_pymnt_d             39717 non-null  period[M]\n",
      " 40  last_pymnt_amnt          39717 non-null  float64  \n",
      " 41  last_credit_pull_d       39717 non-null  period[M]\n",
      " 42  application_type         39717 non-null  object   \n",
      " 43  pub_rec_bankruptcies     39717 non-null  float64  \n",
      "dtypes: float64(17), int64(10), object(14), period[M](3)\n",
      "memory usage: 13.3+ MB\n"
     ]
    }
   ],
   "source": [
    "df.info()"
   ]
  },
  {
   "cell_type": "markdown",
   "id": "12c9bdad",
   "metadata": {
    "papermill": {
     "duration": 0.013786,
     "end_time": "2022-08-03T18:50:51.165706",
     "exception": false,
     "start_time": "2022-08-03T18:50:51.151920",
     "status": "completed"
    },
    "tags": []
   },
   "source": [
    "# Removing Outliers"
   ]
  },
  {
   "cell_type": "code",
   "execution_count": 40,
   "id": "8b69c940",
   "metadata": {
    "execution": {
     "iopub.execute_input": "2022-08-03T18:50:51.195552Z",
     "iopub.status.busy": "2022-08-03T18:50:51.194652Z",
     "iopub.status.idle": "2022-08-03T18:50:51.412831Z",
     "shell.execute_reply": "2022-08-03T18:50:51.411526Z"
    },
    "papermill": {
     "duration": 0.235658,
     "end_time": "2022-08-03T18:50:51.415206",
     "exception": false,
     "start_time": "2022-08-03T18:50:51.179548",
     "status": "completed"
    },
    "tags": []
   },
   "outputs": [
    {
     "data": {
      "text/plain": [
       "0    19300\n",
       "1    10971\n",
       "2     5812\n",
       "3     3048\n",
       "4      326\n",
       "5      146\n",
       "6       64\n",
       "7       35\n",
       "8       15\n",
       "Name: inq_last_6mths, dtype: int64"
      ]
     },
     "execution_count": 40,
     "metadata": {},
     "output_type": "execute_result"
    },
    {
     "data": {
      "image/png": "[encoded data removed]",
      "text/plain": [
       "<Figure size 432x288 with 1 Axes>"
      ]
     },
     "metadata": {
      "needs_background": "light"
     },
     "output_type": "display_data"
    }
   ],
   "source": [
    "sns.boxplot(df.inq_last_6mths)\n",
    "df.inq_last_6mths.value_counts()"
   ]
  },
  {
   "cell_type": "code",
   "execution_count": 41,
   "id": "f2bf6050",
   "metadata": {
    "execution": {
     "iopub.execute_input": "2022-08-03T18:50:51.444664Z",
     "iopub.status.busy": "2022-08-03T18:50:51.444224Z",
     "iopub.status.idle": "2022-08-03T18:50:51.754718Z",
     "shell.execute_reply": "2022-08-03T18:50:51.753836Z"
    },
    "papermill": {
     "duration": 0.328055,
     "end_time": "2022-08-03T18:50:51.756942",
     "exception": false,
     "start_time": "2022-08-03T18:50:51.428887",
     "status": "completed"
    },
    "tags": []
   },
   "outputs": [
    {
     "data": {
      "text/plain": [
       "<AxesSubplot:title={'center':'Without Outliers'}, xlabel='annual_inc'>"
      ]
     },
     "execution_count": 41,
     "metadata": {},
     "output_type": "execute_result"
    },
    {
     "data": {
      "image/png": "[encoded data removed]",
      "text/plain": [
       "<Figure size 1800x360 with 2 Axes>"
      ]
     },
     "metadata": {
      "needs_background": "light"
     },
     "output_type": "display_data"
    }
   ],
   "source": [
    "fig,axes=plt.subplots(1,2,figsize=(25,5))\n",
    "axes[0].set_title('With Outliers')\n",
    "axes[1].set_title('Without Outliers')\n",
    "sns.boxplot(df.annual_inc,ax=axes[0])\n",
    "sns.boxplot(df[df.annual_inc<125000].annual_inc,ax=axes[1])"
   ]
  },
  {
   "cell_type": "code",
   "execution_count": 42,
   "id": "318e138a",
   "metadata": {
    "execution": {
     "iopub.execute_input": "2022-08-03T18:50:51.788749Z",
     "iopub.status.busy": "2022-08-03T18:50:51.787924Z",
     "iopub.status.idle": "2022-08-03T18:50:52.096801Z",
     "shell.execute_reply": "2022-08-03T18:50:52.095650Z"
    },
    "papermill": {
     "duration": 0.32758,
     "end_time": "2022-08-03T18:50:52.099306",
     "exception": false,
     "start_time": "2022-08-03T18:50:51.771726",
     "status": "completed"
    },
    "tags": []
   },
   "outputs": [
    {
     "data": {
      "text/plain": [
       "<AxesSubplot:title={'center':'Without Outliers'}, xlabel='loan_amnt'>"
      ]
     },
     "execution_count": 42,
     "metadata": {},
     "output_type": "execute_result"
    },
    {
     "data": {
      "image/png": "[encoded data removed]",
      "text/plain": [
       "<Figure size 1800x360 with 2 Axes>"
      ]
     },
     "metadata": {
      "needs_background": "light"
     },
     "output_type": "display_data"
    }
   ],
   "source": [
    "fig,axes=plt.subplots(1,2,figsize=(25,5))\n",
    "axes[0].set_title('With Outliers')\n",
    "axes[1].set_title('Without Outliers')\n",
    "sns.boxplot(df.loan_amnt,ax=axes[0])\n",
    "sns.boxplot(df[df.loan_amnt<25000].loan_amnt,ax=axes[1])\n",
    "\n"
   ]
  },
  {
   "cell_type": "code",
   "execution_count": 43,
   "id": "cf1b3e70",
   "metadata": {
    "execution": {
     "iopub.execute_input": "2022-08-03T18:50:52.130767Z",
     "iopub.status.busy": "2022-08-03T18:50:52.129513Z",
     "iopub.status.idle": "2022-08-03T18:50:52.442389Z",
     "shell.execute_reply": "2022-08-03T18:50:52.441220Z"
    },
    "papermill": {
     "duration": 0.331238,
     "end_time": "2022-08-03T18:50:52.445027",
     "exception": false,
     "start_time": "2022-08-03T18:50:52.113789",
     "status": "completed"
    },
    "tags": []
   },
   "outputs": [
    {
     "data": {
      "text/plain": [
       "<AxesSubplot:title={'center':'Without Outliers'}, xlabel='int_rate'>"
      ]
     },
     "execution_count": 43,
     "metadata": {},
     "output_type": "execute_result"
    },
    {
     "data": {
      "image/png": "[encoded data removed]",
      "text/plain": [
       "<Figure size 1800x360 with 2 Axes>"
      ]
     },
     "metadata": {
      "needs_background": "light"
     },
     "output_type": "display_data"
    }
   ],
   "source": [
    "fig,axes=plt.subplots(1,2,figsize=(25,5))\n",
    "axes[0].set_title('With Outliers')\n",
    "axes[1].set_title('Without Outliers')\n",
    "sns.boxplot(df.int_rate,ax=axes[0])\n",
    "sns.boxplot(df[df.int_rate<21.5].int_rate,ax=axes[1])\n"
   ]
  },
  {
   "cell_type": "code",
   "execution_count": 44,
   "id": "668af3c3",
   "metadata": {
    "execution": {
     "iopub.execute_input": "2022-08-03T18:50:52.479443Z",
     "iopub.status.busy": "2022-08-03T18:50:52.478626Z",
     "iopub.status.idle": "2022-08-03T18:50:52.782654Z",
     "shell.execute_reply": "2022-08-03T18:50:52.781432Z"
    },
    "papermill": {
     "duration": 0.324081,
     "end_time": "2022-08-03T18:50:52.785425",
     "exception": false,
     "start_time": "2022-08-03T18:50:52.461344",
     "status": "completed"
    },
    "tags": []
   },
   "outputs": [
    {
     "data": {
      "text/plain": [
       "<AxesSubplot:title={'center':'Without Outliers'}, xlabel='installment'>"
      ]
     },
     "execution_count": 44,
     "metadata": {},
     "output_type": "execute_result"
    },
    {
     "data": {
      "image/png": "[encoded data removed]",
      "text/plain": [
       "<Figure size 1800x360 with 2 Axes>"
      ]
     },
     "metadata": {
      "needs_background": "light"
     },
     "output_type": "display_data"
    }
   ],
   "source": [
    "fig,axes=plt.subplots(1,2,figsize=(25,5))\n",
    "axes[0].set_title('With Outliers')\n",
    "axes[1].set_title('Without Outliers')\n",
    "sns.boxplot(df.installment,ax=axes[0])\n",
    "sns.boxplot(df[df['installment']<720].installment,ax=axes[1])"
   ]
  },
  {
   "cell_type": "code",
   "execution_count": 45,
   "id": "012eeb0c",
   "metadata": {
    "execution": {
     "iopub.execute_input": "2022-08-03T18:50:52.818565Z",
     "iopub.status.busy": "2022-08-03T18:50:52.818113Z",
     "iopub.status.idle": "2022-08-03T18:50:53.121911Z",
     "shell.execute_reply": "2022-08-03T18:50:53.120713Z"
    },
    "papermill": {
     "duration": 0.322959,
     "end_time": "2022-08-03T18:50:53.124451",
     "exception": false,
     "start_time": "2022-08-03T18:50:52.801492",
     "status": "completed"
    },
    "tags": []
   },
   "outputs": [
    {
     "data": {
      "text/plain": [
       "<AxesSubplot:title={'center':'Without Outliers'}, xlabel='funded_amnt_inv'>"
      ]
     },
     "execution_count": 45,
     "metadata": {},
     "output_type": "execute_result"
    },
    {
     "data": {
      "image/png": "[encoded data removed]",
      "text/plain": [
       "<Figure size 1800x360 with 2 Axes>"
      ]
     },
     "metadata": {
      "needs_background": "light"
     },
     "output_type": "display_data"
    }
   ],
   "source": [
    "fig,axes=plt.subplots(1,2,figsize=(25,5))\n",
    "axes[0].set_title('With Outliers')\n",
    "axes[1].set_title('Without Outliers')\n",
    "sns.boxplot(df.funded_amnt_inv,ax=axes[0])\n",
    "sns.boxplot(df[df.funded_amnt_inv<26000].funded_amnt_inv,ax=axes[1])"
   ]
  },
  {
   "cell_type": "code",
   "execution_count": null,
   "id": "a40ac4e8",
   "metadata": {
    "papermill": {
     "duration": 0.015259,
     "end_time": "2022-08-03T18:50:53.155415",
     "exception": false,
     "start_time": "2022-08-03T18:50:53.140156",
     "status": "completed"
    },
    "tags": []
   },
   "outputs": [],
   "source": []
  }
 ],
 "metadata": {
  "kernelspec": {
   "display_name": "Python 3",
   "language": "python",
   "name": "python3"
  },
  "language_info": {
   "codemirror_mode": {
    "name": "ipython",
    "version": 3
   },
   "file_extension": ".py",
   "mimetype": "text/x-python",
   "name": "python",
   "nbconvert_exporter": "python",
   "pygments_lexer": "ipython3",
   "version": "3.7.12"
  },
  "papermill": {
   "default_parameters": {},
   "duration": 17.016655,
   "end_time": "2022-08-03T18:50:53.893568",
   "environment_variables": {},
   "exception": null,
   "input_path": "__notebook__.ipynb",
   "output_path": "__notebook__.ipynb",
   "parameters": {},
   "start_time": "2022-08-03T18:50:36.876913",
   "version": "2.3.4"
  }
 },
 "nbformat": 4,
 "nbformat_minor": 5
}
